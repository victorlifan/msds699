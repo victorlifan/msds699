{
 "cells": [
  {
   "cell_type": "markdown",
   "id": "2032378e",
   "metadata": {},
   "source": [
    "## Exam 1 for ML-lab\n",
    "In this exam you will be using Logistic regression with `L1` regularization to predict `income>50k` as a binary classification task."
   ]
  },
  {
   "cell_type": "code",
   "execution_count": 1,
   "id": "f2c9322c",
   "metadata": {},
   "outputs": [],
   "source": [
    "import pandas as pd\n",
    "import numpy as np"
   ]
  },
  {
   "cell_type": "code",
   "execution_count": 3,
   "id": "0272228b",
   "metadata": {},
   "outputs": [],
   "source": [
    "def unpack_dataset():\n",
    "    ! mkdir -p data\n",
    "    ! wget https://archive.ics.uci.edu/ml/machine-learning-databases/adult/adult.data\n",
    "    ! wget https://archive.ics.uci.edu/ml/machine-learning-databases/adult/adult.test\n",
    "    ! mv adult.* data"
   ]
  },
  {
   "cell_type": "code",
   "execution_count": 4,
   "id": "7addd23c",
   "metadata": {},
   "outputs": [
    {
     "name": "stdout",
     "output_type": "stream",
     "text": [
      "--2021-11-18 09:35:02--  https://archive.ics.uci.edu/ml/machine-learning-databases/adult/adult.data\n",
      "Resolving archive.ics.uci.edu (archive.ics.uci.edu)... 128.195.10.252\n",
      "Connecting to archive.ics.uci.edu (archive.ics.uci.edu)|128.195.10.252|:443... connected.\n",
      "HTTP request sent, awaiting response... 200 OK\n",
      "Length: 3974305 (3.8M) [application/x-httpd-php]\n",
      "Saving to: ‘adult.data’\n",
      "\n",
      "adult.data          100%[===================>]   3.79M  4.78MB/s    in 0.8s    \n",
      "\n",
      "2021-11-18 09:35:03 (4.78 MB/s) - ‘adult.data’ saved [3974305/3974305]\n",
      "\n",
      "--2021-11-18 09:35:03--  https://archive.ics.uci.edu/ml/machine-learning-databases/adult/adult.test\n",
      "Resolving archive.ics.uci.edu (archive.ics.uci.edu)... 128.195.10.252\n",
      "Connecting to archive.ics.uci.edu (archive.ics.uci.edu)|128.195.10.252|:443... connected.\n",
      "HTTP request sent, awaiting response... 200 OK\n",
      "Length: 2003153 (1.9M) [application/x-httpd-php]\n",
      "Saving to: ‘adult.test’\n",
      "\n",
      "adult.test          100%[===================>]   1.91M  1.41MB/s    in 1.4s    \n",
      "\n",
      "2021-11-18 09:35:05 (1.41 MB/s) - ‘adult.test’ saved [2003153/2003153]\n",
      "\n"
     ]
    }
   ],
   "source": [
    "unpack_dataset()"
   ]
  },
  {
   "cell_type": "code",
   "execution_count": 4,
   "id": "43534ffd",
   "metadata": {},
   "outputs": [],
   "source": [
    "cols_names = ['age','workclass','fnlwgt','education','education-num','marital-status',\n",
    "               'occupation','relationship','race', 'sex','capital-gain','capital-loss','hours-per-week',\n",
    "               'native-country', 'label']"
   ]
  },
  {
   "cell_type": "code",
   "execution_count": 5,
   "id": "ac3202ee",
   "metadata": {},
   "outputs": [],
   "source": [
    "train = pd.read_csv('data/adult.data', names=cols_names, skipinitialspace=True)\n",
    "test = pd.read_csv('data/adult.test', names=cols_names, skiprows=[0], skipinitialspace=True)"
   ]
  },
  {
   "cell_type": "code",
   "execution_count": 6,
   "id": "ac94d237",
   "metadata": {},
   "outputs": [],
   "source": [
    "train[\"label\"] = np.array([1 if y==\">50K\" else 0 for y in train.label.values])\n",
    "test[\"label\"] = np.array([1 if y==\">50K.\" else 0 for y in test.label.values])"
   ]
  },
  {
   "cell_type": "code",
   "execution_count": 7,
   "id": "f5baf57b",
   "metadata": {},
   "outputs": [],
   "source": [
    "train = train.sample(frac=1, random_state=0).reset_index(drop=True)"
   ]
  },
  {
   "cell_type": "code",
   "execution_count": 8,
   "id": "a32bc99b",
   "metadata": {},
   "outputs": [
    {
     "data": {
      "text/html": [
       "<div>\n",
       "<style scoped>\n",
       "    .dataframe tbody tr th:only-of-type {\n",
       "        vertical-align: middle;\n",
       "    }\n",
       "\n",
       "    .dataframe tbody tr th {\n",
       "        vertical-align: top;\n",
       "    }\n",
       "\n",
       "    .dataframe thead th {\n",
       "        text-align: right;\n",
       "    }\n",
       "</style>\n",
       "<table border=\"1\" class=\"dataframe\">\n",
       "  <thead>\n",
       "    <tr style=\"text-align: right;\">\n",
       "      <th></th>\n",
       "      <th>age</th>\n",
       "      <th>workclass</th>\n",
       "      <th>fnlwgt</th>\n",
       "      <th>education</th>\n",
       "      <th>education-num</th>\n",
       "      <th>marital-status</th>\n",
       "      <th>occupation</th>\n",
       "      <th>relationship</th>\n",
       "      <th>race</th>\n",
       "      <th>sex</th>\n",
       "      <th>capital-gain</th>\n",
       "      <th>capital-loss</th>\n",
       "      <th>hours-per-week</th>\n",
       "      <th>native-country</th>\n",
       "      <th>label</th>\n",
       "    </tr>\n",
       "  </thead>\n",
       "  <tbody>\n",
       "    <tr>\n",
       "      <th>0</th>\n",
       "      <td>27</td>\n",
       "      <td>Private</td>\n",
       "      <td>177119</td>\n",
       "      <td>Some-college</td>\n",
       "      <td>10</td>\n",
       "      <td>Divorced</td>\n",
       "      <td>Adm-clerical</td>\n",
       "      <td>Unmarried</td>\n",
       "      <td>White</td>\n",
       "      <td>Female</td>\n",
       "      <td>0</td>\n",
       "      <td>0</td>\n",
       "      <td>44</td>\n",
       "      <td>United-States</td>\n",
       "      <td>0</td>\n",
       "    </tr>\n",
       "    <tr>\n",
       "      <th>1</th>\n",
       "      <td>27</td>\n",
       "      <td>Private</td>\n",
       "      <td>216481</td>\n",
       "      <td>Bachelors</td>\n",
       "      <td>13</td>\n",
       "      <td>Never-married</td>\n",
       "      <td>Prof-specialty</td>\n",
       "      <td>Not-in-family</td>\n",
       "      <td>White</td>\n",
       "      <td>Female</td>\n",
       "      <td>0</td>\n",
       "      <td>0</td>\n",
       "      <td>40</td>\n",
       "      <td>United-States</td>\n",
       "      <td>0</td>\n",
       "    </tr>\n",
       "    <tr>\n",
       "      <th>2</th>\n",
       "      <td>25</td>\n",
       "      <td>Private</td>\n",
       "      <td>256263</td>\n",
       "      <td>Assoc-acdm</td>\n",
       "      <td>12</td>\n",
       "      <td>Married-civ-spouse</td>\n",
       "      <td>Sales</td>\n",
       "      <td>Husband</td>\n",
       "      <td>White</td>\n",
       "      <td>Male</td>\n",
       "      <td>0</td>\n",
       "      <td>0</td>\n",
       "      <td>40</td>\n",
       "      <td>United-States</td>\n",
       "      <td>0</td>\n",
       "    </tr>\n",
       "    <tr>\n",
       "      <th>3</th>\n",
       "      <td>46</td>\n",
       "      <td>Private</td>\n",
       "      <td>147640</td>\n",
       "      <td>5th-6th</td>\n",
       "      <td>3</td>\n",
       "      <td>Married-civ-spouse</td>\n",
       "      <td>Transport-moving</td>\n",
       "      <td>Husband</td>\n",
       "      <td>Amer-Indian-Eskimo</td>\n",
       "      <td>Male</td>\n",
       "      <td>0</td>\n",
       "      <td>1902</td>\n",
       "      <td>40</td>\n",
       "      <td>United-States</td>\n",
       "      <td>0</td>\n",
       "    </tr>\n",
       "    <tr>\n",
       "      <th>4</th>\n",
       "      <td>45</td>\n",
       "      <td>Private</td>\n",
       "      <td>172822</td>\n",
       "      <td>11th</td>\n",
       "      <td>7</td>\n",
       "      <td>Divorced</td>\n",
       "      <td>Transport-moving</td>\n",
       "      <td>Not-in-family</td>\n",
       "      <td>White</td>\n",
       "      <td>Male</td>\n",
       "      <td>0</td>\n",
       "      <td>2824</td>\n",
       "      <td>76</td>\n",
       "      <td>United-States</td>\n",
       "      <td>1</td>\n",
       "    </tr>\n",
       "  </tbody>\n",
       "</table>\n",
       "</div>"
      ],
      "text/plain": [
       "   age workclass  fnlwgt     education  education-num      marital-status  \\\n",
       "0   27   Private  177119  Some-college             10            Divorced   \n",
       "1   27   Private  216481     Bachelors             13       Never-married   \n",
       "2   25   Private  256263    Assoc-acdm             12  Married-civ-spouse   \n",
       "3   46   Private  147640       5th-6th              3  Married-civ-spouse   \n",
       "4   45   Private  172822          11th              7            Divorced   \n",
       "\n",
       "         occupation   relationship                race     sex  capital-gain  \\\n",
       "0      Adm-clerical      Unmarried               White  Female             0   \n",
       "1    Prof-specialty  Not-in-family               White  Female             0   \n",
       "2             Sales        Husband               White    Male             0   \n",
       "3  Transport-moving        Husband  Amer-Indian-Eskimo    Male             0   \n",
       "4  Transport-moving  Not-in-family               White    Male             0   \n",
       "\n",
       "   capital-loss  hours-per-week native-country  label  \n",
       "0             0              44  United-States      0  \n",
       "1             0              40  United-States      0  \n",
       "2             0              40  United-States      0  \n",
       "3          1902              40  United-States      0  \n",
       "4          2824              76  United-States      1  "
      ]
     },
     "execution_count": 8,
     "metadata": {},
     "output_type": "execute_result"
    }
   ],
   "source": [
    "train.head()"
   ]
  },
  {
   "cell_type": "markdown",
   "id": "f4b63f94",
   "metadata": {},
   "source": [
    "## 1. Encode variables for logistic regression\n",
    "Consider `age, fnlwgt, capital-gain, capital-loss, hours-per-week` as continuous variables and anything else as categorical. Ignore the column `'education-num'`."
   ]
  },
  {
   "cell_type": "code",
   "execution_count": 9,
   "id": "23f937eb",
   "metadata": {},
   "outputs": [],
   "source": [
    "continuous_vals = ['age', 'fnlwgt', 'capital-gain', 'capital-loss', 'hours-per-week']"
   ]
  },
  {
   "cell_type": "code",
   "execution_count": 10,
   "id": "67bb1a78",
   "metadata": {},
   "outputs": [],
   "source": [
    "cat_vars = ['workclass', 'education', 'marital-status', 'occupation','relationship','race', 'sex', 'native-country']"
   ]
  },
  {
   "cell_type": "code",
   "execution_count": null,
   "id": "1935127f",
   "metadata": {},
   "outputs": [],
   "source": []
  },
  {
   "cell_type": "markdown",
   "id": "ba1e7e61",
   "metadata": {},
   "source": [
    "## 2. Model selection \n",
    "Use `cross-validation k=3` to select the appropiate level of regularization for a logistic regression model with `L1` penalty. Consider the following values of the penalization constant [0.01, 0.1, 1, 10, 100]. Use `roc_auc_score` as your metric. "
   ]
  },
  {
   "cell_type": "code",
   "execution_count": 20,
   "id": "b9f85bf0",
   "metadata": {},
   "outputs": [],
   "source": [
    "alphas = [0.01, 0.1, 1, 10, 100]"
   ]
  },
  {
   "cell_type": "code",
   "execution_count": null,
   "id": "b8360ddf",
   "metadata": {},
   "outputs": [],
   "source": []
  },
  {
   "cell_type": "markdown",
   "id": "857a8e91",
   "metadata": {},
   "source": [
    "## 3. What is the roc_auc_score on the test set?\n",
    "Retrain on the whole training data using the best penalty and compute `roc_auc_score` on the test set."
   ]
  },
  {
   "cell_type": "markdown",
   "id": "f89cbe01",
   "metadata": {},
   "source": [
    "## 4. How many variables is logistic regression setting to 0? "
   ]
  },
  {
   "cell_type": "code",
   "execution_count": null,
   "id": "16f74318",
   "metadata": {},
   "outputs": [],
   "source": []
  }
 ],
 "metadata": {
  "kernelspec": {
   "display_name": "Python 3 (ipykernel)",
   "language": "python",
   "name": "python3"
  },
  "language_info": {
   "codemirror_mode": {
    "name": "ipython",
    "version": 3
   },
   "file_extension": ".py",
   "mimetype": "text/x-python",
   "name": "python",
   "nbconvert_exporter": "python",
   "pygments_lexer": "ipython3",
   "version": "3.8.12"
  }
 },
 "nbformat": 4,
 "nbformat_minor": 5
}
