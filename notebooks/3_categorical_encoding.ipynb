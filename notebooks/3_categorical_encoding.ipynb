{
 "cells": [
  {
   "cell_type": "markdown",
   "id": "8fb022c0",
   "metadata": {},
   "source": [
    "# Exploring categorical encodings"
   ]
  },
  {
   "cell_type": "code",
   "execution_count": 35,
   "id": "92ab1a26",
   "metadata": {},
   "outputs": [],
   "source": [
    "import numpy as np\n",
    "import pandas as pd\n",
    "import matplotlib.pyplot as plt\n",
    "from sklearn.model_selection import train_test_split"
   ]
  },
  {
   "cell_type": "markdown",
   "id": "1fce497f",
   "metadata": {},
   "source": [
    "## Getting data from Kaggle using the API"
   ]
  },
  {
   "cell_type": "markdown",
   "id": "62d8206e",
   "metadata": {},
   "source": [
    "1. pip install kaggle \n",
    "2. read https://www.kaggle.com/docs/api\n",
    "3. acept the rules https://www.kaggle.com/c/cat-in-the-dat/data\n",
    "4. kaggle competitions download -c cat-in-the-dat\n",
    "5. unzip cat-in-the-dat.zip "
   ]
  },
  {
   "cell_type": "code",
   "execution_count": 36,
   "id": "ba6435c5",
   "metadata": {},
   "outputs": [],
   "source": [
    "df = pd.read_csv(\"train.csv\")"
   ]
  },
  {
   "cell_type": "code",
   "execution_count": 37,
   "id": "0db17222",
   "metadata": {},
   "outputs": [
    {
     "data": {
      "text/html": [
       "<div>\n",
       "<style scoped>\n",
       "    .dataframe tbody tr th:only-of-type {\n",
       "        vertical-align: middle;\n",
       "    }\n",
       "\n",
       "    .dataframe tbody tr th {\n",
       "        vertical-align: top;\n",
       "    }\n",
       "\n",
       "    .dataframe thead th {\n",
       "        text-align: right;\n",
       "    }\n",
       "</style>\n",
       "<table border=\"1\" class=\"dataframe\">\n",
       "  <thead>\n",
       "    <tr style=\"text-align: right;\">\n",
       "      <th></th>\n",
       "      <th>id</th>\n",
       "      <th>bin_0</th>\n",
       "      <th>bin_1</th>\n",
       "      <th>bin_2</th>\n",
       "      <th>bin_3</th>\n",
       "      <th>bin_4</th>\n",
       "      <th>nom_0</th>\n",
       "      <th>nom_1</th>\n",
       "      <th>nom_2</th>\n",
       "      <th>nom_3</th>\n",
       "      <th>...</th>\n",
       "      <th>nom_9</th>\n",
       "      <th>ord_0</th>\n",
       "      <th>ord_1</th>\n",
       "      <th>ord_2</th>\n",
       "      <th>ord_3</th>\n",
       "      <th>ord_4</th>\n",
       "      <th>ord_5</th>\n",
       "      <th>day</th>\n",
       "      <th>month</th>\n",
       "      <th>target</th>\n",
       "    </tr>\n",
       "  </thead>\n",
       "  <tbody>\n",
       "    <tr>\n",
       "      <th>0</th>\n",
       "      <td>0</td>\n",
       "      <td>0</td>\n",
       "      <td>0</td>\n",
       "      <td>0</td>\n",
       "      <td>T</td>\n",
       "      <td>Y</td>\n",
       "      <td>Green</td>\n",
       "      <td>Triangle</td>\n",
       "      <td>Snake</td>\n",
       "      <td>Finland</td>\n",
       "      <td>...</td>\n",
       "      <td>2f4cb3d51</td>\n",
       "      <td>2</td>\n",
       "      <td>Grandmaster</td>\n",
       "      <td>Cold</td>\n",
       "      <td>h</td>\n",
       "      <td>D</td>\n",
       "      <td>kr</td>\n",
       "      <td>2</td>\n",
       "      <td>2</td>\n",
       "      <td>0</td>\n",
       "    </tr>\n",
       "    <tr>\n",
       "      <th>1</th>\n",
       "      <td>1</td>\n",
       "      <td>0</td>\n",
       "      <td>1</td>\n",
       "      <td>0</td>\n",
       "      <td>T</td>\n",
       "      <td>Y</td>\n",
       "      <td>Green</td>\n",
       "      <td>Trapezoid</td>\n",
       "      <td>Hamster</td>\n",
       "      <td>Russia</td>\n",
       "      <td>...</td>\n",
       "      <td>f83c56c21</td>\n",
       "      <td>1</td>\n",
       "      <td>Grandmaster</td>\n",
       "      <td>Hot</td>\n",
       "      <td>a</td>\n",
       "      <td>A</td>\n",
       "      <td>bF</td>\n",
       "      <td>7</td>\n",
       "      <td>8</td>\n",
       "      <td>0</td>\n",
       "    </tr>\n",
       "    <tr>\n",
       "      <th>2</th>\n",
       "      <td>2</td>\n",
       "      <td>0</td>\n",
       "      <td>0</td>\n",
       "      <td>0</td>\n",
       "      <td>F</td>\n",
       "      <td>Y</td>\n",
       "      <td>Blue</td>\n",
       "      <td>Trapezoid</td>\n",
       "      <td>Lion</td>\n",
       "      <td>Russia</td>\n",
       "      <td>...</td>\n",
       "      <td>ae6800dd0</td>\n",
       "      <td>1</td>\n",
       "      <td>Expert</td>\n",
       "      <td>Lava Hot</td>\n",
       "      <td>h</td>\n",
       "      <td>R</td>\n",
       "      <td>Jc</td>\n",
       "      <td>7</td>\n",
       "      <td>2</td>\n",
       "      <td>0</td>\n",
       "    </tr>\n",
       "    <tr>\n",
       "      <th>3</th>\n",
       "      <td>3</td>\n",
       "      <td>0</td>\n",
       "      <td>1</td>\n",
       "      <td>0</td>\n",
       "      <td>F</td>\n",
       "      <td>Y</td>\n",
       "      <td>Red</td>\n",
       "      <td>Trapezoid</td>\n",
       "      <td>Snake</td>\n",
       "      <td>Canada</td>\n",
       "      <td>...</td>\n",
       "      <td>8270f0d71</td>\n",
       "      <td>1</td>\n",
       "      <td>Grandmaster</td>\n",
       "      <td>Boiling Hot</td>\n",
       "      <td>i</td>\n",
       "      <td>D</td>\n",
       "      <td>kW</td>\n",
       "      <td>2</td>\n",
       "      <td>1</td>\n",
       "      <td>1</td>\n",
       "    </tr>\n",
       "    <tr>\n",
       "      <th>4</th>\n",
       "      <td>4</td>\n",
       "      <td>0</td>\n",
       "      <td>0</td>\n",
       "      <td>0</td>\n",
       "      <td>F</td>\n",
       "      <td>N</td>\n",
       "      <td>Red</td>\n",
       "      <td>Trapezoid</td>\n",
       "      <td>Lion</td>\n",
       "      <td>Canada</td>\n",
       "      <td>...</td>\n",
       "      <td>b164b72a7</td>\n",
       "      <td>1</td>\n",
       "      <td>Grandmaster</td>\n",
       "      <td>Freezing</td>\n",
       "      <td>a</td>\n",
       "      <td>R</td>\n",
       "      <td>qP</td>\n",
       "      <td>7</td>\n",
       "      <td>8</td>\n",
       "      <td>0</td>\n",
       "    </tr>\n",
       "  </tbody>\n",
       "</table>\n",
       "<p>5 rows × 25 columns</p>\n",
       "</div>"
      ],
      "text/plain": [
       "   id  bin_0  bin_1  bin_2 bin_3 bin_4  nom_0      nom_1    nom_2    nom_3  \\\n",
       "0   0      0      0      0     T     Y  Green   Triangle    Snake  Finland   \n",
       "1   1      0      1      0     T     Y  Green  Trapezoid  Hamster   Russia   \n",
       "2   2      0      0      0     F     Y   Blue  Trapezoid     Lion   Russia   \n",
       "3   3      0      1      0     F     Y    Red  Trapezoid    Snake   Canada   \n",
       "4   4      0      0      0     F     N    Red  Trapezoid     Lion   Canada   \n",
       "\n",
       "   ...      nom_9 ord_0        ord_1        ord_2 ord_3 ord_4  ord_5 day  \\\n",
       "0  ...  2f4cb3d51     2  Grandmaster         Cold     h     D     kr   2   \n",
       "1  ...  f83c56c21     1  Grandmaster          Hot     a     A     bF   7   \n",
       "2  ...  ae6800dd0     1       Expert     Lava Hot     h     R     Jc   7   \n",
       "3  ...  8270f0d71     1  Grandmaster  Boiling Hot     i     D     kW   2   \n",
       "4  ...  b164b72a7     1  Grandmaster     Freezing     a     R     qP   7   \n",
       "\n",
       "  month target  \n",
       "0     2      0  \n",
       "1     8      0  \n",
       "2     2      0  \n",
       "3     1      1  \n",
       "4     8      0  \n",
       "\n",
       "[5 rows x 25 columns]"
      ]
     },
     "execution_count": 37,
     "metadata": {},
     "output_type": "execute_result"
    }
   ],
   "source": [
    "df.head()"
   ]
  },
  {
   "cell_type": "markdown",
   "id": "2c4954e0",
   "metadata": {},
   "source": [
    "\"The data contains binary features (bin_*), nominal features (nom_*), ordinal features (ord_*) as well as (potentially cyclical) day (of the week) and month features. The string ordinal features ord_{3-5} are lexically ordered according to string.ascii_letters.\""
   ]
  },
  {
   "cell_type": "code",
   "execution_count": 38,
   "id": "9505f683",
   "metadata": {},
   "outputs": [
    {
     "data": {
      "text/plain": [
       "(300000, 25)"
      ]
     },
     "execution_count": 38,
     "metadata": {},
     "output_type": "execute_result"
    }
   ],
   "source": [
    "df.shape"
   ]
  },
  {
   "cell_type": "markdown",
   "id": "f95b27cc",
   "metadata": {},
   "source": [
    "### EDA"
   ]
  },
  {
   "cell_type": "code",
   "execution_count": 39,
   "id": "b6338e11",
   "metadata": {},
   "outputs": [],
   "source": [
    "Y = df.target.values\n",
    "X = df.drop(columns=['target'])\n",
    "x_train, x_val, y_train, y_val = train_test_split(X, Y, test_size=0.2, \n",
    "                                                    random_state=3)"
   ]
  },
  {
   "cell_type": "code",
   "execution_count": 40,
   "id": "3ac6e5f4",
   "metadata": {},
   "outputs": [
    {
     "data": {
      "text/plain": [
       "(240000, 24)"
      ]
     },
     "execution_count": 40,
     "metadata": {},
     "output_type": "execute_result"
    }
   ],
   "source": [
    "x_train.shape"
   ]
  },
  {
   "cell_type": "code",
   "execution_count": 41,
   "id": "36d86b9c",
   "metadata": {},
   "outputs": [
    {
     "data": {
      "text/html": [
       "<div>\n",
       "<style scoped>\n",
       "    .dataframe tbody tr th:only-of-type {\n",
       "        vertical-align: middle;\n",
       "    }\n",
       "\n",
       "    .dataframe tbody tr th {\n",
       "        vertical-align: top;\n",
       "    }\n",
       "\n",
       "    .dataframe thead th {\n",
       "        text-align: right;\n",
       "    }\n",
       "</style>\n",
       "<table border=\"1\" class=\"dataframe\">\n",
       "  <thead>\n",
       "    <tr style=\"text-align: right;\">\n",
       "      <th></th>\n",
       "      <th>id</th>\n",
       "      <th>bin_0</th>\n",
       "      <th>bin_1</th>\n",
       "      <th>bin_2</th>\n",
       "      <th>ord_0</th>\n",
       "      <th>day</th>\n",
       "      <th>month</th>\n",
       "    </tr>\n",
       "  </thead>\n",
       "  <tbody>\n",
       "    <tr>\n",
       "      <th>count</th>\n",
       "      <td>240000.000000</td>\n",
       "      <td>240000.000000</td>\n",
       "      <td>240000.000000</td>\n",
       "      <td>240000.000000</td>\n",
       "      <td>240000.000000</td>\n",
       "      <td>240000.000000</td>\n",
       "      <td>240000.000000</td>\n",
       "    </tr>\n",
       "    <tr>\n",
       "      <th>mean</th>\n",
       "      <td>150067.711688</td>\n",
       "      <td>0.127337</td>\n",
       "      <td>0.256221</td>\n",
       "      <td>0.383258</td>\n",
       "      <td>1.479213</td>\n",
       "      <td>3.005562</td>\n",
       "      <td>5.771850</td>\n",
       "    </tr>\n",
       "    <tr>\n",
       "      <th>std</th>\n",
       "      <td>86601.303141</td>\n",
       "      <td>0.333351</td>\n",
       "      <td>0.436546</td>\n",
       "      <td>0.486181</td>\n",
       "      <td>0.712299</td>\n",
       "      <td>1.816380</td>\n",
       "      <td>3.843278</td>\n",
       "    </tr>\n",
       "    <tr>\n",
       "      <th>min</th>\n",
       "      <td>1.000000</td>\n",
       "      <td>0.000000</td>\n",
       "      <td>0.000000</td>\n",
       "      <td>0.000000</td>\n",
       "      <td>1.000000</td>\n",
       "      <td>1.000000</td>\n",
       "      <td>1.000000</td>\n",
       "    </tr>\n",
       "    <tr>\n",
       "      <th>25%</th>\n",
       "      <td>75061.500000</td>\n",
       "      <td>0.000000</td>\n",
       "      <td>0.000000</td>\n",
       "      <td>0.000000</td>\n",
       "      <td>1.000000</td>\n",
       "      <td>2.000000</td>\n",
       "      <td>2.000000</td>\n",
       "    </tr>\n",
       "    <tr>\n",
       "      <th>50%</th>\n",
       "      <td>150142.500000</td>\n",
       "      <td>0.000000</td>\n",
       "      <td>0.000000</td>\n",
       "      <td>0.000000</td>\n",
       "      <td>1.000000</td>\n",
       "      <td>3.000000</td>\n",
       "      <td>4.000000</td>\n",
       "    </tr>\n",
       "    <tr>\n",
       "      <th>75%</th>\n",
       "      <td>225034.250000</td>\n",
       "      <td>0.000000</td>\n",
       "      <td>1.000000</td>\n",
       "      <td>1.000000</td>\n",
       "      <td>2.000000</td>\n",
       "      <td>4.000000</td>\n",
       "      <td>9.000000</td>\n",
       "    </tr>\n",
       "    <tr>\n",
       "      <th>max</th>\n",
       "      <td>299998.000000</td>\n",
       "      <td>1.000000</td>\n",
       "      <td>1.000000</td>\n",
       "      <td>1.000000</td>\n",
       "      <td>3.000000</td>\n",
       "      <td>7.000000</td>\n",
       "      <td>12.000000</td>\n",
       "    </tr>\n",
       "  </tbody>\n",
       "</table>\n",
       "</div>"
      ],
      "text/plain": [
       "                  id          bin_0          bin_1          bin_2  \\\n",
       "count  240000.000000  240000.000000  240000.000000  240000.000000   \n",
       "mean   150067.711688       0.127337       0.256221       0.383258   \n",
       "std     86601.303141       0.333351       0.436546       0.486181   \n",
       "min         1.000000       0.000000       0.000000       0.000000   \n",
       "25%     75061.500000       0.000000       0.000000       0.000000   \n",
       "50%    150142.500000       0.000000       0.000000       0.000000   \n",
       "75%    225034.250000       0.000000       1.000000       1.000000   \n",
       "max    299998.000000       1.000000       1.000000       1.000000   \n",
       "\n",
       "               ord_0            day          month  \n",
       "count  240000.000000  240000.000000  240000.000000  \n",
       "mean        1.479213       3.005562       5.771850  \n",
       "std         0.712299       1.816380       3.843278  \n",
       "min         1.000000       1.000000       1.000000  \n",
       "25%         1.000000       2.000000       2.000000  \n",
       "50%         1.000000       3.000000       4.000000  \n",
       "75%         2.000000       4.000000       9.000000  \n",
       "max         3.000000       7.000000      12.000000  "
      ]
     },
     "execution_count": 41,
     "metadata": {},
     "output_type": "execute_result"
    }
   ],
   "source": [
    "x_train.describe()"
   ]
  },
  {
   "cell_type": "markdown",
   "id": "342141a6",
   "metadata": {},
   "source": [
    "`id` is not useful for prediction"
   ]
  },
  {
   "cell_type": "code",
   "execution_count": 42,
   "id": "8e82f9bf",
   "metadata": {},
   "outputs": [
    {
     "data": {
      "text/html": [
       "<div>\n",
       "<style scoped>\n",
       "    .dataframe tbody tr th:only-of-type {\n",
       "        vertical-align: middle;\n",
       "    }\n",
       "\n",
       "    .dataframe tbody tr th {\n",
       "        vertical-align: top;\n",
       "    }\n",
       "\n",
       "    .dataframe thead th {\n",
       "        text-align: right;\n",
       "    }\n",
       "</style>\n",
       "<table border=\"1\" class=\"dataframe\">\n",
       "  <thead>\n",
       "    <tr style=\"text-align: right;\">\n",
       "      <th></th>\n",
       "      <th>bin_0</th>\n",
       "      <th>bin_1</th>\n",
       "      <th>bin_2</th>\n",
       "      <th>bin_3</th>\n",
       "      <th>bin_4</th>\n",
       "      <th>nom_0</th>\n",
       "      <th>nom_1</th>\n",
       "      <th>nom_2</th>\n",
       "      <th>nom_3</th>\n",
       "      <th>nom_4</th>\n",
       "      <th>...</th>\n",
       "      <th>nom_8</th>\n",
       "      <th>nom_9</th>\n",
       "      <th>ord_0</th>\n",
       "      <th>ord_1</th>\n",
       "      <th>ord_2</th>\n",
       "      <th>ord_3</th>\n",
       "      <th>ord_4</th>\n",
       "      <th>ord_5</th>\n",
       "      <th>day</th>\n",
       "      <th>month</th>\n",
       "    </tr>\n",
       "  </thead>\n",
       "  <tbody>\n",
       "    <tr>\n",
       "      <th>247601</th>\n",
       "      <td>0</td>\n",
       "      <td>0</td>\n",
       "      <td>1</td>\n",
       "      <td>F</td>\n",
       "      <td>Y</td>\n",
       "      <td>Blue</td>\n",
       "      <td>Triangle</td>\n",
       "      <td>Snake</td>\n",
       "      <td>Russia</td>\n",
       "      <td>Oboe</td>\n",
       "      <td>...</td>\n",
       "      <td>4a54418e6</td>\n",
       "      <td>c15b9aff6</td>\n",
       "      <td>1</td>\n",
       "      <td>Grandmaster</td>\n",
       "      <td>Lava Hot</td>\n",
       "      <td>l</td>\n",
       "      <td>W</td>\n",
       "      <td>RG</td>\n",
       "      <td>2</td>\n",
       "      <td>1</td>\n",
       "    </tr>\n",
       "    <tr>\n",
       "      <th>225468</th>\n",
       "      <td>0</td>\n",
       "      <td>1</td>\n",
       "      <td>0</td>\n",
       "      <td>T</td>\n",
       "      <td>Y</td>\n",
       "      <td>Blue</td>\n",
       "      <td>Square</td>\n",
       "      <td>Hamster</td>\n",
       "      <td>Canada</td>\n",
       "      <td>Bassoon</td>\n",
       "      <td>...</td>\n",
       "      <td>7b082c8a0</td>\n",
       "      <td>5a2461910</td>\n",
       "      <td>1</td>\n",
       "      <td>Novice</td>\n",
       "      <td>Cold</td>\n",
       "      <td>i</td>\n",
       "      <td>Z</td>\n",
       "      <td>Fd</td>\n",
       "      <td>3</td>\n",
       "      <td>9</td>\n",
       "    </tr>\n",
       "    <tr>\n",
       "      <th>276268</th>\n",
       "      <td>0</td>\n",
       "      <td>0</td>\n",
       "      <td>0</td>\n",
       "      <td>F</td>\n",
       "      <td>N</td>\n",
       "      <td>Blue</td>\n",
       "      <td>Triangle</td>\n",
       "      <td>Lion</td>\n",
       "      <td>China</td>\n",
       "      <td>Oboe</td>\n",
       "      <td>...</td>\n",
       "      <td>1c6ab243e</td>\n",
       "      <td>f106759a1</td>\n",
       "      <td>2</td>\n",
       "      <td>Master</td>\n",
       "      <td>Freezing</td>\n",
       "      <td>f</td>\n",
       "      <td>Z</td>\n",
       "      <td>jS</td>\n",
       "      <td>2</td>\n",
       "      <td>4</td>\n",
       "    </tr>\n",
       "    <tr>\n",
       "      <th>148600</th>\n",
       "      <td>0</td>\n",
       "      <td>0</td>\n",
       "      <td>0</td>\n",
       "      <td>T</td>\n",
       "      <td>Y</td>\n",
       "      <td>Blue</td>\n",
       "      <td>Circle</td>\n",
       "      <td>Snake</td>\n",
       "      <td>Russia</td>\n",
       "      <td>Oboe</td>\n",
       "      <td>...</td>\n",
       "      <td>714157447</td>\n",
       "      <td>4cbc1c1d1</td>\n",
       "      <td>2</td>\n",
       "      <td>Contributor</td>\n",
       "      <td>Lava Hot</td>\n",
       "      <td>l</td>\n",
       "      <td>E</td>\n",
       "      <td>qX</td>\n",
       "      <td>2</td>\n",
       "      <td>8</td>\n",
       "    </tr>\n",
       "    <tr>\n",
       "      <th>221915</th>\n",
       "      <td>0</td>\n",
       "      <td>0</td>\n",
       "      <td>0</td>\n",
       "      <td>T</td>\n",
       "      <td>Y</td>\n",
       "      <td>Blue</td>\n",
       "      <td>Square</td>\n",
       "      <td>Hamster</td>\n",
       "      <td>India</td>\n",
       "      <td>Piano</td>\n",
       "      <td>...</td>\n",
       "      <td>fe6b03253</td>\n",
       "      <td>4c59ba502</td>\n",
       "      <td>1</td>\n",
       "      <td>Novice</td>\n",
       "      <td>Boiling Hot</td>\n",
       "      <td>e</td>\n",
       "      <td>S</td>\n",
       "      <td>zU</td>\n",
       "      <td>1</td>\n",
       "      <td>9</td>\n",
       "    </tr>\n",
       "  </tbody>\n",
       "</table>\n",
       "<p>5 rows × 23 columns</p>\n",
       "</div>"
      ],
      "text/plain": [
       "        bin_0  bin_1  bin_2 bin_3 bin_4 nom_0     nom_1    nom_2   nom_3  \\\n",
       "247601      0      0      1     F     Y  Blue  Triangle    Snake  Russia   \n",
       "225468      0      1      0     T     Y  Blue    Square  Hamster  Canada   \n",
       "276268      0      0      0     F     N  Blue  Triangle     Lion   China   \n",
       "148600      0      0      0     T     Y  Blue    Circle    Snake  Russia   \n",
       "221915      0      0      0     T     Y  Blue    Square  Hamster   India   \n",
       "\n",
       "          nom_4  ...      nom_8      nom_9 ord_0        ord_1        ord_2  \\\n",
       "247601     Oboe  ...  4a54418e6  c15b9aff6     1  Grandmaster     Lava Hot   \n",
       "225468  Bassoon  ...  7b082c8a0  5a2461910     1       Novice         Cold   \n",
       "276268     Oboe  ...  1c6ab243e  f106759a1     2       Master     Freezing   \n",
       "148600     Oboe  ...  714157447  4cbc1c1d1     2  Contributor     Lava Hot   \n",
       "221915    Piano  ...  fe6b03253  4c59ba502     1       Novice  Boiling Hot   \n",
       "\n",
       "        ord_3 ord_4 ord_5 day month  \n",
       "247601      l     W    RG   2     1  \n",
       "225468      i     Z    Fd   3     9  \n",
       "276268      f     Z    jS   2     4  \n",
       "148600      l     E    qX   2     8  \n",
       "221915      e     S    zU   1     9  \n",
       "\n",
       "[5 rows x 23 columns]"
      ]
     },
     "execution_count": 42,
     "metadata": {},
     "output_type": "execute_result"
    }
   ],
   "source": [
    "x_train = x_train.drop(columns=['id'])\n",
    "x_val = x_val.drop(columns=['id'])\n",
    "x_train.head()"
   ]
  },
  {
   "cell_type": "markdown",
   "id": "45ba2996",
   "metadata": {},
   "source": [
    "`bin_0` has 75% quantile 0. Let's look more closely "
   ]
  },
  {
   "cell_type": "code",
   "execution_count": 46,
   "id": "81d4df9d",
   "metadata": {},
   "outputs": [
    {
     "data": {
      "text/plain": [
       "array([0., 0., 0., 1., 1., 1.])"
      ]
     },
     "execution_count": 46,
     "metadata": {},
     "output_type": "execute_result"
    }
   ],
   "source": [
    "np.quantile(x_train.bin_0.values, [0.75, 0.8, 0.85, 0.88, 0.90, 0.99], axis=0)"
   ]
  },
  {
   "cell_type": "code",
   "execution_count": 49,
   "id": "57244cb5",
   "metadata": {},
   "outputs": [
    {
     "data": {
      "text/plain": [
       "0    0.872663\n",
       "1    0.127337\n",
       "Name: bin_0, dtype: float64"
      ]
     },
     "execution_count": 49,
     "metadata": {},
     "output_type": "execute_result"
    }
   ],
   "source": [
    "x_train.bin_0.value_counts()/x_train.shape[0]"
   ]
  },
  {
   "cell_type": "markdown",
   "id": "178155c4",
   "metadata": {},
   "source": [
    "approx 87% of the data are is 0. I will keep it for now but maybe is not that useful. Let's now look at the target."
   ]
  },
  {
   "cell_type": "code",
   "execution_count": 53,
   "id": "0d0a301a",
   "metadata": {},
   "outputs": [
    {
     "data": {
      "text/plain": [
       "(array([0, 1]), array([166519,  73481]))"
      ]
     },
     "execution_count": 53,
     "metadata": {},
     "output_type": "execute_result"
    }
   ],
   "source": [
    "unique, counts = np.unique(y_train, return_counts=True)\n",
    "unique, counts"
   ]
  },
  {
   "cell_type": "code",
   "execution_count": 54,
   "id": "47f71b2c",
   "metadata": {},
   "outputs": [
    {
     "data": {
      "text/plain": [
       "array([0.69382917, 0.30617083])"
      ]
     },
     "execution_count": 54,
     "metadata": {},
     "output_type": "execute_result"
    }
   ],
   "source": [
    "counts/counts.sum()"
   ]
  },
  {
   "cell_type": "markdown",
   "id": "b9b279cd",
   "metadata": {},
   "source": [
    "30% of the targets are 1s. A little imbalance but not a big deal. We will be using AUC as a metric instead of accuracy."
   ]
  },
  {
   "cell_type": "markdown",
   "id": "290a0c8c",
   "metadata": {},
   "source": [
    "Now let's look at how many unique values each features has."
   ]
  },
  {
   "cell_type": "code",
   "execution_count": 85,
   "id": "4986c6fe",
   "metadata": {},
   "outputs": [
    {
     "data": {
      "text/plain": [
       "{'bin_0': 2,\n",
       " 'bin_1': 2,\n",
       " 'bin_2': 2,\n",
       " 'bin_3': 2,\n",
       " 'bin_4': 2,\n",
       " 'nom_0': 3,\n",
       " 'nom_1': 6,\n",
       " 'nom_2': 6,\n",
       " 'nom_3': 6,\n",
       " 'nom_4': 4,\n",
       " 'nom_5': 222,\n",
       " 'nom_6': 522,\n",
       " 'nom_7': 1220,\n",
       " 'nom_8': 2214,\n",
       " 'nom_9': 11916,\n",
       " 'ord_0': 3,\n",
       " 'ord_1': 5,\n",
       " 'ord_2': 6,\n",
       " 'ord_3': 15,\n",
       " 'ord_4': 26,\n",
       " 'ord_5': 192,\n",
       " 'day': 7,\n",
       " 'month': 12}"
      ]
     },
     "execution_count": 85,
     "metadata": {},
     "output_type": "execute_result"
    }
   ],
   "source": [
    "{col: len(x_train[col].unique()) for col in x_train.columns}"
   ]
  },
  {
   "cell_type": "markdown",
   "id": "f3aa8a66",
   "metadata": {},
   "source": [
    "Some of these values are large. It it not a big deal for label encoding but I would be for one-hot-encoding."
   ]
  },
  {
   "cell_type": "markdown",
   "id": "15656c5b",
   "metadata": {},
   "source": [
    "### Solution #1: \n",
    "Encode categorical features with label encoding and use a tree based model"
   ]
  },
  {
   "cell_type": "code",
   "execution_count": 81,
   "id": "d3003ebe",
   "metadata": {},
   "outputs": [],
   "source": [
    "from sklearn.preprocessing import LabelEncoder\n",
    "def label_encoding_with_UNK(col_train, UNK=True):\n",
    "    \"\"\" Returns a label encoding \"UNK\" values\n",
    "    \"\"\"\n",
    "    le = LabelEncoder()\n",
    "    uniq = np.unique(col_train)\n",
    "    if UNK:\n",
    "        uniq = np.concatenate((np.array([\"UNK\"]),uniq))\n",
    "    le.fit(uniq)\n",
    "    return le"
   ]
  },
  {
   "cell_type": "code",
   "execution_count": 77,
   "id": "97a9d423",
   "metadata": {},
   "outputs": [],
   "source": [
    "le = label_encoding_with_UNK(x_train.nom_0.values)"
   ]
  },
  {
   "cell_type": "code",
   "execution_count": 78,
   "id": "28239df9",
   "metadata": {},
   "outputs": [
    {
     "data": {
      "text/plain": [
       "array(['Blue', 'Green', 'Red', 'UNK'], dtype=object)"
      ]
     },
     "execution_count": 78,
     "metadata": {},
     "output_type": "execute_result"
    }
   ],
   "source": [
    "le.classes_"
   ]
  },
  {
   "cell_type": "code",
   "execution_count": 79,
   "id": "7a0f7dab",
   "metadata": {},
   "outputs": [
    {
     "data": {
      "text/plain": [
       "array([0, 1, 2, 3])"
      ]
     },
     "execution_count": 79,
     "metadata": {},
     "output_type": "execute_result"
    }
   ],
   "source": [
    "le.transform(le.classes_)"
   ]
  },
  {
   "cell_type": "code",
   "execution_count": 80,
   "id": "e2dcb0ee",
   "metadata": {},
   "outputs": [
    {
     "data": {
      "text/plain": [
       "array([0, 0, 0, ..., 1, 1, 2])"
      ]
     },
     "execution_count": 80,
     "metadata": {},
     "output_type": "execute_result"
    }
   ],
   "source": [
    "le.transform(x_train.nom_0.values)"
   ]
  },
  {
   "cell_type": "code",
   "execution_count": 91,
   "id": "4f7579f5",
   "metadata": {},
   "outputs": [],
   "source": [
    "# columns that are not numerical already\n",
    "num_cols = x_train.iloc[:20,].applymap(np.isreal).all(0)"
   ]
  },
  {
   "cell_type": "code",
   "execution_count": 92,
   "id": "25140a48",
   "metadata": {},
   "outputs": [
    {
     "data": {
      "text/plain": [
       "bin_0     True\n",
       "bin_1     True\n",
       "bin_2     True\n",
       "bin_3    False\n",
       "bin_4    False\n",
       "nom_0    False\n",
       "nom_1    False\n",
       "nom_2    False\n",
       "nom_3    False\n",
       "nom_4    False\n",
       "nom_5    False\n",
       "nom_6    False\n",
       "nom_7    False\n",
       "nom_8    False\n",
       "nom_9    False\n",
       "ord_0     True\n",
       "ord_1    False\n",
       "ord_2    False\n",
       "ord_3    False\n",
       "ord_4    False\n",
       "ord_5    False\n",
       "day       True\n",
       "month     True\n",
       "dtype: bool"
      ]
     },
     "execution_count": 92,
     "metadata": {},
     "output_type": "execute_result"
    }
   ],
   "source": [
    "num_cols"
   ]
  },
  {
   "cell_type": "code",
   "execution_count": null,
   "id": "2397cec0",
   "metadata": {},
   "outputs": [],
   "source": []
  }
 ],
 "metadata": {
  "kernelspec": {
   "display_name": "Python 3",
   "language": "python",
   "name": "python3"
  },
  "language_info": {
   "codemirror_mode": {
    "name": "ipython",
    "version": 3
   },
   "file_extension": ".py",
   "mimetype": "text/x-python",
   "name": "python",
   "nbconvert_exporter": "python",
   "pygments_lexer": "ipython3",
   "version": "3.8.10"
  }
 },
 "nbformat": 4,
 "nbformat_minor": 5
}
