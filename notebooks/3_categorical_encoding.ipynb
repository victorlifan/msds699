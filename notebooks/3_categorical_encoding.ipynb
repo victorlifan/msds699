{
 "cells": [
  {
   "cell_type": "markdown",
   "id": "d163135c",
   "metadata": {},
   "source": [
    "# Exploring categorical encodings"
   ]
  },
  {
   "cell_type": "code",
   "execution_count": 1,
   "id": "67eb5ccd",
   "metadata": {},
   "outputs": [],
   "source": [
    "import numpy as np\n",
    "import pandas as pd\n",
    "import matplotlib.pyplot as plt\n",
    "from sklearn.model_selection import train_test_split"
   ]
  },
  {
   "cell_type": "code",
   "execution_count": 2,
   "id": "b64cac62",
   "metadata": {},
   "outputs": [],
   "source": [
    "from sklearn.ensemble import RandomForestClassifier\n",
    "from sklearn.model_selection import RandomizedSearchCV"
   ]
  },
  {
   "cell_type": "markdown",
   "id": "66cd5642",
   "metadata": {},
   "source": [
    "## Getting data from Kaggle using the API"
   ]
  },
  {
   "cell_type": "markdown",
   "id": "c20fde22",
   "metadata": {},
   "source": [
    "1. pip install kaggle \n",
    "2. read https://www.kaggle.com/docs/api\n",
    "3. acept the rules https://www.kaggle.com/c/cat-in-the-dat/data\n",
    "4. kaggle competitions download -c cat-in-the-dat\n",
    "5. unzip cat-in-the-dat.zip "
   ]
  },
  {
   "cell_type": "code",
   "execution_count": 3,
   "id": "a6504441",
   "metadata": {},
   "outputs": [],
   "source": [
    "df = pd.read_csv(\"train.csv\")"
   ]
  },
  {
   "cell_type": "code",
   "execution_count": 4,
   "id": "7fee7325",
   "metadata": {},
   "outputs": [
    {
     "data": {
      "text/html": [
       "<div>\n",
       "<style scoped>\n",
       "    .dataframe tbody tr th:only-of-type {\n",
       "        vertical-align: middle;\n",
       "    }\n",
       "\n",
       "    .dataframe tbody tr th {\n",
       "        vertical-align: top;\n",
       "    }\n",
       "\n",
       "    .dataframe thead th {\n",
       "        text-align: right;\n",
       "    }\n",
       "</style>\n",
       "<table border=\"1\" class=\"dataframe\">\n",
       "  <thead>\n",
       "    <tr style=\"text-align: right;\">\n",
       "      <th></th>\n",
       "      <th>id</th>\n",
       "      <th>bin_0</th>\n",
       "      <th>bin_1</th>\n",
       "      <th>bin_2</th>\n",
       "      <th>bin_3</th>\n",
       "      <th>bin_4</th>\n",
       "      <th>nom_0</th>\n",
       "      <th>nom_1</th>\n",
       "      <th>nom_2</th>\n",
       "      <th>nom_3</th>\n",
       "      <th>...</th>\n",
       "      <th>nom_9</th>\n",
       "      <th>ord_0</th>\n",
       "      <th>ord_1</th>\n",
       "      <th>ord_2</th>\n",
       "      <th>ord_3</th>\n",
       "      <th>ord_4</th>\n",
       "      <th>ord_5</th>\n",
       "      <th>day</th>\n",
       "      <th>month</th>\n",
       "      <th>target</th>\n",
       "    </tr>\n",
       "  </thead>\n",
       "  <tbody>\n",
       "    <tr>\n",
       "      <th>0</th>\n",
       "      <td>0</td>\n",
       "      <td>0</td>\n",
       "      <td>0</td>\n",
       "      <td>0</td>\n",
       "      <td>T</td>\n",
       "      <td>Y</td>\n",
       "      <td>Green</td>\n",
       "      <td>Triangle</td>\n",
       "      <td>Snake</td>\n",
       "      <td>Finland</td>\n",
       "      <td>...</td>\n",
       "      <td>2f4cb3d51</td>\n",
       "      <td>2</td>\n",
       "      <td>Grandmaster</td>\n",
       "      <td>Cold</td>\n",
       "      <td>h</td>\n",
       "      <td>D</td>\n",
       "      <td>kr</td>\n",
       "      <td>2</td>\n",
       "      <td>2</td>\n",
       "      <td>0</td>\n",
       "    </tr>\n",
       "    <tr>\n",
       "      <th>1</th>\n",
       "      <td>1</td>\n",
       "      <td>0</td>\n",
       "      <td>1</td>\n",
       "      <td>0</td>\n",
       "      <td>T</td>\n",
       "      <td>Y</td>\n",
       "      <td>Green</td>\n",
       "      <td>Trapezoid</td>\n",
       "      <td>Hamster</td>\n",
       "      <td>Russia</td>\n",
       "      <td>...</td>\n",
       "      <td>f83c56c21</td>\n",
       "      <td>1</td>\n",
       "      <td>Grandmaster</td>\n",
       "      <td>Hot</td>\n",
       "      <td>a</td>\n",
       "      <td>A</td>\n",
       "      <td>bF</td>\n",
       "      <td>7</td>\n",
       "      <td>8</td>\n",
       "      <td>0</td>\n",
       "    </tr>\n",
       "    <tr>\n",
       "      <th>2</th>\n",
       "      <td>2</td>\n",
       "      <td>0</td>\n",
       "      <td>0</td>\n",
       "      <td>0</td>\n",
       "      <td>F</td>\n",
       "      <td>Y</td>\n",
       "      <td>Blue</td>\n",
       "      <td>Trapezoid</td>\n",
       "      <td>Lion</td>\n",
       "      <td>Russia</td>\n",
       "      <td>...</td>\n",
       "      <td>ae6800dd0</td>\n",
       "      <td>1</td>\n",
       "      <td>Expert</td>\n",
       "      <td>Lava Hot</td>\n",
       "      <td>h</td>\n",
       "      <td>R</td>\n",
       "      <td>Jc</td>\n",
       "      <td>7</td>\n",
       "      <td>2</td>\n",
       "      <td>0</td>\n",
       "    </tr>\n",
       "    <tr>\n",
       "      <th>3</th>\n",
       "      <td>3</td>\n",
       "      <td>0</td>\n",
       "      <td>1</td>\n",
       "      <td>0</td>\n",
       "      <td>F</td>\n",
       "      <td>Y</td>\n",
       "      <td>Red</td>\n",
       "      <td>Trapezoid</td>\n",
       "      <td>Snake</td>\n",
       "      <td>Canada</td>\n",
       "      <td>...</td>\n",
       "      <td>8270f0d71</td>\n",
       "      <td>1</td>\n",
       "      <td>Grandmaster</td>\n",
       "      <td>Boiling Hot</td>\n",
       "      <td>i</td>\n",
       "      <td>D</td>\n",
       "      <td>kW</td>\n",
       "      <td>2</td>\n",
       "      <td>1</td>\n",
       "      <td>1</td>\n",
       "    </tr>\n",
       "    <tr>\n",
       "      <th>4</th>\n",
       "      <td>4</td>\n",
       "      <td>0</td>\n",
       "      <td>0</td>\n",
       "      <td>0</td>\n",
       "      <td>F</td>\n",
       "      <td>N</td>\n",
       "      <td>Red</td>\n",
       "      <td>Trapezoid</td>\n",
       "      <td>Lion</td>\n",
       "      <td>Canada</td>\n",
       "      <td>...</td>\n",
       "      <td>b164b72a7</td>\n",
       "      <td>1</td>\n",
       "      <td>Grandmaster</td>\n",
       "      <td>Freezing</td>\n",
       "      <td>a</td>\n",
       "      <td>R</td>\n",
       "      <td>qP</td>\n",
       "      <td>7</td>\n",
       "      <td>8</td>\n",
       "      <td>0</td>\n",
       "    </tr>\n",
       "  </tbody>\n",
       "</table>\n",
       "<p>5 rows × 25 columns</p>\n",
       "</div>"
      ],
      "text/plain": [
       "   id  bin_0  bin_1  bin_2 bin_3 bin_4  nom_0      nom_1    nom_2    nom_3  \\\n",
       "0   0      0      0      0     T     Y  Green   Triangle    Snake  Finland   \n",
       "1   1      0      1      0     T     Y  Green  Trapezoid  Hamster   Russia   \n",
       "2   2      0      0      0     F     Y   Blue  Trapezoid     Lion   Russia   \n",
       "3   3      0      1      0     F     Y    Red  Trapezoid    Snake   Canada   \n",
       "4   4      0      0      0     F     N    Red  Trapezoid     Lion   Canada   \n",
       "\n",
       "   ...      nom_9 ord_0        ord_1        ord_2 ord_3 ord_4  ord_5 day  \\\n",
       "0  ...  2f4cb3d51     2  Grandmaster         Cold     h     D     kr   2   \n",
       "1  ...  f83c56c21     1  Grandmaster          Hot     a     A     bF   7   \n",
       "2  ...  ae6800dd0     1       Expert     Lava Hot     h     R     Jc   7   \n",
       "3  ...  8270f0d71     1  Grandmaster  Boiling Hot     i     D     kW   2   \n",
       "4  ...  b164b72a7     1  Grandmaster     Freezing     a     R     qP   7   \n",
       "\n",
       "  month target  \n",
       "0     2      0  \n",
       "1     8      0  \n",
       "2     2      0  \n",
       "3     1      1  \n",
       "4     8      0  \n",
       "\n",
       "[5 rows x 25 columns]"
      ]
     },
     "execution_count": 4,
     "metadata": {},
     "output_type": "execute_result"
    }
   ],
   "source": [
    "df.head()"
   ]
  },
  {
   "cell_type": "markdown",
   "id": "07397c84",
   "metadata": {},
   "source": [
    "\"The data contains binary features (bin_*), nominal features (nom_*), ordinal features (ord_*) as well as (potentially cyclical) day (of the week) and month features. The string ordinal features ord_{3-5} are lexically ordered according to string.ascii_letters.\""
   ]
  },
  {
   "cell_type": "code",
   "execution_count": 5,
   "id": "f6214aee",
   "metadata": {},
   "outputs": [
    {
     "data": {
      "text/plain": [
       "(300000, 25)"
      ]
     },
     "execution_count": 5,
     "metadata": {},
     "output_type": "execute_result"
    }
   ],
   "source": [
    "df.shape"
   ]
  },
  {
   "cell_type": "markdown",
   "id": "293f5a9d",
   "metadata": {},
   "source": [
    "## Data Split"
   ]
  },
  {
   "cell_type": "code",
   "execution_count": 5,
   "id": "e2fd8d8c",
   "metadata": {},
   "outputs": [],
   "source": [
    "def split_sets(df, seed=3):\n",
    "    Y = df.target.values\n",
    "    X = df.drop(columns=['target'])\n",
    "    x_train_val, x_test, y_train_val, y_test = train_test_split(\n",
    "        X, Y, test_size=0.15, random_state=seed)\n",
    "    x_train_val = x_train_val.reset_index(drop=True)\n",
    "    x_test = x_test.reset_index(drop=True)\n",
    "    x_train, x_val, y_train, y_val = train_test_split(\n",
    "    x_train_val, y_train_val, test_size=0.20, random_state=seed)\n",
    "    return  x_train_val, x_train, x_test, x_val, y_train_val, y_train, y_test, y_val\n"
   ]
  },
  {
   "cell_type": "code",
   "execution_count": 6,
   "id": "cf61c5ac",
   "metadata": {},
   "outputs": [],
   "source": [
    "x_train_val, x_train, x_test, x_val, y_train_val, y_train, y_test, y_val \\\n",
    "= split_sets(df, seed=3)"
   ]
  },
  {
   "cell_type": "code",
   "execution_count": 7,
   "id": "9bce0da2",
   "metadata": {},
   "outputs": [
    {
     "data": {
      "text/plain": [
       "((204000, 24), (51000, 24), (45000, 24))"
      ]
     },
     "execution_count": 7,
     "metadata": {},
     "output_type": "execute_result"
    }
   ],
   "source": [
    "x_train.shape, x_val.shape, x_test.shape"
   ]
  },
  {
   "cell_type": "markdown",
   "id": "4c363c4b",
   "metadata": {},
   "source": [
    "### EDA"
   ]
  },
  {
   "cell_type": "code",
   "execution_count": 8,
   "id": "c7676e0e",
   "metadata": {},
   "outputs": [
    {
     "data": {
      "text/html": [
       "<div>\n",
       "<style scoped>\n",
       "    .dataframe tbody tr th:only-of-type {\n",
       "        vertical-align: middle;\n",
       "    }\n",
       "\n",
       "    .dataframe tbody tr th {\n",
       "        vertical-align: top;\n",
       "    }\n",
       "\n",
       "    .dataframe thead th {\n",
       "        text-align: right;\n",
       "    }\n",
       "</style>\n",
       "<table border=\"1\" class=\"dataframe\">\n",
       "  <thead>\n",
       "    <tr style=\"text-align: right;\">\n",
       "      <th></th>\n",
       "      <th>id</th>\n",
       "      <th>bin_0</th>\n",
       "      <th>bin_1</th>\n",
       "      <th>bin_2</th>\n",
       "      <th>ord_0</th>\n",
       "      <th>day</th>\n",
       "      <th>month</th>\n",
       "    </tr>\n",
       "  </thead>\n",
       "  <tbody>\n",
       "    <tr>\n",
       "      <th>count</th>\n",
       "      <td>204000.000000</td>\n",
       "      <td>204000.000000</td>\n",
       "      <td>204000.000000</td>\n",
       "      <td>204000.000000</td>\n",
       "      <td>204000.000000</td>\n",
       "      <td>204000.000000</td>\n",
       "      <td>204000.000000</td>\n",
       "    </tr>\n",
       "    <tr>\n",
       "      <th>mean</th>\n",
       "      <td>149926.790049</td>\n",
       "      <td>0.127250</td>\n",
       "      <td>0.256873</td>\n",
       "      <td>0.383990</td>\n",
       "      <td>1.479627</td>\n",
       "      <td>3.004623</td>\n",
       "      <td>5.768137</td>\n",
       "    </tr>\n",
       "    <tr>\n",
       "      <th>std</th>\n",
       "      <td>86620.892393</td>\n",
       "      <td>0.333254</td>\n",
       "      <td>0.436910</td>\n",
       "      <td>0.486357</td>\n",
       "      <td>0.712183</td>\n",
       "      <td>1.818179</td>\n",
       "      <td>3.842883</td>\n",
       "    </tr>\n",
       "    <tr>\n",
       "      <th>min</th>\n",
       "      <td>1.000000</td>\n",
       "      <td>0.000000</td>\n",
       "      <td>0.000000</td>\n",
       "      <td>0.000000</td>\n",
       "      <td>1.000000</td>\n",
       "      <td>1.000000</td>\n",
       "      <td>1.000000</td>\n",
       "    </tr>\n",
       "    <tr>\n",
       "      <th>25%</th>\n",
       "      <td>74920.250000</td>\n",
       "      <td>0.000000</td>\n",
       "      <td>0.000000</td>\n",
       "      <td>0.000000</td>\n",
       "      <td>1.000000</td>\n",
       "      <td>2.000000</td>\n",
       "      <td>2.000000</td>\n",
       "    </tr>\n",
       "    <tr>\n",
       "      <th>50%</th>\n",
       "      <td>149987.000000</td>\n",
       "      <td>0.000000</td>\n",
       "      <td>0.000000</td>\n",
       "      <td>0.000000</td>\n",
       "      <td>1.000000</td>\n",
       "      <td>3.000000</td>\n",
       "      <td>4.000000</td>\n",
       "    </tr>\n",
       "    <tr>\n",
       "      <th>75%</th>\n",
       "      <td>224881.250000</td>\n",
       "      <td>0.000000</td>\n",
       "      <td>1.000000</td>\n",
       "      <td>1.000000</td>\n",
       "      <td>2.000000</td>\n",
       "      <td>4.000000</td>\n",
       "      <td>9.000000</td>\n",
       "    </tr>\n",
       "    <tr>\n",
       "      <th>max</th>\n",
       "      <td>299998.000000</td>\n",
       "      <td>1.000000</td>\n",
       "      <td>1.000000</td>\n",
       "      <td>1.000000</td>\n",
       "      <td>3.000000</td>\n",
       "      <td>7.000000</td>\n",
       "      <td>12.000000</td>\n",
       "    </tr>\n",
       "  </tbody>\n",
       "</table>\n",
       "</div>"
      ],
      "text/plain": [
       "                  id          bin_0          bin_1          bin_2  \\\n",
       "count  204000.000000  204000.000000  204000.000000  204000.000000   \n",
       "mean   149926.790049       0.127250       0.256873       0.383990   \n",
       "std     86620.892393       0.333254       0.436910       0.486357   \n",
       "min         1.000000       0.000000       0.000000       0.000000   \n",
       "25%     74920.250000       0.000000       0.000000       0.000000   \n",
       "50%    149987.000000       0.000000       0.000000       0.000000   \n",
       "75%    224881.250000       0.000000       1.000000       1.000000   \n",
       "max    299998.000000       1.000000       1.000000       1.000000   \n",
       "\n",
       "               ord_0            day          month  \n",
       "count  204000.000000  204000.000000  204000.000000  \n",
       "mean        1.479627       3.004623       5.768137  \n",
       "std         0.712183       1.818179       3.842883  \n",
       "min         1.000000       1.000000       1.000000  \n",
       "25%         1.000000       2.000000       2.000000  \n",
       "50%         1.000000       3.000000       4.000000  \n",
       "75%         2.000000       4.000000       9.000000  \n",
       "max         3.000000       7.000000      12.000000  "
      ]
     },
     "execution_count": 8,
     "metadata": {},
     "output_type": "execute_result"
    }
   ],
   "source": [
    "x_train.describe()"
   ]
  },
  {
   "cell_type": "markdown",
   "id": "92f49f69",
   "metadata": {},
   "source": [
    "`id` is not useful for prediction"
   ]
  },
  {
   "cell_type": "code",
   "execution_count": 9,
   "id": "96caa453",
   "metadata": {},
   "outputs": [
    {
     "data": {
      "text/html": [
       "<div>\n",
       "<style scoped>\n",
       "    .dataframe tbody tr th:only-of-type {\n",
       "        vertical-align: middle;\n",
       "    }\n",
       "\n",
       "    .dataframe tbody tr th {\n",
       "        vertical-align: top;\n",
       "    }\n",
       "\n",
       "    .dataframe thead th {\n",
       "        text-align: right;\n",
       "    }\n",
       "</style>\n",
       "<table border=\"1\" class=\"dataframe\">\n",
       "  <thead>\n",
       "    <tr style=\"text-align: right;\">\n",
       "      <th></th>\n",
       "      <th>bin_0</th>\n",
       "      <th>bin_1</th>\n",
       "      <th>bin_2</th>\n",
       "      <th>bin_3</th>\n",
       "      <th>bin_4</th>\n",
       "      <th>nom_0</th>\n",
       "      <th>nom_1</th>\n",
       "      <th>nom_2</th>\n",
       "      <th>nom_3</th>\n",
       "      <th>nom_4</th>\n",
       "      <th>...</th>\n",
       "      <th>nom_8</th>\n",
       "      <th>nom_9</th>\n",
       "      <th>ord_0</th>\n",
       "      <th>ord_1</th>\n",
       "      <th>ord_2</th>\n",
       "      <th>ord_3</th>\n",
       "      <th>ord_4</th>\n",
       "      <th>ord_5</th>\n",
       "      <th>day</th>\n",
       "      <th>month</th>\n",
       "    </tr>\n",
       "  </thead>\n",
       "  <tbody>\n",
       "    <tr>\n",
       "      <th>203794</th>\n",
       "      <td>0</td>\n",
       "      <td>0</td>\n",
       "      <td>0</td>\n",
       "      <td>F</td>\n",
       "      <td>N</td>\n",
       "      <td>Green</td>\n",
       "      <td>Triangle</td>\n",
       "      <td>Hamster</td>\n",
       "      <td>Russia</td>\n",
       "      <td>Oboe</td>\n",
       "      <td>...</td>\n",
       "      <td>1440a7319</td>\n",
       "      <td>59aad915a</td>\n",
       "      <td>1</td>\n",
       "      <td>Contributor</td>\n",
       "      <td>Lava Hot</td>\n",
       "      <td>j</td>\n",
       "      <td>U</td>\n",
       "      <td>qP</td>\n",
       "      <td>3</td>\n",
       "      <td>2</td>\n",
       "    </tr>\n",
       "    <tr>\n",
       "      <th>76267</th>\n",
       "      <td>0</td>\n",
       "      <td>1</td>\n",
       "      <td>0</td>\n",
       "      <td>T</td>\n",
       "      <td>N</td>\n",
       "      <td>Red</td>\n",
       "      <td>Trapezoid</td>\n",
       "      <td>Lion</td>\n",
       "      <td>Russia</td>\n",
       "      <td>Piano</td>\n",
       "      <td>...</td>\n",
       "      <td>19d1a424d</td>\n",
       "      <td>306e8def6</td>\n",
       "      <td>1</td>\n",
       "      <td>Contributor</td>\n",
       "      <td>Lava Hot</td>\n",
       "      <td>a</td>\n",
       "      <td>A</td>\n",
       "      <td>sD</td>\n",
       "      <td>2</td>\n",
       "      <td>1</td>\n",
       "    </tr>\n",
       "    <tr>\n",
       "      <th>232524</th>\n",
       "      <td>0</td>\n",
       "      <td>1</td>\n",
       "      <td>1</td>\n",
       "      <td>T</td>\n",
       "      <td>Y</td>\n",
       "      <td>Green</td>\n",
       "      <td>Trapezoid</td>\n",
       "      <td>Dog</td>\n",
       "      <td>Canada</td>\n",
       "      <td>Piano</td>\n",
       "      <td>...</td>\n",
       "      <td>2912d0fbb</td>\n",
       "      <td>682a405a2</td>\n",
       "      <td>3</td>\n",
       "      <td>Expert</td>\n",
       "      <td>Freezing</td>\n",
       "      <td>i</td>\n",
       "      <td>K</td>\n",
       "      <td>cA</td>\n",
       "      <td>4</td>\n",
       "      <td>4</td>\n",
       "    </tr>\n",
       "    <tr>\n",
       "      <th>49073</th>\n",
       "      <td>0</td>\n",
       "      <td>0</td>\n",
       "      <td>0</td>\n",
       "      <td>F</td>\n",
       "      <td>Y</td>\n",
       "      <td>Blue</td>\n",
       "      <td>Trapezoid</td>\n",
       "      <td>Lion</td>\n",
       "      <td>Russia</td>\n",
       "      <td>Bassoon</td>\n",
       "      <td>...</td>\n",
       "      <td>49cfc8bab</td>\n",
       "      <td>30d1d0cc5</td>\n",
       "      <td>3</td>\n",
       "      <td>Novice</td>\n",
       "      <td>Freezing</td>\n",
       "      <td>a</td>\n",
       "      <td>E</td>\n",
       "      <td>aO</td>\n",
       "      <td>2</td>\n",
       "      <td>12</td>\n",
       "    </tr>\n",
       "    <tr>\n",
       "      <th>213004</th>\n",
       "      <td>0</td>\n",
       "      <td>0</td>\n",
       "      <td>0</td>\n",
       "      <td>F</td>\n",
       "      <td>N</td>\n",
       "      <td>Green</td>\n",
       "      <td>Star</td>\n",
       "      <td>Lion</td>\n",
       "      <td>Russia</td>\n",
       "      <td>Piano</td>\n",
       "      <td>...</td>\n",
       "      <td>3032ce76e</td>\n",
       "      <td>bce434c81</td>\n",
       "      <td>1</td>\n",
       "      <td>Contributor</td>\n",
       "      <td>Cold</td>\n",
       "      <td>i</td>\n",
       "      <td>J</td>\n",
       "      <td>Gx</td>\n",
       "      <td>4</td>\n",
       "      <td>12</td>\n",
       "    </tr>\n",
       "  </tbody>\n",
       "</table>\n",
       "<p>5 rows × 23 columns</p>\n",
       "</div>"
      ],
      "text/plain": [
       "        bin_0  bin_1  bin_2 bin_3 bin_4  nom_0      nom_1    nom_2   nom_3  \\\n",
       "203794      0      0      0     F     N  Green   Triangle  Hamster  Russia   \n",
       "76267       0      1      0     T     N    Red  Trapezoid     Lion  Russia   \n",
       "232524      0      1      1     T     Y  Green  Trapezoid      Dog  Canada   \n",
       "49073       0      0      0     F     Y   Blue  Trapezoid     Lion  Russia   \n",
       "213004      0      0      0     F     N  Green       Star     Lion  Russia   \n",
       "\n",
       "          nom_4  ...      nom_8      nom_9 ord_0        ord_1     ord_2  \\\n",
       "203794     Oboe  ...  1440a7319  59aad915a     1  Contributor  Lava Hot   \n",
       "76267     Piano  ...  19d1a424d  306e8def6     1  Contributor  Lava Hot   \n",
       "232524    Piano  ...  2912d0fbb  682a405a2     3       Expert  Freezing   \n",
       "49073   Bassoon  ...  49cfc8bab  30d1d0cc5     3       Novice  Freezing   \n",
       "213004    Piano  ...  3032ce76e  bce434c81     1  Contributor      Cold   \n",
       "\n",
       "        ord_3 ord_4 ord_5 day month  \n",
       "203794      j     U    qP   3     2  \n",
       "76267       a     A    sD   2     1  \n",
       "232524      i     K    cA   4     4  \n",
       "49073       a     E    aO   2    12  \n",
       "213004      i     J    Gx   4    12  \n",
       "\n",
       "[5 rows x 23 columns]"
      ]
     },
     "execution_count": 9,
     "metadata": {},
     "output_type": "execute_result"
    }
   ],
   "source": [
    "def drop_column(x_train_val, x_train, x_test, x_val, col):\n",
    "    x_train = x_train.drop(columns=[col])\n",
    "    x_val = x_val.drop(columns=[col])\n",
    "    x_train_val = x_train_val.drop(columns=[col])\n",
    "    x_test = x_test.drop(columns=[col])\n",
    "    return x_train_val, x_train, x_test, x_val\n",
    "\n",
    "x_train_val, x_train, x_test, x_val = drop_column(\n",
    "    x_train_val, x_train, x_test, x_val, 'id')\n",
    "\n",
    "x_train.head()"
   ]
  },
  {
   "cell_type": "markdown",
   "id": "3d626f95",
   "metadata": {},
   "source": [
    "`bin_0` has 75% quantile 0. Let's look more closely "
   ]
  },
  {
   "cell_type": "code",
   "execution_count": 10,
   "id": "ad6880b1",
   "metadata": {},
   "outputs": [
    {
     "data": {
      "text/plain": [
       "array([0., 0., 0., 1., 1., 1.])"
      ]
     },
     "execution_count": 10,
     "metadata": {},
     "output_type": "execute_result"
    }
   ],
   "source": [
    "np.quantile(x_train.bin_0.values, [0.75, 0.8, 0.85, 0.88, 0.90, 0.99], axis=0)"
   ]
  },
  {
   "cell_type": "code",
   "execution_count": 11,
   "id": "c3de6cc7",
   "metadata": {},
   "outputs": [
    {
     "data": {
      "text/plain": [
       "0    0.87275\n",
       "1    0.12725\n",
       "Name: bin_0, dtype: float64"
      ]
     },
     "execution_count": 11,
     "metadata": {},
     "output_type": "execute_result"
    }
   ],
   "source": [
    "x_train.bin_0.value_counts()/x_train.shape[0]"
   ]
  },
  {
   "cell_type": "markdown",
   "id": "23cd9f5d",
   "metadata": {},
   "source": [
    "approx 87% of the data are is 0. I will keep it for now but maybe is not that useful. Let's now look at the target."
   ]
  },
  {
   "cell_type": "code",
   "execution_count": 12,
   "id": "27c00574",
   "metadata": {},
   "outputs": [
    {
     "data": {
      "text/plain": [
       "(array([0, 1]), array([141515,  62485]))"
      ]
     },
     "execution_count": 12,
     "metadata": {},
     "output_type": "execute_result"
    }
   ],
   "source": [
    "unique, counts = np.unique(y_train, return_counts=True)\n",
    "unique, counts"
   ]
  },
  {
   "cell_type": "code",
   "execution_count": 13,
   "id": "db21b7cb",
   "metadata": {},
   "outputs": [
    {
     "data": {
      "text/plain": [
       "array([0.69370098, 0.30629902])"
      ]
     },
     "execution_count": 13,
     "metadata": {},
     "output_type": "execute_result"
    }
   ],
   "source": [
    "counts/counts.sum()"
   ]
  },
  {
   "cell_type": "markdown",
   "id": "e096a08e",
   "metadata": {},
   "source": [
    "30% of the targets are 1s. A little imbalance but not a big deal. We will be using AUC as a metric instead of accuracy."
   ]
  },
  {
   "cell_type": "markdown",
   "id": "f5dc675c",
   "metadata": {},
   "source": [
    "Now let's look at how many unique values each features has."
   ]
  },
  {
   "cell_type": "code",
   "execution_count": 14,
   "id": "79dbc2e8",
   "metadata": {},
   "outputs": [
    {
     "data": {
      "text/plain": [
       "{'bin_0': 2,\n",
       " 'bin_1': 2,\n",
       " 'bin_2': 2,\n",
       " 'bin_3': 2,\n",
       " 'bin_4': 2,\n",
       " 'nom_0': 3,\n",
       " 'nom_1': 6,\n",
       " 'nom_2': 6,\n",
       " 'nom_3': 6,\n",
       " 'nom_4': 4,\n",
       " 'nom_5': 222,\n",
       " 'nom_6': 522,\n",
       " 'nom_7': 1218,\n",
       " 'nom_8': 2210,\n",
       " 'nom_9': 11865,\n",
       " 'ord_0': 3,\n",
       " 'ord_1': 5,\n",
       " 'ord_2': 6,\n",
       " 'ord_3': 15,\n",
       " 'ord_4': 26,\n",
       " 'ord_5': 192,\n",
       " 'day': 7,\n",
       " 'month': 12}"
      ]
     },
     "execution_count": 14,
     "metadata": {},
     "output_type": "execute_result"
    }
   ],
   "source": [
    "{col: len(x_train[col].unique()) for col in x_train.columns}"
   ]
  },
  {
   "cell_type": "markdown",
   "id": "27170aad",
   "metadata": {},
   "source": [
    "Some of these values are large. It it not a big deal for label encoding but I would be for one-hot-encoding."
   ]
  },
  {
   "cell_type": "code",
   "execution_count": 15,
   "id": "f5510786",
   "metadata": {},
   "outputs": [],
   "source": [
    "dg = '#303030'\n",
    "lg = '#808080'"
   ]
  },
  {
   "cell_type": "code",
   "execution_count": 16,
   "id": "7d0fbcd8",
   "metadata": {},
   "outputs": [],
   "source": [
    "def clean_ax(ax):\n",
    "    ax.spines[\"top\"].set_visible(False)\n",
    "    ax.spines[\"right\"].set_visible(False)\n",
    "    ax.spines['bottom'].set_color(lg)\n",
    "    ax.spines['left'].set_color(lg)"
   ]
  },
  {
   "cell_type": "code",
   "execution_count": 17,
   "id": "dadb6af2",
   "metadata": {},
   "outputs": [],
   "source": [
    "def plot_multiple_categorical(X, Y, features, subplots_per_row = 4,\n",
    "                              top_n=20):\n",
    "    \n",
    "    ref = Y.mean() # Reference\n",
    "    plt.figure()\n",
    "    nb_rows = int(np.floor(len(features) / subplots_per_row)) +1\n",
    "    fig, ax = plt.subplots(nb_rows, subplots_per_row,\n",
    "                           figsize=(15, 4.2 * nb_rows))\n",
    "    plt.subplots_adjust(hspace = .2, wspace = 0.5)\n",
    "    print(nb_rows)\n",
    "    n_row=0; n_col=0\n",
    "    for feature in features:\n",
    "        dff = pd.DataFrame({'x': x_train[feature], 'y': y_train})\n",
    "        tdf = dff.groupby(['x']).agg({'y': ['count', 'mean']})\n",
    "        tdf = tdf.sort_values(('y', 'count'), ascending=False).head(\n",
    "            top_n).sort_index()\n",
    "                  \n",
    "        tdf.index = tdf.index.map(str)\n",
    "        ax[n_row, n_col].bar(tdf.index, tdf['y']['mean'].values,\n",
    "                             color='#4daf4a')\n",
    "        ax[n_row, n_col].axhline(y=ref, linewidth=3, color=lg)\n",
    "        ax[n_row, n_col].set_title(feature, fontsize=11)\n",
    "        clean_ax(ax[n_row, n_col])\n",
    "        n_col += 1\n",
    "        if n_col == subplots_per_row:\n",
    "            n_col = 0\n",
    "            n_row += 1"
   ]
  },
  {
   "cell_type": "code",
   "execution_count": 18,
   "id": "95e6203b",
   "metadata": {},
   "outputs": [
    {
     "name": "stdout",
     "output_type": "stream",
     "text": [
      "6\n"
     ]
    },
    {
     "data": {
      "text/plain": [
       "<Figure size 432x288 with 0 Axes>"
      ]
     },
     "metadata": {},
     "output_type": "display_data"
    },
    {
     "data": {
      "image/png": "[encoded data removed]",
      "text/plain": [
       "<Figure size 1080x1814.4 with 24 Axes>"
      ]
     },
     "metadata": {
      "needs_background": "light"
     },
     "output_type": "display_data"
    }
   ],
   "source": [
    "plot_multiple_categorical(x_train, y_train, x_train.columns)"
   ]
  },
  {
   "cell_type": "markdown",
   "id": "211dfe30",
   "metadata": {},
   "source": [
    "### Solution #1: \n",
    "Encode categorical features with label encoding and use a tree based model"
   ]
  },
  {
   "cell_type": "code",
   "execution_count": 19,
   "id": "126b112a",
   "metadata": {},
   "outputs": [],
   "source": [
    "from sklearn.preprocessing import LabelEncoder\n",
    "def label_encoding_with_UNK(col_train, UNK=True):\n",
    "    \"\"\" Returns a label encoding \"UNK\" values\n",
    "    \"\"\"\n",
    "    le = LabelEncoder()\n",
    "    uniq = np.unique(col_train)\n",
    "    if UNK:\n",
    "        uniq = np.concatenate((np.array([\"UNK\"]),uniq))\n",
    "    le.fit(uniq)\n",
    "    return le"
   ]
  },
  {
   "cell_type": "code",
   "execution_count": 20,
   "id": "99e427d3",
   "metadata": {},
   "outputs": [],
   "source": [
    "def transform_column(le, index, x_train, x_val, x_train_val, x_test):\n",
    "    x_train[index] = le.transform(x_train[index])\n",
    "    val = [x if x in le.classes_ else 'UNK' for x in x_val[index]]\n",
    "    x_val[index] = le.transform(val)\n",
    "    train_val =  [x if x in le.classes_ else 'UNK' \n",
    "                  for x in x_train_val[index]]\n",
    "    x_train_val[index] = le.transform(train_val)\n",
    "    test = [x if x in le.classes_ else 'UNK' for x in x_test[index]]\n",
    "    x_test[index] = le.transform(test)"
   ]
  },
  {
   "cell_type": "code",
   "execution_count": 21,
   "id": "2f376569",
   "metadata": {},
   "outputs": [
    {
     "data": {
      "text/plain": [
       "array(['Green', 'Red', 'Green', ..., 'Green', 'Blue', 'Blue'],\n",
       "      dtype=object)"
      ]
     },
     "execution_count": 21,
     "metadata": {},
     "output_type": "execute_result"
    }
   ],
   "source": [
    "x_train.nom_0.values"
   ]
  },
  {
   "cell_type": "code",
   "execution_count": 22,
   "id": "90c00354",
   "metadata": {},
   "outputs": [],
   "source": [
    "le = label_encoding_with_UNK(x_train.nom_0.values)"
   ]
  },
  {
   "cell_type": "code",
   "execution_count": 23,
   "id": "30216a5c",
   "metadata": {},
   "outputs": [
    {
     "data": {
      "text/plain": [
       "array(['Blue', 'Green', 'Red', 'UNK'], dtype=object)"
      ]
     },
     "execution_count": 23,
     "metadata": {},
     "output_type": "execute_result"
    }
   ],
   "source": [
    "le.classes_"
   ]
  },
  {
   "cell_type": "code",
   "execution_count": 24,
   "id": "87e444a1",
   "metadata": {},
   "outputs": [
    {
     "data": {
      "text/plain": [
       "array([0, 1, 2, 3])"
      ]
     },
     "execution_count": 24,
     "metadata": {},
     "output_type": "execute_result"
    }
   ],
   "source": [
    "le.transform(le.classes_)"
   ]
  },
  {
   "cell_type": "code",
   "execution_count": 25,
   "id": "16376a84",
   "metadata": {},
   "outputs": [
    {
     "data": {
      "text/plain": [
       "array([3, 2])"
      ]
     },
     "execution_count": 25,
     "metadata": {},
     "output_type": "execute_result"
    }
   ],
   "source": [
    "le.transform([\"UNK\", \"Red\"])"
   ]
  },
  {
   "cell_type": "code",
   "execution_count": 26,
   "id": "77b6a037",
   "metadata": {},
   "outputs": [],
   "source": [
    "# notice a new value 'W' le.transform would break (try it)\n",
    "fake_nom_0 = np.array(['Blue', 'Green', 'Red', 'W'])"
   ]
  },
  {
   "cell_type": "code",
   "execution_count": 28,
   "id": "9a9e85c8",
   "metadata": {},
   "outputs": [
    {
     "data": {
      "text/plain": [
       "['Blue', 'Green', 'Red', 'UNK']"
      ]
     },
     "execution_count": 28,
     "metadata": {},
     "output_type": "execute_result"
    }
   ],
   "source": [
    "# change \"W\" for \"UNK\" and then transform\n",
    "[x if x in le.classes_ else 'UNK' for x in fake_nom_0]"
   ]
  },
  {
   "cell_type": "code",
   "execution_count": 29,
   "id": "b5dc87a3",
   "metadata": {},
   "outputs": [],
   "source": [
    "# columns that are not numerical already\n",
    "num_cols = x_train.iloc[:20,].applymap(np.isreal).all(0)"
   ]
  },
  {
   "cell_type": "code",
   "execution_count": 30,
   "id": "f9489358",
   "metadata": {},
   "outputs": [
    {
     "data": {
      "text/plain": [
       "bin_0     True\n",
       "bin_1     True\n",
       "bin_2     True\n",
       "bin_3    False\n",
       "bin_4    False\n",
       "nom_0    False\n",
       "nom_1    False\n",
       "nom_2    False\n",
       "nom_3    False\n",
       "nom_4    False\n",
       "nom_5    False\n",
       "nom_6    False\n",
       "nom_7    False\n",
       "nom_8    False\n",
       "nom_9    False\n",
       "ord_0     True\n",
       "ord_1    False\n",
       "ord_2    False\n",
       "ord_3    False\n",
       "ord_4    False\n",
       "ord_5    False\n",
       "day       True\n",
       "month     True\n",
       "dtype: bool"
      ]
     },
     "execution_count": 30,
     "metadata": {},
     "output_type": "execute_result"
    }
   ],
   "source": [
    "num_cols"
   ]
  },
  {
   "cell_type": "code",
   "execution_count": 31,
   "id": "48850b37",
   "metadata": {},
   "outputs": [],
   "source": [
    "for index, value in num_cols.items():\n",
    "    if not value:\n",
    "        binary = index.startswith('bin')\n",
    "        UNK = False if binary else True\n",
    "        le = label_encoding_with_UNK(x_train[index].values, UNK=UNK)\n",
    "        transform_column(le, index, x_train, x_val, x_train_val, x_test)"
   ]
  },
  {
   "cell_type": "code",
   "execution_count": 33,
   "id": "dd69558d",
   "metadata": {},
   "outputs": [
    {
     "data": {
      "text/html": [
       "<div>\n",
       "<style scoped>\n",
       "    .dataframe tbody tr th:only-of-type {\n",
       "        vertical-align: middle;\n",
       "    }\n",
       "\n",
       "    .dataframe tbody tr th {\n",
       "        vertical-align: top;\n",
       "    }\n",
       "\n",
       "    .dataframe thead th {\n",
       "        text-align: right;\n",
       "    }\n",
       "</style>\n",
       "<table border=\"1\" class=\"dataframe\">\n",
       "  <thead>\n",
       "    <tr style=\"text-align: right;\">\n",
       "      <th></th>\n",
       "      <th>bin_0</th>\n",
       "      <th>bin_1</th>\n",
       "      <th>bin_2</th>\n",
       "      <th>bin_3</th>\n",
       "      <th>bin_4</th>\n",
       "      <th>nom_0</th>\n",
       "      <th>nom_1</th>\n",
       "      <th>nom_2</th>\n",
       "      <th>nom_3</th>\n",
       "      <th>nom_4</th>\n",
       "      <th>...</th>\n",
       "      <th>nom_8</th>\n",
       "      <th>nom_9</th>\n",
       "      <th>ord_0</th>\n",
       "      <th>ord_1</th>\n",
       "      <th>ord_2</th>\n",
       "      <th>ord_3</th>\n",
       "      <th>ord_4</th>\n",
       "      <th>ord_5</th>\n",
       "      <th>day</th>\n",
       "      <th>month</th>\n",
       "    </tr>\n",
       "  </thead>\n",
       "  <tbody>\n",
       "    <tr>\n",
       "      <th>203794</th>\n",
       "      <td>0</td>\n",
       "      <td>0</td>\n",
       "      <td>0</td>\n",
       "      <td>0</td>\n",
       "      <td>0</td>\n",
       "      <td>1</td>\n",
       "      <td>5</td>\n",
       "      <td>3</td>\n",
       "      <td>5</td>\n",
       "      <td>1</td>\n",
       "      <td>...</td>\n",
       "      <td>180</td>\n",
       "      <td>4143</td>\n",
       "      <td>1</td>\n",
       "      <td>0</td>\n",
       "      <td>4</td>\n",
       "      <td>10</td>\n",
       "      <td>20</td>\n",
       "      <td>159</td>\n",
       "      <td>3</td>\n",
       "      <td>2</td>\n",
       "    </tr>\n",
       "    <tr>\n",
       "      <th>76267</th>\n",
       "      <td>0</td>\n",
       "      <td>1</td>\n",
       "      <td>0</td>\n",
       "      <td>1</td>\n",
       "      <td>0</td>\n",
       "      <td>2</td>\n",
       "      <td>4</td>\n",
       "      <td>4</td>\n",
       "      <td>5</td>\n",
       "      <td>2</td>\n",
       "      <td>...</td>\n",
       "      <td>243</td>\n",
       "      <td>2224</td>\n",
       "      <td>1</td>\n",
       "      <td>0</td>\n",
       "      <td>4</td>\n",
       "      <td>1</td>\n",
       "      <td>0</td>\n",
       "      <td>167</td>\n",
       "      <td>2</td>\n",
       "      <td>1</td>\n",
       "    </tr>\n",
       "    <tr>\n",
       "      <th>232524</th>\n",
       "      <td>0</td>\n",
       "      <td>1</td>\n",
       "      <td>1</td>\n",
       "      <td>1</td>\n",
       "      <td>1</td>\n",
       "      <td>1</td>\n",
       "      <td>4</td>\n",
       "      <td>2</td>\n",
       "      <td>0</td>\n",
       "      <td>2</td>\n",
       "      <td>...</td>\n",
       "      <td>364</td>\n",
       "      <td>4830</td>\n",
       "      <td>3</td>\n",
       "      <td>1</td>\n",
       "      <td>2</td>\n",
       "      <td>9</td>\n",
       "      <td>10</td>\n",
       "      <td>97</td>\n",
       "      <td>4</td>\n",
       "      <td>4</td>\n",
       "    </tr>\n",
       "    <tr>\n",
       "      <th>49073</th>\n",
       "      <td>0</td>\n",
       "      <td>0</td>\n",
       "      <td>0</td>\n",
       "      <td>0</td>\n",
       "      <td>1</td>\n",
       "      <td>0</td>\n",
       "      <td>4</td>\n",
       "      <td>4</td>\n",
       "      <td>5</td>\n",
       "      <td>0</td>\n",
       "      <td>...</td>\n",
       "      <td>619</td>\n",
       "      <td>2242</td>\n",
       "      <td>3</td>\n",
       "      <td>4</td>\n",
       "      <td>2</td>\n",
       "      <td>1</td>\n",
       "      <td>4</td>\n",
       "      <td>90</td>\n",
       "      <td>2</td>\n",
       "      <td>12</td>\n",
       "    </tr>\n",
       "    <tr>\n",
       "      <th>213004</th>\n",
       "      <td>0</td>\n",
       "      <td>0</td>\n",
       "      <td>0</td>\n",
       "      <td>0</td>\n",
       "      <td>0</td>\n",
       "      <td>1</td>\n",
       "      <td>3</td>\n",
       "      <td>4</td>\n",
       "      <td>5</td>\n",
       "      <td>2</td>\n",
       "      <td>...</td>\n",
       "      <td>418</td>\n",
       "      <td>8687</td>\n",
       "      <td>1</td>\n",
       "      <td>0</td>\n",
       "      <td>1</td>\n",
       "      <td>9</td>\n",
       "      <td>9</td>\n",
       "      <td>26</td>\n",
       "      <td>4</td>\n",
       "      <td>12</td>\n",
       "    </tr>\n",
       "  </tbody>\n",
       "</table>\n",
       "<p>5 rows × 23 columns</p>\n",
       "</div>"
      ],
      "text/plain": [
       "        bin_0  bin_1  bin_2  bin_3  bin_4  nom_0  nom_1  nom_2  nom_3  nom_4  \\\n",
       "203794      0      0      0      0      0      1      5      3      5      1   \n",
       "76267       0      1      0      1      0      2      4      4      5      2   \n",
       "232524      0      1      1      1      1      1      4      2      0      2   \n",
       "49073       0      0      0      0      1      0      4      4      5      0   \n",
       "213004      0      0      0      0      0      1      3      4      5      2   \n",
       "\n",
       "        ...  nom_8  nom_9  ord_0  ord_1  ord_2  ord_3  ord_4  ord_5  day  \\\n",
       "203794  ...    180   4143      1      0      4     10     20    159    3   \n",
       "76267   ...    243   2224      1      0      4      1      0    167    2   \n",
       "232524  ...    364   4830      3      1      2      9     10     97    4   \n",
       "49073   ...    619   2242      3      4      2      1      4     90    2   \n",
       "213004  ...    418   8687      1      0      1      9      9     26    4   \n",
       "\n",
       "        month  \n",
       "203794      2  \n",
       "76267       1  \n",
       "232524      4  \n",
       "49073      12  \n",
       "213004     12  \n",
       "\n",
       "[5 rows x 23 columns]"
      ]
     },
     "execution_count": 33,
     "metadata": {},
     "output_type": "execute_result"
    }
   ],
   "source": [
    "x_train.head()"
   ]
  },
  {
   "cell_type": "code",
   "execution_count": 34,
   "id": "1456e339",
   "metadata": {},
   "outputs": [
    {
     "data": {
      "text/html": [
       "<div>\n",
       "<style scoped>\n",
       "    .dataframe tbody tr th:only-of-type {\n",
       "        vertical-align: middle;\n",
       "    }\n",
       "\n",
       "    .dataframe tbody tr th {\n",
       "        vertical-align: top;\n",
       "    }\n",
       "\n",
       "    .dataframe thead th {\n",
       "        text-align: right;\n",
       "    }\n",
       "</style>\n",
       "<table border=\"1\" class=\"dataframe\">\n",
       "  <thead>\n",
       "    <tr style=\"text-align: right;\">\n",
       "      <th></th>\n",
       "      <th>bin_0</th>\n",
       "      <th>bin_1</th>\n",
       "      <th>bin_2</th>\n",
       "      <th>bin_3</th>\n",
       "      <th>bin_4</th>\n",
       "      <th>nom_0</th>\n",
       "      <th>nom_1</th>\n",
       "      <th>nom_2</th>\n",
       "      <th>nom_3</th>\n",
       "      <th>nom_4</th>\n",
       "      <th>...</th>\n",
       "      <th>nom_8</th>\n",
       "      <th>nom_9</th>\n",
       "      <th>ord_0</th>\n",
       "      <th>ord_1</th>\n",
       "      <th>ord_2</th>\n",
       "      <th>ord_3</th>\n",
       "      <th>ord_4</th>\n",
       "      <th>ord_5</th>\n",
       "      <th>day</th>\n",
       "      <th>month</th>\n",
       "    </tr>\n",
       "  </thead>\n",
       "  <tbody>\n",
       "    <tr>\n",
       "      <th>0</th>\n",
       "      <td>0</td>\n",
       "      <td>1</td>\n",
       "      <td>0</td>\n",
       "      <td>1</td>\n",
       "      <td>0</td>\n",
       "      <td>0</td>\n",
       "      <td>1</td>\n",
       "      <td>5</td>\n",
       "      <td>2</td>\n",
       "      <td>2</td>\n",
       "      <td>...</td>\n",
       "      <td>1918</td>\n",
       "      <td>9447</td>\n",
       "      <td>1</td>\n",
       "      <td>2</td>\n",
       "      <td>2</td>\n",
       "      <td>5</td>\n",
       "      <td>24</td>\n",
       "      <td>165</td>\n",
       "      <td>1</td>\n",
       "      <td>2</td>\n",
       "    </tr>\n",
       "    <tr>\n",
       "      <th>1</th>\n",
       "      <td>0</td>\n",
       "      <td>0</td>\n",
       "      <td>1</td>\n",
       "      <td>0</td>\n",
       "      <td>1</td>\n",
       "      <td>1</td>\n",
       "      <td>1</td>\n",
       "      <td>3</td>\n",
       "      <td>4</td>\n",
       "      <td>3</td>\n",
       "      <td>...</td>\n",
       "      <td>113</td>\n",
       "      <td>3058</td>\n",
       "      <td>1</td>\n",
       "      <td>2</td>\n",
       "      <td>6</td>\n",
       "      <td>8</td>\n",
       "      <td>0</td>\n",
       "      <td>52</td>\n",
       "      <td>2</td>\n",
       "      <td>3</td>\n",
       "    </tr>\n",
       "    <tr>\n",
       "      <th>2</th>\n",
       "      <td>0</td>\n",
       "      <td>0</td>\n",
       "      <td>1</td>\n",
       "      <td>1</td>\n",
       "      <td>0</td>\n",
       "      <td>1</td>\n",
       "      <td>2</td>\n",
       "      <td>0</td>\n",
       "      <td>0</td>\n",
       "      <td>3</td>\n",
       "      <td>...</td>\n",
       "      <td>1897</td>\n",
       "      <td>10040</td>\n",
       "      <td>2</td>\n",
       "      <td>3</td>\n",
       "      <td>0</td>\n",
       "      <td>4</td>\n",
       "      <td>5</td>\n",
       "      <td>18</td>\n",
       "      <td>7</td>\n",
       "      <td>2</td>\n",
       "    </tr>\n",
       "    <tr>\n",
       "      <th>3</th>\n",
       "      <td>0</td>\n",
       "      <td>0</td>\n",
       "      <td>0</td>\n",
       "      <td>1</td>\n",
       "      <td>1</td>\n",
       "      <td>1</td>\n",
       "      <td>0</td>\n",
       "      <td>4</td>\n",
       "      <td>0</td>\n",
       "      <td>1</td>\n",
       "      <td>...</td>\n",
       "      <td>2193</td>\n",
       "      <td>2634</td>\n",
       "      <td>1</td>\n",
       "      <td>0</td>\n",
       "      <td>6</td>\n",
       "      <td>1</td>\n",
       "      <td>7</td>\n",
       "      <td>136</td>\n",
       "      <td>1</td>\n",
       "      <td>11</td>\n",
       "    </tr>\n",
       "    <tr>\n",
       "      <th>4</th>\n",
       "      <td>0</td>\n",
       "      <td>0</td>\n",
       "      <td>0</td>\n",
       "      <td>0</td>\n",
       "      <td>1</td>\n",
       "      <td>1</td>\n",
       "      <td>5</td>\n",
       "      <td>5</td>\n",
       "      <td>5</td>\n",
       "      <td>0</td>\n",
       "      <td>...</td>\n",
       "      <td>445</td>\n",
       "      <td>279</td>\n",
       "      <td>3</td>\n",
       "      <td>4</td>\n",
       "      <td>4</td>\n",
       "      <td>6</td>\n",
       "      <td>8</td>\n",
       "      <td>87</td>\n",
       "      <td>2</td>\n",
       "      <td>11</td>\n",
       "    </tr>\n",
       "  </tbody>\n",
       "</table>\n",
       "<p>5 rows × 23 columns</p>\n",
       "</div>"
      ],
      "text/plain": [
       "   bin_0  bin_1  bin_2  bin_3  bin_4  nom_0  nom_1  nom_2  nom_3  nom_4  ...  \\\n",
       "0      0      1      0      1      0      0      1      5      2      2  ...   \n",
       "1      0      0      1      0      1      1      1      3      4      3  ...   \n",
       "2      0      0      1      1      0      1      2      0      0      3  ...   \n",
       "3      0      0      0      1      1      1      0      4      0      1  ...   \n",
       "4      0      0      0      0      1      1      5      5      5      0  ...   \n",
       "\n",
       "   nom_8  nom_9  ord_0  ord_1  ord_2  ord_3  ord_4  ord_5  day  month  \n",
       "0   1918   9447      1      2      2      5     24    165    1      2  \n",
       "1    113   3058      1      2      6      8      0     52    2      3  \n",
       "2   1897  10040      2      3      0      4      5     18    7      2  \n",
       "3   2193   2634      1      0      6      1      7    136    1     11  \n",
       "4    445    279      3      4      4      6      8     87    2     11  \n",
       "\n",
       "[5 rows x 23 columns]"
      ]
     },
     "execution_count": 34,
     "metadata": {},
     "output_type": "execute_result"
    }
   ],
   "source": [
    "x_test.head()"
   ]
  },
  {
   "cell_type": "markdown",
   "id": "258eff9b",
   "metadata": {},
   "source": [
    "### Doing Randomized Search with validation set"
   ]
  },
  {
   "cell_type": "code",
   "execution_count": 35,
   "id": "0dfcdc04",
   "metadata": {},
   "outputs": [],
   "source": [
    "from sklearn.model_selection import PredefinedSplit\n",
    "from sklearn.metrics import roc_auc_score"
   ]
  },
  {
   "cell_type": "code",
   "execution_count": 36,
   "id": "50de7449",
   "metadata": {},
   "outputs": [],
   "source": [
    "split_index = [-1 if x in x_train.index else 0 for x in x_train_val.index]\n",
    "pds = PredefinedSplit(test_fold = split_index)"
   ]
  },
  {
   "cell_type": "code",
   "execution_count": 37,
   "id": "b892e4ea",
   "metadata": {},
   "outputs": [],
   "source": [
    "max_depth = [int(x) for x in np.linspace(6, 20, num = 5)]\n",
    "max_features = [x for x in np.linspace(0.1, 1, num = 5)]\n",
    "min_samples_leaf = [int(x) for x in np.linspace(6, 20, num = 5)]"
   ]
  },
  {
   "cell_type": "code",
   "execution_count": 38,
   "id": "d0fa50f6",
   "metadata": {},
   "outputs": [],
   "source": [
    "random_grid = {'max_features': max_features,\n",
    "               'max_depth': max_depth,\n",
    "               'min_samples_leaf': min_samples_leaf}"
   ]
  },
  {
   "cell_type": "code",
   "execution_count": 39,
   "id": "d0826f8e",
   "metadata": {},
   "outputs": [],
   "source": [
    "rf = RandomForestClassifier()"
   ]
  },
  {
   "cell_type": "code",
   "execution_count": 34,
   "id": "eee8f582",
   "metadata": {},
   "outputs": [],
   "source": [
    "rf_random = RandomizedSearchCV(\n",
    "    estimator = rf, param_distributions = random_grid, scoring='roc_auc',\n",
    "    n_iter = 30, cv = pds, random_state=42, verbose=2, n_jobs = -1)"
   ]
  },
  {
   "cell_type": "code",
   "execution_count": 35,
   "id": "8bafc1c6",
   "metadata": {},
   "outputs": [
    {
     "name": "stdout",
     "output_type": "stream",
     "text": [
      "Fitting 1 folds for each of 30 candidates, totalling 30 fits\n"
     ]
    },
    {
     "data": {
      "text/plain": [
       "RandomizedSearchCV(cv=PredefinedSplit(test_fold=array([-1, -1, ..., -1,  0])),\n",
       "                   estimator=RandomForestClassifier(), n_iter=30, n_jobs=-1,\n",
       "                   param_distributions={'max_depth': [6, 9, 13, 16, 20],\n",
       "                                        'max_features': [0.1, 0.325, 0.55,\n",
       "                                                         0.775, 1.0],\n",
       "                                        'min_samples_leaf': [6, 9, 13, 16, 20]},\n",
       "                   random_state=42, scoring='roc_auc', verbose=2)"
      ]
     },
     "execution_count": 35,
     "metadata": {},
     "output_type": "execute_result"
    }
   ],
   "source": [
    "rf_random.fit(x_train_val, y_train_val)"
   ]
  },
  {
   "cell_type": "code",
   "execution_count": 37,
   "id": "b13b574e",
   "metadata": {},
   "outputs": [
    {
     "data": {
      "text/plain": [
       "0.7457909920415504"
      ]
     },
     "execution_count": 37,
     "metadata": {},
     "output_type": "execute_result"
    }
   ],
   "source": [
    "roc_auc_score(y_test, rf_random.predict_proba(x_test)[:,1])"
   ]
  },
  {
   "cell_type": "code",
   "execution_count": 38,
   "id": "5125e34e",
   "metadata": {},
   "outputs": [],
   "source": [
    "importances = rf_random.best_estimator_.feature_importances_"
   ]
  },
  {
   "cell_type": "code",
   "execution_count": 39,
   "id": "a51033ae",
   "metadata": {},
   "outputs": [
    {
     "data": {
      "text/plain": [
       "array([0.00381539, 0.02507524, 0.00804034, 0.00826571, 0.01086953,\n",
       "       0.0356182 , 0.02690999, 0.02274893, 0.02480999, 0.03224892,\n",
       "       0.04696756, 0.04814144, 0.0484173 , 0.04806176, 0.04872981,\n",
       "       0.02988853, 0.06621115, 0.06344024, 0.07555627, 0.10806821,\n",
       "       0.14114568, 0.02661949, 0.05035034])"
      ]
     },
     "execution_count": 39,
     "metadata": {},
     "output_type": "execute_result"
    }
   ],
   "source": [
    "importances"
   ]
  },
  {
   "cell_type": "code",
   "execution_count": 41,
   "id": "300675df",
   "metadata": {},
   "outputs": [],
   "source": [
    "forest_importances = pd.Series(importances, index=x_train.columns)"
   ]
  },
  {
   "cell_type": "code",
   "execution_count": 42,
   "id": "3cde2bed",
   "metadata": {},
   "outputs": [],
   "source": [
    "forest_importances = forest_importances.sort_values(ascending=False)"
   ]
  },
  {
   "cell_type": "code",
   "execution_count": 121,
   "id": "2be893e0",
   "metadata": {},
   "outputs": [
    {
     "data": {
      "image/png": "[encoded data removed]",
      "text/plain": [
       "<Figure size 432x288 with 1 Axes>"
      ]
     },
     "metadata": {
      "needs_background": "light"
     },
     "output_type": "display_data"
    }
   ],
   "source": [
    "fig, ax = plt.subplots()\n",
    "forest_importances.plot.bar(color='#4daf4a')\n",
    "ax.set_title(\"Feature importances\")\n",
    "ax.set_ylabel(\"Mean decrease in impurity\")\n",
    "fig.tight_layout()"
   ]
  },
  {
   "cell_type": "markdown",
   "id": "c28ae27c",
   "metadata": {},
   "source": [
    "## Solution 2:\n",
    "Encoding for logistic regression"
   ]
  },
  {
   "cell_type": "code",
   "execution_count": 145,
   "id": "2484f0b7",
   "metadata": {},
   "outputs": [
    {
     "name": "stdout",
     "output_type": "stream",
     "text": [
      "2\n"
     ]
    },
    {
     "data": {
      "text/plain": [
       "<Figure size 432x288 with 0 Axes>"
      ]
     },
     "metadata": {},
     "output_type": "display_data"
    },
    {
     "data": {
      "image/png": "[encoded data removed]",
      "text/plain": [
       "<Figure size 1080x604.8 with 6 Axes>"
      ]
     },
     "metadata": {
      "needs_background": "light"
     },
     "output_type": "display_data"
    }
   ],
   "source": [
    "# these ordinal variable seem to have a quasi linear relationship\n",
    "# with target\n",
    "plot_multiple_categorical(x_train, y_train, \n",
    "                          ['ord_0', 'ord_3', 'ord_4', 'ord_5', 'month'],\n",
    "                          subplots_per_row = 3)"
   ]
  },
  {
   "cell_type": "code",
   "execution_count": 40,
   "id": "978aa896",
   "metadata": {},
   "outputs": [],
   "source": [
    "x_train_val, x_train, x_test, x_val, y_train_val, y_train, y_test, y_val \\\n",
    "= split_sets(df, seed=3)"
   ]
  },
  {
   "cell_type": "code",
   "execution_count": 41,
   "id": "1bd4d98c",
   "metadata": {},
   "outputs": [
    {
     "data": {
      "text/html": [
       "<div>\n",
       "<style scoped>\n",
       "    .dataframe tbody tr th:only-of-type {\n",
       "        vertical-align: middle;\n",
       "    }\n",
       "\n",
       "    .dataframe tbody tr th {\n",
       "        vertical-align: top;\n",
       "    }\n",
       "\n",
       "    .dataframe thead th {\n",
       "        text-align: right;\n",
       "    }\n",
       "</style>\n",
       "<table border=\"1\" class=\"dataframe\">\n",
       "  <thead>\n",
       "    <tr style=\"text-align: right;\">\n",
       "      <th></th>\n",
       "      <th>bin_0</th>\n",
       "      <th>bin_1</th>\n",
       "      <th>bin_2</th>\n",
       "      <th>bin_3</th>\n",
       "      <th>bin_4</th>\n",
       "      <th>nom_0</th>\n",
       "      <th>nom_1</th>\n",
       "      <th>nom_2</th>\n",
       "      <th>nom_3</th>\n",
       "      <th>nom_4</th>\n",
       "      <th>...</th>\n",
       "      <th>nom_8</th>\n",
       "      <th>nom_9</th>\n",
       "      <th>ord_0</th>\n",
       "      <th>ord_1</th>\n",
       "      <th>ord_2</th>\n",
       "      <th>ord_3</th>\n",
       "      <th>ord_4</th>\n",
       "      <th>ord_5</th>\n",
       "      <th>day</th>\n",
       "      <th>month</th>\n",
       "    </tr>\n",
       "  </thead>\n",
       "  <tbody>\n",
       "    <tr>\n",
       "      <th>203794</th>\n",
       "      <td>0</td>\n",
       "      <td>0</td>\n",
       "      <td>0</td>\n",
       "      <td>F</td>\n",
       "      <td>N</td>\n",
       "      <td>Green</td>\n",
       "      <td>Triangle</td>\n",
       "      <td>Hamster</td>\n",
       "      <td>Russia</td>\n",
       "      <td>Oboe</td>\n",
       "      <td>...</td>\n",
       "      <td>1440a7319</td>\n",
       "      <td>59aad915a</td>\n",
       "      <td>1</td>\n",
       "      <td>Contributor</td>\n",
       "      <td>Lava Hot</td>\n",
       "      <td>j</td>\n",
       "      <td>U</td>\n",
       "      <td>qP</td>\n",
       "      <td>3</td>\n",
       "      <td>2</td>\n",
       "    </tr>\n",
       "    <tr>\n",
       "      <th>76267</th>\n",
       "      <td>0</td>\n",
       "      <td>1</td>\n",
       "      <td>0</td>\n",
       "      <td>T</td>\n",
       "      <td>N</td>\n",
       "      <td>Red</td>\n",
       "      <td>Trapezoid</td>\n",
       "      <td>Lion</td>\n",
       "      <td>Russia</td>\n",
       "      <td>Piano</td>\n",
       "      <td>...</td>\n",
       "      <td>19d1a424d</td>\n",
       "      <td>306e8def6</td>\n",
       "      <td>1</td>\n",
       "      <td>Contributor</td>\n",
       "      <td>Lava Hot</td>\n",
       "      <td>a</td>\n",
       "      <td>A</td>\n",
       "      <td>sD</td>\n",
       "      <td>2</td>\n",
       "      <td>1</td>\n",
       "    </tr>\n",
       "    <tr>\n",
       "      <th>232524</th>\n",
       "      <td>0</td>\n",
       "      <td>1</td>\n",
       "      <td>1</td>\n",
       "      <td>T</td>\n",
       "      <td>Y</td>\n",
       "      <td>Green</td>\n",
       "      <td>Trapezoid</td>\n",
       "      <td>Dog</td>\n",
       "      <td>Canada</td>\n",
       "      <td>Piano</td>\n",
       "      <td>...</td>\n",
       "      <td>2912d0fbb</td>\n",
       "      <td>682a405a2</td>\n",
       "      <td>3</td>\n",
       "      <td>Expert</td>\n",
       "      <td>Freezing</td>\n",
       "      <td>i</td>\n",
       "      <td>K</td>\n",
       "      <td>cA</td>\n",
       "      <td>4</td>\n",
       "      <td>4</td>\n",
       "    </tr>\n",
       "    <tr>\n",
       "      <th>49073</th>\n",
       "      <td>0</td>\n",
       "      <td>0</td>\n",
       "      <td>0</td>\n",
       "      <td>F</td>\n",
       "      <td>Y</td>\n",
       "      <td>Blue</td>\n",
       "      <td>Trapezoid</td>\n",
       "      <td>Lion</td>\n",
       "      <td>Russia</td>\n",
       "      <td>Bassoon</td>\n",
       "      <td>...</td>\n",
       "      <td>49cfc8bab</td>\n",
       "      <td>30d1d0cc5</td>\n",
       "      <td>3</td>\n",
       "      <td>Novice</td>\n",
       "      <td>Freezing</td>\n",
       "      <td>a</td>\n",
       "      <td>E</td>\n",
       "      <td>aO</td>\n",
       "      <td>2</td>\n",
       "      <td>12</td>\n",
       "    </tr>\n",
       "    <tr>\n",
       "      <th>213004</th>\n",
       "      <td>0</td>\n",
       "      <td>0</td>\n",
       "      <td>0</td>\n",
       "      <td>F</td>\n",
       "      <td>N</td>\n",
       "      <td>Green</td>\n",
       "      <td>Star</td>\n",
       "      <td>Lion</td>\n",
       "      <td>Russia</td>\n",
       "      <td>Piano</td>\n",
       "      <td>...</td>\n",
       "      <td>3032ce76e</td>\n",
       "      <td>bce434c81</td>\n",
       "      <td>1</td>\n",
       "      <td>Contributor</td>\n",
       "      <td>Cold</td>\n",
       "      <td>i</td>\n",
       "      <td>J</td>\n",
       "      <td>Gx</td>\n",
       "      <td>4</td>\n",
       "      <td>12</td>\n",
       "    </tr>\n",
       "  </tbody>\n",
       "</table>\n",
       "<p>5 rows × 23 columns</p>\n",
       "</div>"
      ],
      "text/plain": [
       "        bin_0  bin_1  bin_2 bin_3 bin_4  nom_0      nom_1    nom_2   nom_3  \\\n",
       "203794      0      0      0     F     N  Green   Triangle  Hamster  Russia   \n",
       "76267       0      1      0     T     N    Red  Trapezoid     Lion  Russia   \n",
       "232524      0      1      1     T     Y  Green  Trapezoid      Dog  Canada   \n",
       "49073       0      0      0     F     Y   Blue  Trapezoid     Lion  Russia   \n",
       "213004      0      0      0     F     N  Green       Star     Lion  Russia   \n",
       "\n",
       "          nom_4  ...      nom_8      nom_9 ord_0        ord_1     ord_2  \\\n",
       "203794     Oboe  ...  1440a7319  59aad915a     1  Contributor  Lava Hot   \n",
       "76267     Piano  ...  19d1a424d  306e8def6     1  Contributor  Lava Hot   \n",
       "232524    Piano  ...  2912d0fbb  682a405a2     3       Expert  Freezing   \n",
       "49073   Bassoon  ...  49cfc8bab  30d1d0cc5     3       Novice  Freezing   \n",
       "213004    Piano  ...  3032ce76e  bce434c81     1  Contributor      Cold   \n",
       "\n",
       "        ord_3 ord_4 ord_5 day month  \n",
       "203794      j     U    qP   3     2  \n",
       "76267       a     A    sD   2     1  \n",
       "232524      i     K    cA   4     4  \n",
       "49073       a     E    aO   2    12  \n",
       "213004      i     J    Gx   4    12  \n",
       "\n",
       "[5 rows x 23 columns]"
      ]
     },
     "execution_count": 41,
     "metadata": {},
     "output_type": "execute_result"
    }
   ],
   "source": [
    "x_train_val, x_train, x_test, x_val = drop_column(x_train_val, x_train, x_test, x_val, 'id')\n",
    "\n",
    "x_train.head()"
   ]
  },
  {
   "cell_type": "markdown",
   "id": "c161f1aa",
   "metadata": {},
   "source": [
    "#### Feature hashing for high cardinality nominal features"
   ]
  },
  {
   "cell_type": "code",
   "execution_count": 42,
   "id": "5a706d97",
   "metadata": {},
   "outputs": [],
   "source": [
    "from sklearn.feature_extraction import FeatureHasher"
   ]
  },
  {
   "cell_type": "code",
   "execution_count": 43,
   "id": "ae185075",
   "metadata": {},
   "outputs": [
    {
     "data": {
      "text/plain": [
       "array(['71583d387', 'c5725677e', '5b0f5acd5', ..., '83b38aa6b',\n",
       "       '8dcf8adfb', 'e6f45aa26'], dtype=object)"
      ]
     },
     "execution_count": 43,
     "metadata": {},
     "output_type": "execute_result"
    }
   ],
   "source": [
    "f = 'nom_5'\n",
    "x_train[f].values"
   ]
  },
  {
   "cell_type": "code",
   "execution_count": 44,
   "id": "d845fccc",
   "metadata": {},
   "outputs": [],
   "source": [
    "def hashing_trick(col, n_features=3):\n",
    "    name = col.name\n",
    "    col_names = [name + \"_\" + str(i+1) for i in range(n_features)]\n",
    "    h = FeatureHasher(input_type='string', n_features=n_features)\n",
    "    out = h.transform(col).toarray()\n",
    "    return pd.DataFrame(out, columns=col_names)"
   ]
  },
  {
   "cell_type": "code",
   "execution_count": 45,
   "id": "831952b3",
   "metadata": {},
   "outputs": [
    {
     "data": {
      "text/plain": [
       "203794     Triangle\n",
       "76267     Trapezoid\n",
       "232524    Trapezoid\n",
       "49073     Trapezoid\n",
       "213004         Star\n",
       "Name: nom_1, dtype: object"
      ]
     },
     "execution_count": 45,
     "metadata": {},
     "output_type": "execute_result"
    }
   ],
   "source": [
    "f = 'nom_1'\n",
    "x_train[f][:5]"
   ]
  },
  {
   "cell_type": "code",
   "execution_count": 46,
   "id": "55a3b0d8",
   "metadata": {},
   "outputs": [
    {
     "data": {
      "text/html": [
       "<div>\n",
       "<style scoped>\n",
       "    .dataframe tbody tr th:only-of-type {\n",
       "        vertical-align: middle;\n",
       "    }\n",
       "\n",
       "    .dataframe tbody tr th {\n",
       "        vertical-align: top;\n",
       "    }\n",
       "\n",
       "    .dataframe thead th {\n",
       "        text-align: right;\n",
       "    }\n",
       "</style>\n",
       "<table border=\"1\" class=\"dataframe\">\n",
       "  <thead>\n",
       "    <tr style=\"text-align: right;\">\n",
       "      <th></th>\n",
       "      <th>nom_1_1</th>\n",
       "      <th>nom_1_2</th>\n",
       "      <th>nom_1_3</th>\n",
       "    </tr>\n",
       "  </thead>\n",
       "  <tbody>\n",
       "    <tr>\n",
       "      <th>0</th>\n",
       "      <td>-2.0</td>\n",
       "      <td>1.0</td>\n",
       "      <td>1.0</td>\n",
       "    </tr>\n",
       "    <tr>\n",
       "      <th>1</th>\n",
       "      <td>-3.0</td>\n",
       "      <td>3.0</td>\n",
       "      <td>1.0</td>\n",
       "    </tr>\n",
       "    <tr>\n",
       "      <th>2</th>\n",
       "      <td>-3.0</td>\n",
       "      <td>3.0</td>\n",
       "      <td>1.0</td>\n",
       "    </tr>\n",
       "    <tr>\n",
       "      <th>3</th>\n",
       "      <td>-3.0</td>\n",
       "      <td>3.0</td>\n",
       "      <td>1.0</td>\n",
       "    </tr>\n",
       "    <tr>\n",
       "      <th>4</th>\n",
       "      <td>-2.0</td>\n",
       "      <td>1.0</td>\n",
       "      <td>1.0</td>\n",
       "    </tr>\n",
       "  </tbody>\n",
       "</table>\n",
       "</div>"
      ],
      "text/plain": [
       "   nom_1_1  nom_1_2  nom_1_3\n",
       "0     -2.0      1.0      1.0\n",
       "1     -3.0      3.0      1.0\n",
       "2     -3.0      3.0      1.0\n",
       "3     -3.0      3.0      1.0\n",
       "4     -2.0      1.0      1.0"
      ]
     },
     "execution_count": 46,
     "metadata": {},
     "output_type": "execute_result"
    }
   ],
   "source": [
    "hashing_trick(x_train[f][:5])"
   ]
  },
  {
   "cell_type": "code",
   "execution_count": 344,
   "id": "d2960316",
   "metadata": {},
   "outputs": [
    {
     "data": {
      "text/plain": [
       "(nom_1_1   -1.0\n",
       " nom_1_2    3.0\n",
       " nom_1_3    1.0\n",
       " dtype: float64,\n",
       " nom_1_1   -3.0\n",
       " nom_1_2    1.0\n",
       " nom_1_3   -1.0\n",
       " dtype: float64)"
      ]
     },
     "execution_count": 344,
     "metadata": {},
     "output_type": "execute_result"
    }
   ],
   "source": [
    "hashing_trick(x_train[f]).max(0), hashing_trick(x_train[f]).min(0)"
   ]
  },
  {
   "cell_type": "markdown",
   "id": "3c42b795",
   "metadata": {},
   "source": [
    "Thes columns we keep the same\n",
    "['ord_0', 'ord_3', 'ord_4', 'ord_5', 'month']"
   ]
  },
  {
   "cell_type": "code",
   "execution_count": 345,
   "id": "7798b89c",
   "metadata": {},
   "outputs": [
    {
     "data": {
      "text/plain": [
       "['ord_0', 'ord_3', 'ord_4', 'ord_5', 'month']"
      ]
     },
     "execution_count": 345,
     "metadata": {},
     "output_type": "execute_result"
    }
   ],
   "source": [
    "['ord_0', 'ord_3', 'ord_4', 'ord_5', 'month']"
   ]
  },
  {
   "cell_type": "code",
   "execution_count": 346,
   "id": "ca98d795",
   "metadata": {},
   "outputs": [
    {
     "data": {
      "text/plain": [
       "Index(['bin_0', 'bin_1', 'bin_2', 'bin_3', 'bin_4', 'nom_0', 'nom_1', 'nom_2',\n",
       "       'nom_3', 'nom_4', 'nom_5', 'nom_6', 'nom_7', 'nom_8', 'nom_9', 'ord_0',\n",
       "       'ord_1', 'ord_2', 'ord_3', 'ord_4', 'ord_5', 'day', 'month'],\n",
       "      dtype='object')"
      ]
     },
     "execution_count": 346,
     "metadata": {},
     "output_type": "execute_result"
    }
   ],
   "source": [
    "x_train.columns"
   ]
  },
  {
   "cell_type": "code",
   "execution_count": 347,
   "id": "6fa8b959",
   "metadata": {},
   "outputs": [],
   "source": [
    "# columns that need encoding:\n",
    "num_cols = x_train.iloc[:20,].applymap(np.isreal).all(0)\n",
    "cols_label_encoding = []\n",
    "cols_numerical = []\n",
    "for index, value in num_cols.items():\n",
    "    if value: cols_numerical.append(index)\n",
    "    if not value:\n",
    "        binary = index.startswith('bin')\n",
    "        if binary or index in ['ord_0', 'ord_3', 'ord_4', 'ord_5', 'month']:\n",
    "            cols_label_encoding.append(index)        "
   ]
  },
  {
   "cell_type": "code",
   "execution_count": 348,
   "id": "08e0376e",
   "metadata": {},
   "outputs": [
    {
     "data": {
      "text/plain": [
       "['bin_3', 'bin_4', 'ord_3', 'ord_4', 'ord_5']"
      ]
     },
     "execution_count": 348,
     "metadata": {},
     "output_type": "execute_result"
    }
   ],
   "source": [
    "cols_label_encoding"
   ]
  },
  {
   "cell_type": "code",
   "execution_count": 349,
   "id": "2fc35658",
   "metadata": {},
   "outputs": [
    {
     "data": {
      "text/plain": [
       "['bin_0', 'bin_1', 'bin_2', 'ord_0', 'day', 'month']"
      ]
     },
     "execution_count": 349,
     "metadata": {},
     "output_type": "execute_result"
    }
   ],
   "source": [
    "cols_numerical"
   ]
  },
  {
   "cell_type": "code",
   "execution_count": 350,
   "id": "8dc4a7a5",
   "metadata": {},
   "outputs": [
    {
     "data": {
      "text/plain": [
       "['nom_0',\n",
       " 'nom_1',\n",
       " 'nom_2',\n",
       " 'nom_3',\n",
       " 'nom_4',\n",
       " 'nom_5',\n",
       " 'nom_6',\n",
       " 'nom_7',\n",
       " 'nom_8',\n",
       " 'nom_9',\n",
       " 'ord_1',\n",
       " 'ord_2']"
      ]
     },
     "execution_count": 350,
     "metadata": {},
     "output_type": "execute_result"
    }
   ],
   "source": [
    "## rest of the columns for feature hashing\n",
    "cols_feat_hashing = [x  for x in x_train.columns if x not in (cols_numerical + cols_label_encoding)]\n",
    "cols_feat_hashing"
   ]
  },
  {
   "cell_type": "markdown",
   "id": "583579e5",
   "metadata": {},
   "source": [
    "#### Split colums for feature hashing"
   ]
  },
  {
   "cell_type": "code",
   "execution_count": 413,
   "id": "cfd0228d",
   "metadata": {},
   "outputs": [
    {
     "data": {
      "text/html": [
       "<div>\n",
       "<style scoped>\n",
       "    .dataframe tbody tr th:only-of-type {\n",
       "        vertical-align: middle;\n",
       "    }\n",
       "\n",
       "    .dataframe tbody tr th {\n",
       "        vertical-align: top;\n",
       "    }\n",
       "\n",
       "    .dataframe thead th {\n",
       "        text-align: right;\n",
       "    }\n",
       "</style>\n",
       "<table border=\"1\" class=\"dataframe\">\n",
       "  <thead>\n",
       "    <tr style=\"text-align: right;\">\n",
       "      <th></th>\n",
       "      <th>nom_0</th>\n",
       "      <th>nom_1</th>\n",
       "      <th>nom_2</th>\n",
       "      <th>nom_3</th>\n",
       "      <th>nom_4</th>\n",
       "      <th>nom_5</th>\n",
       "      <th>nom_6</th>\n",
       "      <th>nom_7</th>\n",
       "      <th>nom_8</th>\n",
       "      <th>nom_9</th>\n",
       "      <th>ord_1</th>\n",
       "      <th>ord_2</th>\n",
       "    </tr>\n",
       "  </thead>\n",
       "  <tbody>\n",
       "    <tr>\n",
       "      <th>203794</th>\n",
       "      <td>Green</td>\n",
       "      <td>Triangle</td>\n",
       "      <td>Hamster</td>\n",
       "      <td>Russia</td>\n",
       "      <td>Oboe</td>\n",
       "      <td>71583d387</td>\n",
       "      <td>718fd9453</td>\n",
       "      <td>d538e2731</td>\n",
       "      <td>1440a7319</td>\n",
       "      <td>59aad915a</td>\n",
       "      <td>Contributor</td>\n",
       "      <td>Lava Hot</td>\n",
       "    </tr>\n",
       "    <tr>\n",
       "      <th>76267</th>\n",
       "      <td>Red</td>\n",
       "      <td>Trapezoid</td>\n",
       "      <td>Lion</td>\n",
       "      <td>Russia</td>\n",
       "      <td>Piano</td>\n",
       "      <td>c5725677e</td>\n",
       "      <td>2c7fb8434</td>\n",
       "      <td>f2ad3e302</td>\n",
       "      <td>19d1a424d</td>\n",
       "      <td>306e8def6</td>\n",
       "      <td>Contributor</td>\n",
       "      <td>Lava Hot</td>\n",
       "    </tr>\n",
       "    <tr>\n",
       "      <th>232524</th>\n",
       "      <td>Green</td>\n",
       "      <td>Trapezoid</td>\n",
       "      <td>Dog</td>\n",
       "      <td>Canada</td>\n",
       "      <td>Piano</td>\n",
       "      <td>5b0f5acd5</td>\n",
       "      <td>0b10fcecc</td>\n",
       "      <td>04d283376</td>\n",
       "      <td>2912d0fbb</td>\n",
       "      <td>682a405a2</td>\n",
       "      <td>Expert</td>\n",
       "      <td>Freezing</td>\n",
       "    </tr>\n",
       "    <tr>\n",
       "      <th>49073</th>\n",
       "      <td>Blue</td>\n",
       "      <td>Trapezoid</td>\n",
       "      <td>Lion</td>\n",
       "      <td>Russia</td>\n",
       "      <td>Bassoon</td>\n",
       "      <td>0dee9b39a</td>\n",
       "      <td>9a16c7c8f</td>\n",
       "      <td>6e5bb6d78</td>\n",
       "      <td>49cfc8bab</td>\n",
       "      <td>30d1d0cc5</td>\n",
       "      <td>Novice</td>\n",
       "      <td>Freezing</td>\n",
       "    </tr>\n",
       "    <tr>\n",
       "      <th>213004</th>\n",
       "      <td>Green</td>\n",
       "      <td>Star</td>\n",
       "      <td>Lion</td>\n",
       "      <td>Russia</td>\n",
       "      <td>Piano</td>\n",
       "      <td>f2d59cf51</td>\n",
       "      <td>e10910468</td>\n",
       "      <td>9d6653dde</td>\n",
       "      <td>3032ce76e</td>\n",
       "      <td>bce434c81</td>\n",
       "      <td>Contributor</td>\n",
       "      <td>Cold</td>\n",
       "    </tr>\n",
       "  </tbody>\n",
       "</table>\n",
       "</div>"
      ],
      "text/plain": [
       "        nom_0      nom_1    nom_2   nom_3    nom_4      nom_5      nom_6  \\\n",
       "203794  Green   Triangle  Hamster  Russia     Oboe  71583d387  718fd9453   \n",
       "76267     Red  Trapezoid     Lion  Russia    Piano  c5725677e  2c7fb8434   \n",
       "232524  Green  Trapezoid      Dog  Canada    Piano  5b0f5acd5  0b10fcecc   \n",
       "49073    Blue  Trapezoid     Lion  Russia  Bassoon  0dee9b39a  9a16c7c8f   \n",
       "213004  Green       Star     Lion  Russia    Piano  f2d59cf51  e10910468   \n",
       "\n",
       "            nom_7      nom_8      nom_9        ord_1     ord_2  \n",
       "203794  d538e2731  1440a7319  59aad915a  Contributor  Lava Hot  \n",
       "76267   f2ad3e302  19d1a424d  306e8def6  Contributor  Lava Hot  \n",
       "232524  04d283376  2912d0fbb  682a405a2       Expert  Freezing  \n",
       "49073   6e5bb6d78  49cfc8bab  30d1d0cc5       Novice  Freezing  \n",
       "213004  9d6653dde  3032ce76e  bce434c81  Contributor      Cold  "
      ]
     },
     "execution_count": 413,
     "metadata": {},
     "output_type": "execute_result"
    }
   ],
   "source": [
    "x_train_hash = x_train[cols_feat_hashing].copy()\n",
    "x_val_hash = x_val[cols_feat_hashing].copy()\n",
    "x_test_hash = x_test[cols_feat_hashing].copy()\n",
    "x_train_hash.head()"
   ]
  },
  {
   "cell_type": "code",
   "execution_count": 414,
   "id": "8d3cf86e",
   "metadata": {},
   "outputs": [],
   "source": [
    "# delete feature hashing columns from the main dataframes\n",
    "x_train = x_train.drop(columns=cols_feat_hashing)\n",
    "x_val = x_val.drop(columns=cols_feat_hashing)\n",
    "x_test = x_test.drop(columns=cols_feat_hashing)"
   ]
  },
  {
   "cell_type": "code",
   "execution_count": 415,
   "id": "2e6619a7",
   "metadata": {},
   "outputs": [],
   "source": [
    "x_train.reset_index(drop=True, inplace=True)\n",
    "x_val.reset_index(drop=True, inplace=True)\n",
    "x_test.reset_index(drop=True, inplace=True)"
   ]
  },
  {
   "cell_type": "code",
   "execution_count": 416,
   "id": "3a4308ca",
   "metadata": {},
   "outputs": [],
   "source": [
    "for f in cols_label_encoding:\n",
    "    binary = f.startswith('bin')\n",
    "    UNK = False if binary else True\n",
    "    le = label_encoding_with_UNK(x_train[f].values, UNK=UNK)\n",
    "    transform_column(le, f, x_train, x_val, x_train_val, x_test)"
   ]
  },
  {
   "cell_type": "code",
   "execution_count": 417,
   "id": "5a6be8d1",
   "metadata": {},
   "outputs": [
    {
     "data": {
      "text/html": [
       "<div>\n",
       "<style scoped>\n",
       "    .dataframe tbody tr th:only-of-type {\n",
       "        vertical-align: middle;\n",
       "    }\n",
       "\n",
       "    .dataframe tbody tr th {\n",
       "        vertical-align: top;\n",
       "    }\n",
       "\n",
       "    .dataframe thead th {\n",
       "        text-align: right;\n",
       "    }\n",
       "</style>\n",
       "<table border=\"1\" class=\"dataframe\">\n",
       "  <thead>\n",
       "    <tr style=\"text-align: right;\">\n",
       "      <th></th>\n",
       "      <th>bin_0</th>\n",
       "      <th>bin_1</th>\n",
       "      <th>bin_2</th>\n",
       "      <th>bin_3</th>\n",
       "      <th>bin_4</th>\n",
       "      <th>ord_0</th>\n",
       "      <th>ord_3</th>\n",
       "      <th>ord_4</th>\n",
       "      <th>ord_5</th>\n",
       "      <th>day</th>\n",
       "      <th>month</th>\n",
       "    </tr>\n",
       "  </thead>\n",
       "  <tbody>\n",
       "    <tr>\n",
       "      <th>203995</th>\n",
       "      <td>0</td>\n",
       "      <td>0</td>\n",
       "      <td>0</td>\n",
       "      <td>1</td>\n",
       "      <td>1</td>\n",
       "      <td>2</td>\n",
       "      <td>10</td>\n",
       "      <td>18</td>\n",
       "      <td>79</td>\n",
       "      <td>2</td>\n",
       "      <td>8</td>\n",
       "    </tr>\n",
       "    <tr>\n",
       "      <th>203996</th>\n",
       "      <td>0</td>\n",
       "      <td>0</td>\n",
       "      <td>0</td>\n",
       "      <td>0</td>\n",
       "      <td>0</td>\n",
       "      <td>1</td>\n",
       "      <td>8</td>\n",
       "      <td>19</td>\n",
       "      <td>59</td>\n",
       "      <td>3</td>\n",
       "      <td>1</td>\n",
       "    </tr>\n",
       "    <tr>\n",
       "      <th>203997</th>\n",
       "      <td>0</td>\n",
       "      <td>0</td>\n",
       "      <td>0</td>\n",
       "      <td>1</td>\n",
       "      <td>1</td>\n",
       "      <td>3</td>\n",
       "      <td>3</td>\n",
       "      <td>6</td>\n",
       "      <td>37</td>\n",
       "      <td>3</td>\n",
       "      <td>11</td>\n",
       "    </tr>\n",
       "    <tr>\n",
       "      <th>203998</th>\n",
       "      <td>0</td>\n",
       "      <td>0</td>\n",
       "      <td>0</td>\n",
       "      <td>1</td>\n",
       "      <td>1</td>\n",
       "      <td>1</td>\n",
       "      <td>10</td>\n",
       "      <td>8</td>\n",
       "      <td>67</td>\n",
       "      <td>2</td>\n",
       "      <td>8</td>\n",
       "    </tr>\n",
       "    <tr>\n",
       "      <th>203999</th>\n",
       "      <td>1</td>\n",
       "      <td>0</td>\n",
       "      <td>0</td>\n",
       "      <td>0</td>\n",
       "      <td>0</td>\n",
       "      <td>2</td>\n",
       "      <td>2</td>\n",
       "      <td>24</td>\n",
       "      <td>57</td>\n",
       "      <td>1</td>\n",
       "      <td>8</td>\n",
       "    </tr>\n",
       "  </tbody>\n",
       "</table>\n",
       "</div>"
      ],
      "text/plain": [
       "        bin_0  bin_1  bin_2  bin_3  bin_4  ord_0  ord_3  ord_4  ord_5  day  \\\n",
       "203995      0      0      0      1      1      2     10     18     79    2   \n",
       "203996      0      0      0      0      0      1      8     19     59    3   \n",
       "203997      0      0      0      1      1      3      3      6     37    3   \n",
       "203998      0      0      0      1      1      1     10      8     67    2   \n",
       "203999      1      0      0      0      0      2      2     24     57    1   \n",
       "\n",
       "        month  \n",
       "203995      8  \n",
       "203996      1  \n",
       "203997     11  \n",
       "203998      8  \n",
       "203999      8  "
      ]
     },
     "execution_count": 417,
     "metadata": {},
     "output_type": "execute_result"
    }
   ],
   "source": [
    "x_train.tail()"
   ]
  },
  {
   "cell_type": "code",
   "execution_count": 418,
   "id": "21c386b5",
   "metadata": {},
   "outputs": [
    {
     "data": {
      "text/plain": [
       "['nom_0',\n",
       " 'nom_1',\n",
       " 'nom_2',\n",
       " 'nom_3',\n",
       " 'nom_4',\n",
       " 'nom_5',\n",
       " 'nom_6',\n",
       " 'nom_7',\n",
       " 'nom_8',\n",
       " 'nom_9',\n",
       " 'ord_1',\n",
       " 'ord_2']"
      ]
     },
     "execution_count": 418,
     "metadata": {},
     "output_type": "execute_result"
    }
   ],
   "source": [
    "cols_feat_hashing"
   ]
  },
  {
   "cell_type": "code",
   "execution_count": 356,
   "id": "97c5241a",
   "metadata": {},
   "outputs": [],
   "source": [
    "x_train_hashed = pd.concat([hashing_trick(x_train_hash[f])\n",
    "                            for f in cols_feat_hashing], axis=1)\n",
    "x_val_hashed = pd.concat([hashing_trick(x_val_hash[f])\n",
    "                            for f in cols_feat_hashing], axis=1)\n",
    "x_test_hashed = pd.concat([hashing_trick(x_test_hash[f])\n",
    "                            for f in cols_feat_hashing], axis=1)"
   ]
  },
  {
   "cell_type": "code",
   "execution_count": 357,
   "id": "b76c9a8b",
   "metadata": {},
   "outputs": [
    {
     "data": {
      "text/plain": [
       "((45000, 36), (51000, 36))"
      ]
     },
     "execution_count": 357,
     "metadata": {},
     "output_type": "execute_result"
    }
   ],
   "source": [
    "x_test_hashed.shape, x_val_hashed.shape"
   ]
  },
  {
   "cell_type": "code",
   "execution_count": 358,
   "id": "f74e716e",
   "metadata": {},
   "outputs": [
    {
     "data": {
      "text/html": [
       "<div>\n",
       "<style scoped>\n",
       "    .dataframe tbody tr th:only-of-type {\n",
       "        vertical-align: middle;\n",
       "    }\n",
       "\n",
       "    .dataframe tbody tr th {\n",
       "        vertical-align: top;\n",
       "    }\n",
       "\n",
       "    .dataframe thead th {\n",
       "        text-align: right;\n",
       "    }\n",
       "</style>\n",
       "<table border=\"1\" class=\"dataframe\">\n",
       "  <thead>\n",
       "    <tr style=\"text-align: right;\">\n",
       "      <th></th>\n",
       "      <th>nom_0_1</th>\n",
       "      <th>nom_0_2</th>\n",
       "      <th>nom_0_3</th>\n",
       "      <th>nom_1_1</th>\n",
       "      <th>nom_1_2</th>\n",
       "      <th>nom_1_3</th>\n",
       "      <th>nom_2_1</th>\n",
       "      <th>nom_2_2</th>\n",
       "      <th>nom_2_3</th>\n",
       "      <th>nom_3_1</th>\n",
       "      <th>...</th>\n",
       "      <th>nom_8_3</th>\n",
       "      <th>nom_9_1</th>\n",
       "      <th>nom_9_2</th>\n",
       "      <th>nom_9_3</th>\n",
       "      <th>ord_1_1</th>\n",
       "      <th>ord_1_2</th>\n",
       "      <th>ord_1_3</th>\n",
       "      <th>ord_2_1</th>\n",
       "      <th>ord_2_2</th>\n",
       "      <th>ord_2_3</th>\n",
       "    </tr>\n",
       "  </thead>\n",
       "  <tbody>\n",
       "    <tr>\n",
       "      <th>203995</th>\n",
       "      <td>0.0</td>\n",
       "      <td>2.0</td>\n",
       "      <td>0.0</td>\n",
       "      <td>-2.0</td>\n",
       "      <td>1.0</td>\n",
       "      <td>1.0</td>\n",
       "      <td>-3.0</td>\n",
       "      <td>1.0</td>\n",
       "      <td>0.0</td>\n",
       "      <td>-3.0</td>\n",
       "      <td>...</td>\n",
       "      <td>2.0</td>\n",
       "      <td>0.0</td>\n",
       "      <td>-4.0</td>\n",
       "      <td>1.0</td>\n",
       "      <td>-2.0</td>\n",
       "      <td>3.0</td>\n",
       "      <td>1.0</td>\n",
       "      <td>-2.0</td>\n",
       "      <td>2.0</td>\n",
       "      <td>2.0</td>\n",
       "    </tr>\n",
       "    <tr>\n",
       "      <th>203996</th>\n",
       "      <td>0.0</td>\n",
       "      <td>2.0</td>\n",
       "      <td>0.0</td>\n",
       "      <td>-2.0</td>\n",
       "      <td>1.0</td>\n",
       "      <td>1.0</td>\n",
       "      <td>-2.0</td>\n",
       "      <td>4.0</td>\n",
       "      <td>1.0</td>\n",
       "      <td>-2.0</td>\n",
       "      <td>...</td>\n",
       "      <td>8.0</td>\n",
       "      <td>2.0</td>\n",
       "      <td>0.0</td>\n",
       "      <td>7.0</td>\n",
       "      <td>-1.0</td>\n",
       "      <td>2.0</td>\n",
       "      <td>-3.0</td>\n",
       "      <td>-3.0</td>\n",
       "      <td>3.0</td>\n",
       "      <td>-2.0</td>\n",
       "    </tr>\n",
       "    <tr>\n",
       "      <th>203997</th>\n",
       "      <td>0.0</td>\n",
       "      <td>3.0</td>\n",
       "      <td>0.0</td>\n",
       "      <td>-3.0</td>\n",
       "      <td>3.0</td>\n",
       "      <td>1.0</td>\n",
       "      <td>-2.0</td>\n",
       "      <td>4.0</td>\n",
       "      <td>1.0</td>\n",
       "      <td>-2.0</td>\n",
       "      <td>...</td>\n",
       "      <td>1.0</td>\n",
       "      <td>2.0</td>\n",
       "      <td>-2.0</td>\n",
       "      <td>1.0</td>\n",
       "      <td>-1.0</td>\n",
       "      <td>2.0</td>\n",
       "      <td>-3.0</td>\n",
       "      <td>-1.0</td>\n",
       "      <td>2.0</td>\n",
       "      <td>0.0</td>\n",
       "    </tr>\n",
       "    <tr>\n",
       "      <th>203998</th>\n",
       "      <td>0.0</td>\n",
       "      <td>2.0</td>\n",
       "      <td>0.0</td>\n",
       "      <td>-1.0</td>\n",
       "      <td>3.0</td>\n",
       "      <td>0.0</td>\n",
       "      <td>-3.0</td>\n",
       "      <td>1.0</td>\n",
       "      <td>0.0</td>\n",
       "      <td>-2.0</td>\n",
       "      <td>...</td>\n",
       "      <td>3.0</td>\n",
       "      <td>2.0</td>\n",
       "      <td>-1.0</td>\n",
       "      <td>4.0</td>\n",
       "      <td>-2.0</td>\n",
       "      <td>5.0</td>\n",
       "      <td>2.0</td>\n",
       "      <td>-2.0</td>\n",
       "      <td>2.0</td>\n",
       "      <td>2.0</td>\n",
       "    </tr>\n",
       "    <tr>\n",
       "      <th>203999</th>\n",
       "      <td>0.0</td>\n",
       "      <td>2.0</td>\n",
       "      <td>0.0</td>\n",
       "      <td>-1.0</td>\n",
       "      <td>3.0</td>\n",
       "      <td>-1.0</td>\n",
       "      <td>-3.0</td>\n",
       "      <td>1.0</td>\n",
       "      <td>0.0</td>\n",
       "      <td>-3.0</td>\n",
       "      <td>...</td>\n",
       "      <td>-4.0</td>\n",
       "      <td>2.0</td>\n",
       "      <td>1.0</td>\n",
       "      <td>0.0</td>\n",
       "      <td>-1.0</td>\n",
       "      <td>2.0</td>\n",
       "      <td>-3.0</td>\n",
       "      <td>-3.0</td>\n",
       "      <td>3.0</td>\n",
       "      <td>-2.0</td>\n",
       "    </tr>\n",
       "  </tbody>\n",
       "</table>\n",
       "<p>5 rows × 36 columns</p>\n",
       "</div>"
      ],
      "text/plain": [
       "        nom_0_1  nom_0_2  nom_0_3  nom_1_1  nom_1_2  nom_1_3  nom_2_1  \\\n",
       "203995      0.0      2.0      0.0     -2.0      1.0      1.0     -3.0   \n",
       "203996      0.0      2.0      0.0     -2.0      1.0      1.0     -2.0   \n",
       "203997      0.0      3.0      0.0     -3.0      3.0      1.0     -2.0   \n",
       "203998      0.0      2.0      0.0     -1.0      3.0      0.0     -3.0   \n",
       "203999      0.0      2.0      0.0     -1.0      3.0     -1.0     -3.0   \n",
       "\n",
       "        nom_2_2  nom_2_3  nom_3_1  ...  nom_8_3  nom_9_1  nom_9_2  nom_9_3  \\\n",
       "203995      1.0      0.0     -3.0  ...      2.0      0.0     -4.0      1.0   \n",
       "203996      4.0      1.0     -2.0  ...      8.0      2.0      0.0      7.0   \n",
       "203997      4.0      1.0     -2.0  ...      1.0      2.0     -2.0      1.0   \n",
       "203998      1.0      0.0     -2.0  ...      3.0      2.0     -1.0      4.0   \n",
       "203999      1.0      0.0     -3.0  ...     -4.0      2.0      1.0      0.0   \n",
       "\n",
       "        ord_1_1  ord_1_2  ord_1_3  ord_2_1  ord_2_2  ord_2_3  \n",
       "203995     -2.0      3.0      1.0     -2.0      2.0      2.0  \n",
       "203996     -1.0      2.0     -3.0     -3.0      3.0     -2.0  \n",
       "203997     -1.0      2.0     -3.0     -1.0      2.0      0.0  \n",
       "203998     -2.0      5.0      2.0     -2.0      2.0      2.0  \n",
       "203999     -1.0      2.0     -3.0     -3.0      3.0     -2.0  \n",
       "\n",
       "[5 rows x 36 columns]"
      ]
     },
     "execution_count": 358,
     "metadata": {},
     "output_type": "execute_result"
    }
   ],
   "source": [
    "x_train_hashed.tail()"
   ]
  },
  {
   "cell_type": "code",
   "execution_count": 359,
   "id": "3f5fd332",
   "metadata": {},
   "outputs": [
    {
     "data": {
      "text/plain": [
       "((45000, 11), (45000, 36))"
      ]
     },
     "execution_count": 359,
     "metadata": {},
     "output_type": "execute_result"
    }
   ],
   "source": [
    "x_test.shape, x_test_hashed.shape"
   ]
  },
  {
   "cell_type": "code",
   "execution_count": 360,
   "id": "445a06ad",
   "metadata": {},
   "outputs": [],
   "source": [
    "x_train = pd.concat([x_train, x_train_hashed], axis=1)\n",
    "x_val = pd.concat([x_val, x_val_hashed], axis=1)\n",
    "x_test = pd.concat([x_test, x_test_hashed], axis=1)"
   ]
  },
  {
   "cell_type": "code",
   "execution_count": 361,
   "id": "cb7710d3",
   "metadata": {},
   "outputs": [
    {
     "data": {
      "text/html": [
       "<div>\n",
       "<style scoped>\n",
       "    .dataframe tbody tr th:only-of-type {\n",
       "        vertical-align: middle;\n",
       "    }\n",
       "\n",
       "    .dataframe tbody tr th {\n",
       "        vertical-align: top;\n",
       "    }\n",
       "\n",
       "    .dataframe thead th {\n",
       "        text-align: right;\n",
       "    }\n",
       "</style>\n",
       "<table border=\"1\" class=\"dataframe\">\n",
       "  <thead>\n",
       "    <tr style=\"text-align: right;\">\n",
       "      <th></th>\n",
       "      <th>bin_0</th>\n",
       "      <th>bin_1</th>\n",
       "      <th>bin_2</th>\n",
       "      <th>bin_3</th>\n",
       "      <th>bin_4</th>\n",
       "      <th>ord_0</th>\n",
       "      <th>ord_3</th>\n",
       "      <th>ord_4</th>\n",
       "      <th>ord_5</th>\n",
       "      <th>day</th>\n",
       "      <th>...</th>\n",
       "      <th>nom_8_3</th>\n",
       "      <th>nom_9_1</th>\n",
       "      <th>nom_9_2</th>\n",
       "      <th>nom_9_3</th>\n",
       "      <th>ord_1_1</th>\n",
       "      <th>ord_1_2</th>\n",
       "      <th>ord_1_3</th>\n",
       "      <th>ord_2_1</th>\n",
       "      <th>ord_2_2</th>\n",
       "      <th>ord_2_3</th>\n",
       "    </tr>\n",
       "  </thead>\n",
       "  <tbody>\n",
       "    <tr>\n",
       "      <th>203995</th>\n",
       "      <td>0</td>\n",
       "      <td>0</td>\n",
       "      <td>0</td>\n",
       "      <td>1</td>\n",
       "      <td>1</td>\n",
       "      <td>2</td>\n",
       "      <td>10</td>\n",
       "      <td>18</td>\n",
       "      <td>79</td>\n",
       "      <td>2</td>\n",
       "      <td>...</td>\n",
       "      <td>2.0</td>\n",
       "      <td>0.0</td>\n",
       "      <td>-4.0</td>\n",
       "      <td>1.0</td>\n",
       "      <td>-2.0</td>\n",
       "      <td>3.0</td>\n",
       "      <td>1.0</td>\n",
       "      <td>-2.0</td>\n",
       "      <td>2.0</td>\n",
       "      <td>2.0</td>\n",
       "    </tr>\n",
       "    <tr>\n",
       "      <th>203996</th>\n",
       "      <td>0</td>\n",
       "      <td>0</td>\n",
       "      <td>0</td>\n",
       "      <td>0</td>\n",
       "      <td>0</td>\n",
       "      <td>1</td>\n",
       "      <td>8</td>\n",
       "      <td>19</td>\n",
       "      <td>59</td>\n",
       "      <td>3</td>\n",
       "      <td>...</td>\n",
       "      <td>8.0</td>\n",
       "      <td>2.0</td>\n",
       "      <td>0.0</td>\n",
       "      <td>7.0</td>\n",
       "      <td>-1.0</td>\n",
       "      <td>2.0</td>\n",
       "      <td>-3.0</td>\n",
       "      <td>-3.0</td>\n",
       "      <td>3.0</td>\n",
       "      <td>-2.0</td>\n",
       "    </tr>\n",
       "    <tr>\n",
       "      <th>203997</th>\n",
       "      <td>0</td>\n",
       "      <td>0</td>\n",
       "      <td>0</td>\n",
       "      <td>1</td>\n",
       "      <td>1</td>\n",
       "      <td>3</td>\n",
       "      <td>3</td>\n",
       "      <td>6</td>\n",
       "      <td>37</td>\n",
       "      <td>3</td>\n",
       "      <td>...</td>\n",
       "      <td>1.0</td>\n",
       "      <td>2.0</td>\n",
       "      <td>-2.0</td>\n",
       "      <td>1.0</td>\n",
       "      <td>-1.0</td>\n",
       "      <td>2.0</td>\n",
       "      <td>-3.0</td>\n",
       "      <td>-1.0</td>\n",
       "      <td>2.0</td>\n",
       "      <td>0.0</td>\n",
       "    </tr>\n",
       "    <tr>\n",
       "      <th>203998</th>\n",
       "      <td>0</td>\n",
       "      <td>0</td>\n",
       "      <td>0</td>\n",
       "      <td>1</td>\n",
       "      <td>1</td>\n",
       "      <td>1</td>\n",
       "      <td>10</td>\n",
       "      <td>8</td>\n",
       "      <td>67</td>\n",
       "      <td>2</td>\n",
       "      <td>...</td>\n",
       "      <td>3.0</td>\n",
       "      <td>2.0</td>\n",
       "      <td>-1.0</td>\n",
       "      <td>4.0</td>\n",
       "      <td>-2.0</td>\n",
       "      <td>5.0</td>\n",
       "      <td>2.0</td>\n",
       "      <td>-2.0</td>\n",
       "      <td>2.0</td>\n",
       "      <td>2.0</td>\n",
       "    </tr>\n",
       "    <tr>\n",
       "      <th>203999</th>\n",
       "      <td>1</td>\n",
       "      <td>0</td>\n",
       "      <td>0</td>\n",
       "      <td>0</td>\n",
       "      <td>0</td>\n",
       "      <td>2</td>\n",
       "      <td>2</td>\n",
       "      <td>24</td>\n",
       "      <td>57</td>\n",
       "      <td>1</td>\n",
       "      <td>...</td>\n",
       "      <td>-4.0</td>\n",
       "      <td>2.0</td>\n",
       "      <td>1.0</td>\n",
       "      <td>0.0</td>\n",
       "      <td>-1.0</td>\n",
       "      <td>2.0</td>\n",
       "      <td>-3.0</td>\n",
       "      <td>-3.0</td>\n",
       "      <td>3.0</td>\n",
       "      <td>-2.0</td>\n",
       "    </tr>\n",
       "  </tbody>\n",
       "</table>\n",
       "<p>5 rows × 47 columns</p>\n",
       "</div>"
      ],
      "text/plain": [
       "        bin_0  bin_1  bin_2  bin_3  bin_4  ord_0  ord_3  ord_4  ord_5  day  \\\n",
       "203995      0      0      0      1      1      2     10     18     79    2   \n",
       "203996      0      0      0      0      0      1      8     19     59    3   \n",
       "203997      0      0      0      1      1      3      3      6     37    3   \n",
       "203998      0      0      0      1      1      1     10      8     67    2   \n",
       "203999      1      0      0      0      0      2      2     24     57    1   \n",
       "\n",
       "        ...  nom_8_3  nom_9_1  nom_9_2  nom_9_3  ord_1_1  ord_1_2  ord_1_3  \\\n",
       "203995  ...      2.0      0.0     -4.0      1.0     -2.0      3.0      1.0   \n",
       "203996  ...      8.0      2.0      0.0      7.0     -1.0      2.0     -3.0   \n",
       "203997  ...      1.0      2.0     -2.0      1.0     -1.0      2.0     -3.0   \n",
       "203998  ...      3.0      2.0     -1.0      4.0     -2.0      5.0      2.0   \n",
       "203999  ...     -4.0      2.0      1.0      0.0     -1.0      2.0     -3.0   \n",
       "\n",
       "        ord_2_1  ord_2_2  ord_2_3  \n",
       "203995     -2.0      2.0      2.0  \n",
       "203996     -3.0      3.0     -2.0  \n",
       "203997     -1.0      2.0      0.0  \n",
       "203998     -2.0      2.0      2.0  \n",
       "203999     -3.0      3.0     -2.0  \n",
       "\n",
       "[5 rows x 47 columns]"
      ]
     },
     "execution_count": 361,
     "metadata": {},
     "output_type": "execute_result"
    }
   ],
   "source": [
    "x_train.tail()"
   ]
  },
  {
   "cell_type": "code",
   "execution_count": 368,
   "id": "eeb81469",
   "metadata": {},
   "outputs": [],
   "source": [
    "from sklearn.preprocessing import StandardScaler\n",
    "from sklearn.linear_model import LogisticRegression"
   ]
  },
  {
   "cell_type": "code",
   "execution_count": 363,
   "id": "8d6f13aa",
   "metadata": {},
   "outputs": [],
   "source": [
    "scaler = StandardScaler()\n",
    "X_train = scaler.fit_transform(x_train)\n",
    "X_val = scaler.transform(x_val)\n",
    "X_test = scaler.transform(x_test)"
   ]
  },
  {
   "cell_type": "code",
   "execution_count": 370,
   "id": "cf75656e",
   "metadata": {},
   "outputs": [],
   "source": [
    "scores = {}\n",
    "for C in [0.01, 0.1, 1, 10, 100]:\n",
    "    clf = LogisticRegression(random_state=0, C=C).fit(X_train, y_train)\n",
    "    y_hat = clf.predict_proba(X_val)[:,1]\n",
    "    auc = roc_auc_score(y_val, y_hat)\n",
    "    scores[C] = auc"
   ]
  },
  {
   "cell_type": "code",
   "execution_count": 371,
   "id": "fa6f1929",
   "metadata": {},
   "outputs": [
    {
     "data": {
      "text/plain": [
       "{0.01: 0.7566499798202776,\n",
       " 0.1: 0.756677479212716,\n",
       " 1: 0.7566782911029846,\n",
       " 10: 0.7566784863906215,\n",
       " 100: 0.7566783598153013}"
      ]
     },
     "execution_count": 371,
     "metadata": {},
     "output_type": "execute_result"
    }
   ],
   "source": [
    "scores"
   ]
  },
  {
   "cell_type": "code",
   "execution_count": 372,
   "id": "55cbbcf7",
   "metadata": {},
   "outputs": [
    {
     "data": {
      "text/plain": [
       "0.7532850605506343"
      ]
     },
     "execution_count": 372,
     "metadata": {},
     "output_type": "execute_result"
    }
   ],
   "source": [
    "clf = LogisticRegression(random_state=0, C=1).fit(X_train, y_train)\n",
    "y_hat = clf.predict_proba(X_test)[:,1]\n",
    "auc = roc_auc_score(y_test, y_hat)\n",
    "auc"
   ]
  },
  {
   "cell_type": "code",
   "execution_count": 373,
   "id": "0061b2af",
   "metadata": {},
   "outputs": [
    {
     "data": {
      "text/plain": [
       "array([[ 6.74996787e-03, -2.40681205e-01,  3.12331639e-02,\n",
       "        -2.21455871e-02, -1.14949498e-01,  2.34751806e-01,\n",
       "         3.55132908e-01,  4.21387940e-01,  4.64209830e-01,\n",
       "        -4.00930731e-02,  2.36444242e-01,  2.73652590e-01,\n",
       "         2.52189398e-01,  0.00000000e+00,  2.64750296e-01,\n",
       "         5.85842835e-02,  2.30562750e-01, -9.32924068e-02,\n",
       "         2.85235622e-02,  1.07288284e-01,  1.53175542e-01,\n",
       "        -1.74069194e-01,  1.36836688e-01, -6.95500591e-02,\n",
       "        -4.03911283e-01, -6.04184015e-01,  2.06839527e-02,\n",
       "         3.14688728e-04,  1.71505119e-02,  1.62914523e-02,\n",
       "        -7.13776434e-03,  2.32684188e-02, -1.45793861e-02,\n",
       "        -9.38899678e-03,  5.45302043e-03, -6.73350003e-03,\n",
       "        -3.35182372e-03, -1.59652936e-02,  1.75756391e-03,\n",
       "         8.03459469e-04,  2.00676667e-03,  1.19652071e-01,\n",
       "         1.55151426e-01,  2.93371661e-01, -3.26427696e-01,\n",
       "        -2.39195337e-01,  2.79285366e-01]])"
      ]
     },
     "execution_count": 373,
     "metadata": {},
     "output_type": "execute_result"
    }
   ],
   "source": [
    "clf.coef_"
   ]
  },
  {
   "cell_type": "markdown",
   "id": "01fbd6cd",
   "metadata": {},
   "source": [
    "## References\n",
    "* https://www.kaggle.com/adaubas/2nd-place-solution-categorical-fe-callenge "
   ]
  },
  {
   "cell_type": "markdown",
   "id": "aa810944",
   "metadata": {},
   "source": [
    "Lab:\n",
    "* Work on other versions of the logistic regression encoding:\n",
    "* Increase the number of features for high cardinality features. Does it make a difference?\n",
    "* Drop features with the 5 smallest coeficients (in absolute value). Does it make a difference? "
   ]
  },
  {
   "cell_type": "code",
   "execution_count": null,
   "id": "48f3681b",
   "metadata": {},
   "outputs": [],
   "source": []
  }
 ],
 "metadata": {
  "kernelspec": {
   "display_name": "Python 3",
   "language": "python",
   "name": "python3"
  },
  "language_info": {
   "codemirror_mode": {
    "name": "ipython",
    "version": 3
   },
   "file_extension": ".py",
   "mimetype": "text/x-python",
   "name": "python",
   "nbconvert_exporter": "python",
   "pygments_lexer": "ipython3",
   "version": "3.8.10"
  }
 },
 "nbformat": 4,
 "nbformat_minor": 5
}
