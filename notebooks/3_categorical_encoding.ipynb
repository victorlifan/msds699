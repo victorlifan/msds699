{
 "cells": [
  {
   "cell_type": "markdown",
   "id": "eed0feb5",
   "metadata": {},
   "source": [
    "# Exploring categorical encodings"
   ]
  },
  {
   "cell_type": "code",
   "execution_count": 1,
   "id": "806e8ebb",
   "metadata": {},
   "outputs": [],
   "source": [
    "import numpy as np\n",
    "import pandas as pd\n",
    "import matplotlib.pyplot as plt\n",
    "from sklearn.model_selection import train_test_split"
   ]
  },
  {
   "cell_type": "code",
   "execution_count": 2,
   "id": "2d0d67b3",
   "metadata": {},
   "outputs": [],
   "source": [
    "from sklearn.ensemble import RandomForestClassifier\n",
    "from sklearn.model_selection import RandomizedSearchCV"
   ]
  },
  {
   "cell_type": "markdown",
   "id": "8ca5a20c",
   "metadata": {},
   "source": [
    "## Getting data from Kaggle using the API"
   ]
  },
  {
   "cell_type": "markdown",
   "id": "fae4b046",
   "metadata": {},
   "source": [
    "1. pip install kaggle \n",
    "2. read https://www.kaggle.com/docs/api\n",
    "3. acept the rules https://www.kaggle.com/c/cat-in-the-dat/data\n",
    "4. kaggle competitions download -c cat-in-the-dat\n",
    "5. unzip cat-in-the-dat.zip "
   ]
  },
  {
   "cell_type": "code",
   "execution_count": 3,
   "id": "e24371d3",
   "metadata": {},
   "outputs": [],
   "source": [
    "df = pd.read_csv(\"train.csv\")"
   ]
  },
  {
   "cell_type": "code",
   "execution_count": 4,
   "id": "bd313ea9",
   "metadata": {},
   "outputs": [
    {
     "data": {
      "text/html": [
       "<div>\n",
       "<style scoped>\n",
       "    .dataframe tbody tr th:only-of-type {\n",
       "        vertical-align: middle;\n",
       "    }\n",
       "\n",
       "    .dataframe tbody tr th {\n",
       "        vertical-align: top;\n",
       "    }\n",
       "\n",
       "    .dataframe thead th {\n",
       "        text-align: right;\n",
       "    }\n",
       "</style>\n",
       "<table border=\"1\" class=\"dataframe\">\n",
       "  <thead>\n",
       "    <tr style=\"text-align: right;\">\n",
       "      <th></th>\n",
       "      <th>id</th>\n",
       "      <th>bin_0</th>\n",
       "      <th>bin_1</th>\n",
       "      <th>bin_2</th>\n",
       "      <th>bin_3</th>\n",
       "      <th>bin_4</th>\n",
       "      <th>nom_0</th>\n",
       "      <th>nom_1</th>\n",
       "      <th>nom_2</th>\n",
       "      <th>nom_3</th>\n",
       "      <th>...</th>\n",
       "      <th>nom_9</th>\n",
       "      <th>ord_0</th>\n",
       "      <th>ord_1</th>\n",
       "      <th>ord_2</th>\n",
       "      <th>ord_3</th>\n",
       "      <th>ord_4</th>\n",
       "      <th>ord_5</th>\n",
       "      <th>day</th>\n",
       "      <th>month</th>\n",
       "      <th>target</th>\n",
       "    </tr>\n",
       "  </thead>\n",
       "  <tbody>\n",
       "    <tr>\n",
       "      <th>0</th>\n",
       "      <td>0</td>\n",
       "      <td>0</td>\n",
       "      <td>0</td>\n",
       "      <td>0</td>\n",
       "      <td>T</td>\n",
       "      <td>Y</td>\n",
       "      <td>Green</td>\n",
       "      <td>Triangle</td>\n",
       "      <td>Snake</td>\n",
       "      <td>Finland</td>\n",
       "      <td>...</td>\n",
       "      <td>2f4cb3d51</td>\n",
       "      <td>2</td>\n",
       "      <td>Grandmaster</td>\n",
       "      <td>Cold</td>\n",
       "      <td>h</td>\n",
       "      <td>D</td>\n",
       "      <td>kr</td>\n",
       "      <td>2</td>\n",
       "      <td>2</td>\n",
       "      <td>0</td>\n",
       "    </tr>\n",
       "    <tr>\n",
       "      <th>1</th>\n",
       "      <td>1</td>\n",
       "      <td>0</td>\n",
       "      <td>1</td>\n",
       "      <td>0</td>\n",
       "      <td>T</td>\n",
       "      <td>Y</td>\n",
       "      <td>Green</td>\n",
       "      <td>Trapezoid</td>\n",
       "      <td>Hamster</td>\n",
       "      <td>Russia</td>\n",
       "      <td>...</td>\n",
       "      <td>f83c56c21</td>\n",
       "      <td>1</td>\n",
       "      <td>Grandmaster</td>\n",
       "      <td>Hot</td>\n",
       "      <td>a</td>\n",
       "      <td>A</td>\n",
       "      <td>bF</td>\n",
       "      <td>7</td>\n",
       "      <td>8</td>\n",
       "      <td>0</td>\n",
       "    </tr>\n",
       "    <tr>\n",
       "      <th>2</th>\n",
       "      <td>2</td>\n",
       "      <td>0</td>\n",
       "      <td>0</td>\n",
       "      <td>0</td>\n",
       "      <td>F</td>\n",
       "      <td>Y</td>\n",
       "      <td>Blue</td>\n",
       "      <td>Trapezoid</td>\n",
       "      <td>Lion</td>\n",
       "      <td>Russia</td>\n",
       "      <td>...</td>\n",
       "      <td>ae6800dd0</td>\n",
       "      <td>1</td>\n",
       "      <td>Expert</td>\n",
       "      <td>Lava Hot</td>\n",
       "      <td>h</td>\n",
       "      <td>R</td>\n",
       "      <td>Jc</td>\n",
       "      <td>7</td>\n",
       "      <td>2</td>\n",
       "      <td>0</td>\n",
       "    </tr>\n",
       "    <tr>\n",
       "      <th>3</th>\n",
       "      <td>3</td>\n",
       "      <td>0</td>\n",
       "      <td>1</td>\n",
       "      <td>0</td>\n",
       "      <td>F</td>\n",
       "      <td>Y</td>\n",
       "      <td>Red</td>\n",
       "      <td>Trapezoid</td>\n",
       "      <td>Snake</td>\n",
       "      <td>Canada</td>\n",
       "      <td>...</td>\n",
       "      <td>8270f0d71</td>\n",
       "      <td>1</td>\n",
       "      <td>Grandmaster</td>\n",
       "      <td>Boiling Hot</td>\n",
       "      <td>i</td>\n",
       "      <td>D</td>\n",
       "      <td>kW</td>\n",
       "      <td>2</td>\n",
       "      <td>1</td>\n",
       "      <td>1</td>\n",
       "    </tr>\n",
       "    <tr>\n",
       "      <th>4</th>\n",
       "      <td>4</td>\n",
       "      <td>0</td>\n",
       "      <td>0</td>\n",
       "      <td>0</td>\n",
       "      <td>F</td>\n",
       "      <td>N</td>\n",
       "      <td>Red</td>\n",
       "      <td>Trapezoid</td>\n",
       "      <td>Lion</td>\n",
       "      <td>Canada</td>\n",
       "      <td>...</td>\n",
       "      <td>b164b72a7</td>\n",
       "      <td>1</td>\n",
       "      <td>Grandmaster</td>\n",
       "      <td>Freezing</td>\n",
       "      <td>a</td>\n",
       "      <td>R</td>\n",
       "      <td>qP</td>\n",
       "      <td>7</td>\n",
       "      <td>8</td>\n",
       "      <td>0</td>\n",
       "    </tr>\n",
       "  </tbody>\n",
       "</table>\n",
       "<p>5 rows × 25 columns</p>\n",
       "</div>"
      ],
      "text/plain": [
       "   id  bin_0  bin_1  bin_2 bin_3 bin_4  nom_0      nom_1    nom_2    nom_3  \\\n",
       "0   0      0      0      0     T     Y  Green   Triangle    Snake  Finland   \n",
       "1   1      0      1      0     T     Y  Green  Trapezoid  Hamster   Russia   \n",
       "2   2      0      0      0     F     Y   Blue  Trapezoid     Lion   Russia   \n",
       "3   3      0      1      0     F     Y    Red  Trapezoid    Snake   Canada   \n",
       "4   4      0      0      0     F     N    Red  Trapezoid     Lion   Canada   \n",
       "\n",
       "   ...      nom_9 ord_0        ord_1        ord_2 ord_3 ord_4  ord_5 day  \\\n",
       "0  ...  2f4cb3d51     2  Grandmaster         Cold     h     D     kr   2   \n",
       "1  ...  f83c56c21     1  Grandmaster          Hot     a     A     bF   7   \n",
       "2  ...  ae6800dd0     1       Expert     Lava Hot     h     R     Jc   7   \n",
       "3  ...  8270f0d71     1  Grandmaster  Boiling Hot     i     D     kW   2   \n",
       "4  ...  b164b72a7     1  Grandmaster     Freezing     a     R     qP   7   \n",
       "\n",
       "  month target  \n",
       "0     2      0  \n",
       "1     8      0  \n",
       "2     2      0  \n",
       "3     1      1  \n",
       "4     8      0  \n",
       "\n",
       "[5 rows x 25 columns]"
      ]
     },
     "execution_count": 4,
     "metadata": {},
     "output_type": "execute_result"
    }
   ],
   "source": [
    "df.head()"
   ]
  },
  {
   "cell_type": "markdown",
   "id": "f4aa468a",
   "metadata": {},
   "source": [
    "\"The data contains binary features (bin_*), nominal features (nom_*), ordinal features (ord_*) as well as (potentially cyclical) day (of the week) and month features. The string ordinal features ord_{3-5} are lexically ordered according to string.ascii_letters.\""
   ]
  },
  {
   "cell_type": "code",
   "execution_count": 5,
   "id": "2bada41b",
   "metadata": {},
   "outputs": [
    {
     "data": {
      "text/plain": [
       "(300000, 25)"
      ]
     },
     "execution_count": 5,
     "metadata": {},
     "output_type": "execute_result"
    }
   ],
   "source": [
    "df.shape"
   ]
  },
  {
   "cell_type": "markdown",
   "id": "3b6d7a0c",
   "metadata": {},
   "source": [
    "### EDA"
   ]
  },
  {
   "cell_type": "code",
   "execution_count": 6,
   "id": "b56b34f3",
   "metadata": {},
   "outputs": [],
   "source": [
    "Y = df.target.values\n",
    "X = df.drop(columns=['target'])\n",
    "x_train_val, x_test, y_train_val, y_test = train_test_split(\n",
    "    X, Y, test_size=0.15, random_state=3)"
   ]
  },
  {
   "cell_type": "code",
   "execution_count": 7,
   "id": "73e2115e",
   "metadata": {},
   "outputs": [],
   "source": [
    "x_train_val = x_train_val.reset_index(drop=True)\n",
    "x_test = x_test.reset_index(drop=True)"
   ]
  },
  {
   "cell_type": "code",
   "execution_count": 8,
   "id": "07246e19",
   "metadata": {},
   "outputs": [],
   "source": [
    "x_train, x_val, y_train, y_val = train_test_split(\n",
    "    x_train_val, y_train_val, test_size=0.20, random_state=3)"
   ]
  },
  {
   "cell_type": "code",
   "execution_count": 9,
   "id": "92598dce",
   "metadata": {},
   "outputs": [
    {
     "data": {
      "text/plain": [
       "((204000, 24), (51000, 24), (45000, 24))"
      ]
     },
     "execution_count": 9,
     "metadata": {},
     "output_type": "execute_result"
    }
   ],
   "source": [
    "x_train.shape, x_val.shape, x_test.shape"
   ]
  },
  {
   "cell_type": "code",
   "execution_count": 10,
   "id": "c38dc708",
   "metadata": {},
   "outputs": [
    {
     "data": {
      "text/html": [
       "<div>\n",
       "<style scoped>\n",
       "    .dataframe tbody tr th:only-of-type {\n",
       "        vertical-align: middle;\n",
       "    }\n",
       "\n",
       "    .dataframe tbody tr th {\n",
       "        vertical-align: top;\n",
       "    }\n",
       "\n",
       "    .dataframe thead th {\n",
       "        text-align: right;\n",
       "    }\n",
       "</style>\n",
       "<table border=\"1\" class=\"dataframe\">\n",
       "  <thead>\n",
       "    <tr style=\"text-align: right;\">\n",
       "      <th></th>\n",
       "      <th>id</th>\n",
       "      <th>bin_0</th>\n",
       "      <th>bin_1</th>\n",
       "      <th>bin_2</th>\n",
       "      <th>ord_0</th>\n",
       "      <th>day</th>\n",
       "      <th>month</th>\n",
       "    </tr>\n",
       "  </thead>\n",
       "  <tbody>\n",
       "    <tr>\n",
       "      <th>count</th>\n",
       "      <td>204000.000000</td>\n",
       "      <td>204000.000000</td>\n",
       "      <td>204000.000000</td>\n",
       "      <td>204000.000000</td>\n",
       "      <td>204000.000000</td>\n",
       "      <td>204000.000000</td>\n",
       "      <td>204000.000000</td>\n",
       "    </tr>\n",
       "    <tr>\n",
       "      <th>mean</th>\n",
       "      <td>149926.790049</td>\n",
       "      <td>0.127250</td>\n",
       "      <td>0.256873</td>\n",
       "      <td>0.383990</td>\n",
       "      <td>1.479627</td>\n",
       "      <td>3.004623</td>\n",
       "      <td>5.768137</td>\n",
       "    </tr>\n",
       "    <tr>\n",
       "      <th>std</th>\n",
       "      <td>86620.892393</td>\n",
       "      <td>0.333254</td>\n",
       "      <td>0.436910</td>\n",
       "      <td>0.486357</td>\n",
       "      <td>0.712183</td>\n",
       "      <td>1.818179</td>\n",
       "      <td>3.842883</td>\n",
       "    </tr>\n",
       "    <tr>\n",
       "      <th>min</th>\n",
       "      <td>1.000000</td>\n",
       "      <td>0.000000</td>\n",
       "      <td>0.000000</td>\n",
       "      <td>0.000000</td>\n",
       "      <td>1.000000</td>\n",
       "      <td>1.000000</td>\n",
       "      <td>1.000000</td>\n",
       "    </tr>\n",
       "    <tr>\n",
       "      <th>25%</th>\n",
       "      <td>74920.250000</td>\n",
       "      <td>0.000000</td>\n",
       "      <td>0.000000</td>\n",
       "      <td>0.000000</td>\n",
       "      <td>1.000000</td>\n",
       "      <td>2.000000</td>\n",
       "      <td>2.000000</td>\n",
       "    </tr>\n",
       "    <tr>\n",
       "      <th>50%</th>\n",
       "      <td>149987.000000</td>\n",
       "      <td>0.000000</td>\n",
       "      <td>0.000000</td>\n",
       "      <td>0.000000</td>\n",
       "      <td>1.000000</td>\n",
       "      <td>3.000000</td>\n",
       "      <td>4.000000</td>\n",
       "    </tr>\n",
       "    <tr>\n",
       "      <th>75%</th>\n",
       "      <td>224881.250000</td>\n",
       "      <td>0.000000</td>\n",
       "      <td>1.000000</td>\n",
       "      <td>1.000000</td>\n",
       "      <td>2.000000</td>\n",
       "      <td>4.000000</td>\n",
       "      <td>9.000000</td>\n",
       "    </tr>\n",
       "    <tr>\n",
       "      <th>max</th>\n",
       "      <td>299998.000000</td>\n",
       "      <td>1.000000</td>\n",
       "      <td>1.000000</td>\n",
       "      <td>1.000000</td>\n",
       "      <td>3.000000</td>\n",
       "      <td>7.000000</td>\n",
       "      <td>12.000000</td>\n",
       "    </tr>\n",
       "  </tbody>\n",
       "</table>\n",
       "</div>"
      ],
      "text/plain": [
       "                  id          bin_0          bin_1          bin_2  \\\n",
       "count  204000.000000  204000.000000  204000.000000  204000.000000   \n",
       "mean   149926.790049       0.127250       0.256873       0.383990   \n",
       "std     86620.892393       0.333254       0.436910       0.486357   \n",
       "min         1.000000       0.000000       0.000000       0.000000   \n",
       "25%     74920.250000       0.000000       0.000000       0.000000   \n",
       "50%    149987.000000       0.000000       0.000000       0.000000   \n",
       "75%    224881.250000       0.000000       1.000000       1.000000   \n",
       "max    299998.000000       1.000000       1.000000       1.000000   \n",
       "\n",
       "               ord_0            day          month  \n",
       "count  204000.000000  204000.000000  204000.000000  \n",
       "mean        1.479627       3.004623       5.768137  \n",
       "std         0.712183       1.818179       3.842883  \n",
       "min         1.000000       1.000000       1.000000  \n",
       "25%         1.000000       2.000000       2.000000  \n",
       "50%         1.000000       3.000000       4.000000  \n",
       "75%         2.000000       4.000000       9.000000  \n",
       "max         3.000000       7.000000      12.000000  "
      ]
     },
     "execution_count": 10,
     "metadata": {},
     "output_type": "execute_result"
    }
   ],
   "source": [
    "x_train.describe()"
   ]
  },
  {
   "cell_type": "markdown",
   "id": "b7c930c5",
   "metadata": {},
   "source": [
    "`id` is not useful for prediction"
   ]
  },
  {
   "cell_type": "code",
   "execution_count": 11,
   "id": "e57b7493",
   "metadata": {},
   "outputs": [
    {
     "data": {
      "text/html": [
       "<div>\n",
       "<style scoped>\n",
       "    .dataframe tbody tr th:only-of-type {\n",
       "        vertical-align: middle;\n",
       "    }\n",
       "\n",
       "    .dataframe tbody tr th {\n",
       "        vertical-align: top;\n",
       "    }\n",
       "\n",
       "    .dataframe thead th {\n",
       "        text-align: right;\n",
       "    }\n",
       "</style>\n",
       "<table border=\"1\" class=\"dataframe\">\n",
       "  <thead>\n",
       "    <tr style=\"text-align: right;\">\n",
       "      <th></th>\n",
       "      <th>bin_0</th>\n",
       "      <th>bin_1</th>\n",
       "      <th>bin_2</th>\n",
       "      <th>bin_3</th>\n",
       "      <th>bin_4</th>\n",
       "      <th>nom_0</th>\n",
       "      <th>nom_1</th>\n",
       "      <th>nom_2</th>\n",
       "      <th>nom_3</th>\n",
       "      <th>nom_4</th>\n",
       "      <th>...</th>\n",
       "      <th>nom_8</th>\n",
       "      <th>nom_9</th>\n",
       "      <th>ord_0</th>\n",
       "      <th>ord_1</th>\n",
       "      <th>ord_2</th>\n",
       "      <th>ord_3</th>\n",
       "      <th>ord_4</th>\n",
       "      <th>ord_5</th>\n",
       "      <th>day</th>\n",
       "      <th>month</th>\n",
       "    </tr>\n",
       "  </thead>\n",
       "  <tbody>\n",
       "    <tr>\n",
       "      <th>203794</th>\n",
       "      <td>0</td>\n",
       "      <td>0</td>\n",
       "      <td>0</td>\n",
       "      <td>F</td>\n",
       "      <td>N</td>\n",
       "      <td>Green</td>\n",
       "      <td>Triangle</td>\n",
       "      <td>Hamster</td>\n",
       "      <td>Russia</td>\n",
       "      <td>Oboe</td>\n",
       "      <td>...</td>\n",
       "      <td>1440a7319</td>\n",
       "      <td>59aad915a</td>\n",
       "      <td>1</td>\n",
       "      <td>Contributor</td>\n",
       "      <td>Lava Hot</td>\n",
       "      <td>j</td>\n",
       "      <td>U</td>\n",
       "      <td>qP</td>\n",
       "      <td>3</td>\n",
       "      <td>2</td>\n",
       "    </tr>\n",
       "    <tr>\n",
       "      <th>76267</th>\n",
       "      <td>0</td>\n",
       "      <td>1</td>\n",
       "      <td>0</td>\n",
       "      <td>T</td>\n",
       "      <td>N</td>\n",
       "      <td>Red</td>\n",
       "      <td>Trapezoid</td>\n",
       "      <td>Lion</td>\n",
       "      <td>Russia</td>\n",
       "      <td>Piano</td>\n",
       "      <td>...</td>\n",
       "      <td>19d1a424d</td>\n",
       "      <td>306e8def6</td>\n",
       "      <td>1</td>\n",
       "      <td>Contributor</td>\n",
       "      <td>Lava Hot</td>\n",
       "      <td>a</td>\n",
       "      <td>A</td>\n",
       "      <td>sD</td>\n",
       "      <td>2</td>\n",
       "      <td>1</td>\n",
       "    </tr>\n",
       "    <tr>\n",
       "      <th>232524</th>\n",
       "      <td>0</td>\n",
       "      <td>1</td>\n",
       "      <td>1</td>\n",
       "      <td>T</td>\n",
       "      <td>Y</td>\n",
       "      <td>Green</td>\n",
       "      <td>Trapezoid</td>\n",
       "      <td>Dog</td>\n",
       "      <td>Canada</td>\n",
       "      <td>Piano</td>\n",
       "      <td>...</td>\n",
       "      <td>2912d0fbb</td>\n",
       "      <td>682a405a2</td>\n",
       "      <td>3</td>\n",
       "      <td>Expert</td>\n",
       "      <td>Freezing</td>\n",
       "      <td>i</td>\n",
       "      <td>K</td>\n",
       "      <td>cA</td>\n",
       "      <td>4</td>\n",
       "      <td>4</td>\n",
       "    </tr>\n",
       "    <tr>\n",
       "      <th>49073</th>\n",
       "      <td>0</td>\n",
       "      <td>0</td>\n",
       "      <td>0</td>\n",
       "      <td>F</td>\n",
       "      <td>Y</td>\n",
       "      <td>Blue</td>\n",
       "      <td>Trapezoid</td>\n",
       "      <td>Lion</td>\n",
       "      <td>Russia</td>\n",
       "      <td>Bassoon</td>\n",
       "      <td>...</td>\n",
       "      <td>49cfc8bab</td>\n",
       "      <td>30d1d0cc5</td>\n",
       "      <td>3</td>\n",
       "      <td>Novice</td>\n",
       "      <td>Freezing</td>\n",
       "      <td>a</td>\n",
       "      <td>E</td>\n",
       "      <td>aO</td>\n",
       "      <td>2</td>\n",
       "      <td>12</td>\n",
       "    </tr>\n",
       "    <tr>\n",
       "      <th>213004</th>\n",
       "      <td>0</td>\n",
       "      <td>0</td>\n",
       "      <td>0</td>\n",
       "      <td>F</td>\n",
       "      <td>N</td>\n",
       "      <td>Green</td>\n",
       "      <td>Star</td>\n",
       "      <td>Lion</td>\n",
       "      <td>Russia</td>\n",
       "      <td>Piano</td>\n",
       "      <td>...</td>\n",
       "      <td>3032ce76e</td>\n",
       "      <td>bce434c81</td>\n",
       "      <td>1</td>\n",
       "      <td>Contributor</td>\n",
       "      <td>Cold</td>\n",
       "      <td>i</td>\n",
       "      <td>J</td>\n",
       "      <td>Gx</td>\n",
       "      <td>4</td>\n",
       "      <td>12</td>\n",
       "    </tr>\n",
       "  </tbody>\n",
       "</table>\n",
       "<p>5 rows × 23 columns</p>\n",
       "</div>"
      ],
      "text/plain": [
       "        bin_0  bin_1  bin_2 bin_3 bin_4  nom_0      nom_1    nom_2   nom_3  \\\n",
       "203794      0      0      0     F     N  Green   Triangle  Hamster  Russia   \n",
       "76267       0      1      0     T     N    Red  Trapezoid     Lion  Russia   \n",
       "232524      0      1      1     T     Y  Green  Trapezoid      Dog  Canada   \n",
       "49073       0      0      0     F     Y   Blue  Trapezoid     Lion  Russia   \n",
       "213004      0      0      0     F     N  Green       Star     Lion  Russia   \n",
       "\n",
       "          nom_4  ...      nom_8      nom_9 ord_0        ord_1     ord_2  \\\n",
       "203794     Oboe  ...  1440a7319  59aad915a     1  Contributor  Lava Hot   \n",
       "76267     Piano  ...  19d1a424d  306e8def6     1  Contributor  Lava Hot   \n",
       "232524    Piano  ...  2912d0fbb  682a405a2     3       Expert  Freezing   \n",
       "49073   Bassoon  ...  49cfc8bab  30d1d0cc5     3       Novice  Freezing   \n",
       "213004    Piano  ...  3032ce76e  bce434c81     1  Contributor      Cold   \n",
       "\n",
       "        ord_3 ord_4 ord_5 day month  \n",
       "203794      j     U    qP   3     2  \n",
       "76267       a     A    sD   2     1  \n",
       "232524      i     K    cA   4     4  \n",
       "49073       a     E    aO   2    12  \n",
       "213004      i     J    Gx   4    12  \n",
       "\n",
       "[5 rows x 23 columns]"
      ]
     },
     "execution_count": 11,
     "metadata": {},
     "output_type": "execute_result"
    }
   ],
   "source": [
    "x_train = x_train.drop(columns=['id'])\n",
    "x_val = x_val.drop(columns=['id'])\n",
    "x_train_val = x_train_val.drop(columns=['id'])\n",
    "x_test = x_test.drop(columns=['id'])\n",
    "x_train.head()"
   ]
  },
  {
   "cell_type": "markdown",
   "id": "c0b78574",
   "metadata": {},
   "source": [
    "`bin_0` has 75% quantile 0. Let's look more closely "
   ]
  },
  {
   "cell_type": "code",
   "execution_count": 12,
   "id": "02bb327c",
   "metadata": {},
   "outputs": [
    {
     "data": {
      "text/plain": [
       "array([0., 0., 0., 1., 1., 1.])"
      ]
     },
     "execution_count": 12,
     "metadata": {},
     "output_type": "execute_result"
    }
   ],
   "source": [
    "np.quantile(x_train.bin_0.values, [0.75, 0.8, 0.85, 0.88, 0.90, 0.99], axis=0)"
   ]
  },
  {
   "cell_type": "code",
   "execution_count": 13,
   "id": "4c0d4560",
   "metadata": {},
   "outputs": [
    {
     "data": {
      "text/plain": [
       "0    0.87275\n",
       "1    0.12725\n",
       "Name: bin_0, dtype: float64"
      ]
     },
     "execution_count": 13,
     "metadata": {},
     "output_type": "execute_result"
    }
   ],
   "source": [
    "x_train.bin_0.value_counts()/x_train.shape[0]"
   ]
  },
  {
   "cell_type": "markdown",
   "id": "d637a153",
   "metadata": {},
   "source": [
    "approx 87% of the data are is 0. I will keep it for now but maybe is not that useful. Let's now look at the target."
   ]
  },
  {
   "cell_type": "code",
   "execution_count": 14,
   "id": "176f95da",
   "metadata": {},
   "outputs": [
    {
     "data": {
      "text/plain": [
       "(array([0, 1]), array([141515,  62485]))"
      ]
     },
     "execution_count": 14,
     "metadata": {},
     "output_type": "execute_result"
    }
   ],
   "source": [
    "unique, counts = np.unique(y_train, return_counts=True)\n",
    "unique, counts"
   ]
  },
  {
   "cell_type": "code",
   "execution_count": 15,
   "id": "85ac6711",
   "metadata": {},
   "outputs": [
    {
     "data": {
      "text/plain": [
       "array([0.69370098, 0.30629902])"
      ]
     },
     "execution_count": 15,
     "metadata": {},
     "output_type": "execute_result"
    }
   ],
   "source": [
    "counts/counts.sum()"
   ]
  },
  {
   "cell_type": "markdown",
   "id": "a4d238de",
   "metadata": {},
   "source": [
    "30% of the targets are 1s. A little imbalance but not a big deal. We will be using AUC as a metric instead of accuracy."
   ]
  },
  {
   "cell_type": "markdown",
   "id": "0578512f",
   "metadata": {},
   "source": [
    "Now let's look at how many unique values each features has."
   ]
  },
  {
   "cell_type": "code",
   "execution_count": 16,
   "id": "b7091ab0",
   "metadata": {},
   "outputs": [
    {
     "data": {
      "text/plain": [
       "{'bin_0': 2,\n",
       " 'bin_1': 2,\n",
       " 'bin_2': 2,\n",
       " 'bin_3': 2,\n",
       " 'bin_4': 2,\n",
       " 'nom_0': 3,\n",
       " 'nom_1': 6,\n",
       " 'nom_2': 6,\n",
       " 'nom_3': 6,\n",
       " 'nom_4': 4,\n",
       " 'nom_5': 222,\n",
       " 'nom_6': 522,\n",
       " 'nom_7': 1218,\n",
       " 'nom_8': 2210,\n",
       " 'nom_9': 11865,\n",
       " 'ord_0': 3,\n",
       " 'ord_1': 5,\n",
       " 'ord_2': 6,\n",
       " 'ord_3': 15,\n",
       " 'ord_4': 26,\n",
       " 'ord_5': 192,\n",
       " 'day': 7,\n",
       " 'month': 12}"
      ]
     },
     "execution_count": 16,
     "metadata": {},
     "output_type": "execute_result"
    }
   ],
   "source": [
    "{col: len(x_train[col].unique()) for col in x_train.columns}"
   ]
  },
  {
   "cell_type": "markdown",
   "id": "47732436",
   "metadata": {},
   "source": [
    "Some of these values are large. It it not a big deal for label encoding but I would be for one-hot-encoding."
   ]
  },
  {
   "cell_type": "code",
   "execution_count": 101,
   "id": "d522d9dc",
   "metadata": {},
   "outputs": [],
   "source": [
    "def plot_multiple_categorical(X, Y, features, top_n=20):\n",
    "    \n",
    "    ref = Y.mean() # Reference\n",
    "    subplots_per_row = 4; landmark = .01\n",
    "    plt.figure()\n",
    "    nb_rows = int(np.floor(len(features) / subplots_per_row)) + 1\n",
    "    fig, ax = plt.subplots(nb_rows, subplots_per_row,\n",
    "                           figsize=(15, 4.2 * nb_rows))\n",
    "    plt.subplots_adjust(hspace = .2, wspace = 0.5)\n",
    "    i = 0; n_row=0; n_col=0\n",
    "    for feature in features:\n",
    "        dff = pd.DataFrame({'x': x_train[feature], 'y': y_train})\n",
    "        tdf = dff.groupby(['x']).agg({'y': ['count', 'mean']})\n",
    "        tdf = tdf.sort_values(('y', 'count'), ascending=False).head(\n",
    "            top_n).sort_index()\n",
    "                  \n",
    "        tdf.index = tdf.index.map(str)\n",
    "        ax[n_row, n_col].bar(tdf.index, tdf['y']['mean'].values)\n",
    "        ax[n_row, n_col].axhline(y=ref, linewidth=3, color='black')\n",
    "        ax[n_row, n_col].set_title(feature, fontsize=11)\n",
    "        n_col += 1\n",
    "        if n_col == subplots_per_row:\n",
    "            n_col = 0\n",
    "            n_row += 1"
   ]
  },
  {
   "cell_type": "code",
   "execution_count": 102,
   "id": "958c72b5",
   "metadata": {},
   "outputs": [
    {
     "data": {
      "text/plain": [
       "<Figure size 432x288 with 0 Axes>"
      ]
     },
     "metadata": {},
     "output_type": "display_data"
    },
    {
     "data": {
      "image/png": "[encoded data removed]",
      "text/plain": [
       "<Figure size 1080x1814.4 with 24 Axes>"
      ]
     },
     "metadata": {
      "needs_background": "light"
     },
     "output_type": "display_data"
    }
   ],
   "source": [
    "plot_multiple_categorical(x_train, y_train, x_train.columns)"
   ]
  },
  {
   "cell_type": "markdown",
   "id": "0d276f22",
   "metadata": {},
   "source": [
    "### Solution #1: \n",
    "Encode categorical features with label encoding and use a tree based model"
   ]
  },
  {
   "cell_type": "code",
   "execution_count": 17,
   "id": "fde9f71d",
   "metadata": {},
   "outputs": [],
   "source": [
    "from sklearn.preprocessing import LabelEncoder\n",
    "def label_encoding_with_UNK(col_train, UNK=True):\n",
    "    \"\"\" Returns a label encoding \"UNK\" values\n",
    "    \"\"\"\n",
    "    le = LabelEncoder()\n",
    "    uniq = np.unique(col_train)\n",
    "    if UNK:\n",
    "        uniq = np.concatenate((np.array([\"UNK\"]),uniq))\n",
    "    le.fit(uniq)\n",
    "    return le"
   ]
  },
  {
   "cell_type": "code",
   "execution_count": 18,
   "id": "aa3daf31",
   "metadata": {},
   "outputs": [],
   "source": [
    "def transform_column(le, index, x_train, x_val, x_train_val, x_test):\n",
    "    x_train[index] = le.transform(x_train[index])\n",
    "    val = [x if x in le.classes_ else 'UNK' for x in x_val[index]]\n",
    "    x_val[index] = le.transform(val)\n",
    "    train_val =  [x if x in le.classes_ else 'UNK' \n",
    "                  for x in x_train_val[index]]\n",
    "    x_train_val[index] = le.transform(train_val)\n",
    "    test = [x if x in le.classes_ else 'UNK' for x in x_test[index]]\n",
    "    x_test[index] = le.transform(test)"
   ]
  },
  {
   "cell_type": "code",
   "execution_count": 19,
   "id": "2793eacf",
   "metadata": {},
   "outputs": [],
   "source": [
    "le = label_encoding_with_UNK(x_train.nom_0.values)"
   ]
  },
  {
   "cell_type": "code",
   "execution_count": 20,
   "id": "4ba46a14",
   "metadata": {},
   "outputs": [
    {
     "data": {
      "text/plain": [
       "array(['Blue', 'Green', 'Red', 'UNK'], dtype=object)"
      ]
     },
     "execution_count": 20,
     "metadata": {},
     "output_type": "execute_result"
    }
   ],
   "source": [
    "le.classes_"
   ]
  },
  {
   "cell_type": "code",
   "execution_count": 21,
   "id": "1ba044ad",
   "metadata": {},
   "outputs": [
    {
     "data": {
      "text/plain": [
       "array([0, 1, 2, 3])"
      ]
     },
     "execution_count": 21,
     "metadata": {},
     "output_type": "execute_result"
    }
   ],
   "source": [
    "le.transform(le.classes_)"
   ]
  },
  {
   "cell_type": "code",
   "execution_count": 22,
   "id": "e17dc46e",
   "metadata": {},
   "outputs": [
    {
     "data": {
      "text/plain": [
       "array([1, 2, 1, ..., 1, 0, 0])"
      ]
     },
     "execution_count": 22,
     "metadata": {},
     "output_type": "execute_result"
    }
   ],
   "source": [
    "le.transform(x_train.nom_0.values)"
   ]
  },
  {
   "cell_type": "code",
   "execution_count": 23,
   "id": "099886c9",
   "metadata": {},
   "outputs": [],
   "source": [
    "# notice a new value 'W' le.transform would break (try it)\n",
    "fake_nom_0 = np.array(['Blue', 'Green', 'Red', 'W'])"
   ]
  },
  {
   "cell_type": "code",
   "execution_count": 24,
   "id": "87edb929",
   "metadata": {},
   "outputs": [
    {
     "data": {
      "text/plain": [
       "['Blue', 'Green', 'Red', 'UNK']"
      ]
     },
     "execution_count": 24,
     "metadata": {},
     "output_type": "execute_result"
    }
   ],
   "source": [
    "# change \"W\" for \"UNK\" and then transform\n",
    "[x if x in le.classes_ else 'UNK' for x in fake_nom_0]"
   ]
  },
  {
   "cell_type": "code",
   "execution_count": 25,
   "id": "054d2272",
   "metadata": {},
   "outputs": [],
   "source": [
    "# columns that are not numerical already\n",
    "num_cols = x_train.iloc[:20,].applymap(np.isreal).all(0)"
   ]
  },
  {
   "cell_type": "code",
   "execution_count": 26,
   "id": "0fef1191",
   "metadata": {},
   "outputs": [
    {
     "data": {
      "text/plain": [
       "bin_0     True\n",
       "bin_1     True\n",
       "bin_2     True\n",
       "bin_3    False\n",
       "bin_4    False\n",
       "nom_0    False\n",
       "nom_1    False\n",
       "nom_2    False\n",
       "nom_3    False\n",
       "nom_4    False\n",
       "nom_5    False\n",
       "nom_6    False\n",
       "nom_7    False\n",
       "nom_8    False\n",
       "nom_9    False\n",
       "ord_0     True\n",
       "ord_1    False\n",
       "ord_2    False\n",
       "ord_3    False\n",
       "ord_4    False\n",
       "ord_5    False\n",
       "day       True\n",
       "month     True\n",
       "dtype: bool"
      ]
     },
     "execution_count": 26,
     "metadata": {},
     "output_type": "execute_result"
    }
   ],
   "source": [
    "num_cols"
   ]
  },
  {
   "cell_type": "code",
   "execution_count": 27,
   "id": "d55c56a5",
   "metadata": {},
   "outputs": [],
   "source": [
    "for index, value in num_cols.items():\n",
    "    if not value:\n",
    "        binary = index.startswith('bin')\n",
    "        UNK = False if binary else True\n",
    "        le = label_encoding_with_UNK(x_train[index].values, UNK=UNK)\n",
    "        transform_column(le, index, x_train, x_val, x_train_val, x_test)"
   ]
  },
  {
   "cell_type": "code",
   "execution_count": 28,
   "id": "1ffedaec",
   "metadata": {},
   "outputs": [
    {
     "data": {
      "text/html": [
       "<div>\n",
       "<style scoped>\n",
       "    .dataframe tbody tr th:only-of-type {\n",
       "        vertical-align: middle;\n",
       "    }\n",
       "\n",
       "    .dataframe tbody tr th {\n",
       "        vertical-align: top;\n",
       "    }\n",
       "\n",
       "    .dataframe thead th {\n",
       "        text-align: right;\n",
       "    }\n",
       "</style>\n",
       "<table border=\"1\" class=\"dataframe\">\n",
       "  <thead>\n",
       "    <tr style=\"text-align: right;\">\n",
       "      <th></th>\n",
       "      <th>bin_0</th>\n",
       "      <th>bin_1</th>\n",
       "      <th>bin_2</th>\n",
       "      <th>bin_3</th>\n",
       "      <th>bin_4</th>\n",
       "      <th>nom_0</th>\n",
       "      <th>nom_1</th>\n",
       "      <th>nom_2</th>\n",
       "      <th>nom_3</th>\n",
       "      <th>nom_4</th>\n",
       "      <th>...</th>\n",
       "      <th>nom_8</th>\n",
       "      <th>nom_9</th>\n",
       "      <th>ord_0</th>\n",
       "      <th>ord_1</th>\n",
       "      <th>ord_2</th>\n",
       "      <th>ord_3</th>\n",
       "      <th>ord_4</th>\n",
       "      <th>ord_5</th>\n",
       "      <th>day</th>\n",
       "      <th>month</th>\n",
       "    </tr>\n",
       "  </thead>\n",
       "  <tbody>\n",
       "    <tr>\n",
       "      <th>203794</th>\n",
       "      <td>0</td>\n",
       "      <td>0</td>\n",
       "      <td>0</td>\n",
       "      <td>0</td>\n",
       "      <td>0</td>\n",
       "      <td>1</td>\n",
       "      <td>5</td>\n",
       "      <td>3</td>\n",
       "      <td>5</td>\n",
       "      <td>1</td>\n",
       "      <td>...</td>\n",
       "      <td>180</td>\n",
       "      <td>4143</td>\n",
       "      <td>1</td>\n",
       "      <td>0</td>\n",
       "      <td>4</td>\n",
       "      <td>10</td>\n",
       "      <td>20</td>\n",
       "      <td>159</td>\n",
       "      <td>3</td>\n",
       "      <td>2</td>\n",
       "    </tr>\n",
       "    <tr>\n",
       "      <th>76267</th>\n",
       "      <td>0</td>\n",
       "      <td>1</td>\n",
       "      <td>0</td>\n",
       "      <td>1</td>\n",
       "      <td>0</td>\n",
       "      <td>2</td>\n",
       "      <td>4</td>\n",
       "      <td>4</td>\n",
       "      <td>5</td>\n",
       "      <td>2</td>\n",
       "      <td>...</td>\n",
       "      <td>243</td>\n",
       "      <td>2224</td>\n",
       "      <td>1</td>\n",
       "      <td>0</td>\n",
       "      <td>4</td>\n",
       "      <td>1</td>\n",
       "      <td>0</td>\n",
       "      <td>167</td>\n",
       "      <td>2</td>\n",
       "      <td>1</td>\n",
       "    </tr>\n",
       "    <tr>\n",
       "      <th>232524</th>\n",
       "      <td>0</td>\n",
       "      <td>1</td>\n",
       "      <td>1</td>\n",
       "      <td>1</td>\n",
       "      <td>1</td>\n",
       "      <td>1</td>\n",
       "      <td>4</td>\n",
       "      <td>2</td>\n",
       "      <td>0</td>\n",
       "      <td>2</td>\n",
       "      <td>...</td>\n",
       "      <td>364</td>\n",
       "      <td>4830</td>\n",
       "      <td>3</td>\n",
       "      <td>1</td>\n",
       "      <td>2</td>\n",
       "      <td>9</td>\n",
       "      <td>10</td>\n",
       "      <td>97</td>\n",
       "      <td>4</td>\n",
       "      <td>4</td>\n",
       "    </tr>\n",
       "    <tr>\n",
       "      <th>49073</th>\n",
       "      <td>0</td>\n",
       "      <td>0</td>\n",
       "      <td>0</td>\n",
       "      <td>0</td>\n",
       "      <td>1</td>\n",
       "      <td>0</td>\n",
       "      <td>4</td>\n",
       "      <td>4</td>\n",
       "      <td>5</td>\n",
       "      <td>0</td>\n",
       "      <td>...</td>\n",
       "      <td>619</td>\n",
       "      <td>2242</td>\n",
       "      <td>3</td>\n",
       "      <td>4</td>\n",
       "      <td>2</td>\n",
       "      <td>1</td>\n",
       "      <td>4</td>\n",
       "      <td>90</td>\n",
       "      <td>2</td>\n",
       "      <td>12</td>\n",
       "    </tr>\n",
       "    <tr>\n",
       "      <th>213004</th>\n",
       "      <td>0</td>\n",
       "      <td>0</td>\n",
       "      <td>0</td>\n",
       "      <td>0</td>\n",
       "      <td>0</td>\n",
       "      <td>1</td>\n",
       "      <td>3</td>\n",
       "      <td>4</td>\n",
       "      <td>5</td>\n",
       "      <td>2</td>\n",
       "      <td>...</td>\n",
       "      <td>418</td>\n",
       "      <td>8687</td>\n",
       "      <td>1</td>\n",
       "      <td>0</td>\n",
       "      <td>1</td>\n",
       "      <td>9</td>\n",
       "      <td>9</td>\n",
       "      <td>26</td>\n",
       "      <td>4</td>\n",
       "      <td>12</td>\n",
       "    </tr>\n",
       "  </tbody>\n",
       "</table>\n",
       "<p>5 rows × 23 columns</p>\n",
       "</div>"
      ],
      "text/plain": [
       "        bin_0  bin_1  bin_2  bin_3  bin_4  nom_0  nom_1  nom_2  nom_3  nom_4  \\\n",
       "203794      0      0      0      0      0      1      5      3      5      1   \n",
       "76267       0      1      0      1      0      2      4      4      5      2   \n",
       "232524      0      1      1      1      1      1      4      2      0      2   \n",
       "49073       0      0      0      0      1      0      4      4      5      0   \n",
       "213004      0      0      0      0      0      1      3      4      5      2   \n",
       "\n",
       "        ...  nom_8  nom_9  ord_0  ord_1  ord_2  ord_3  ord_4  ord_5  day  \\\n",
       "203794  ...    180   4143      1      0      4     10     20    159    3   \n",
       "76267   ...    243   2224      1      0      4      1      0    167    2   \n",
       "232524  ...    364   4830      3      1      2      9     10     97    4   \n",
       "49073   ...    619   2242      3      4      2      1      4     90    2   \n",
       "213004  ...    418   8687      1      0      1      9      9     26    4   \n",
       "\n",
       "        month  \n",
       "203794      2  \n",
       "76267       1  \n",
       "232524      4  \n",
       "49073      12  \n",
       "213004     12  \n",
       "\n",
       "[5 rows x 23 columns]"
      ]
     },
     "execution_count": 28,
     "metadata": {},
     "output_type": "execute_result"
    }
   ],
   "source": [
    "x_train.head()"
   ]
  },
  {
   "cell_type": "code",
   "execution_count": 238,
   "id": "815e7eea",
   "metadata": {},
   "outputs": [
    {
     "data": {
      "text/html": [
       "<div>\n",
       "<style scoped>\n",
       "    .dataframe tbody tr th:only-of-type {\n",
       "        vertical-align: middle;\n",
       "    }\n",
       "\n",
       "    .dataframe tbody tr th {\n",
       "        vertical-align: top;\n",
       "    }\n",
       "\n",
       "    .dataframe thead th {\n",
       "        text-align: right;\n",
       "    }\n",
       "</style>\n",
       "<table border=\"1\" class=\"dataframe\">\n",
       "  <thead>\n",
       "    <tr style=\"text-align: right;\">\n",
       "      <th></th>\n",
       "      <th>bin_0</th>\n",
       "      <th>bin_1</th>\n",
       "      <th>bin_2</th>\n",
       "      <th>bin_3</th>\n",
       "      <th>bin_4</th>\n",
       "      <th>nom_0</th>\n",
       "      <th>nom_1</th>\n",
       "      <th>nom_2</th>\n",
       "      <th>nom_3</th>\n",
       "      <th>nom_4</th>\n",
       "      <th>...</th>\n",
       "      <th>nom_8</th>\n",
       "      <th>nom_9</th>\n",
       "      <th>ord_0</th>\n",
       "      <th>ord_1</th>\n",
       "      <th>ord_2</th>\n",
       "      <th>ord_3</th>\n",
       "      <th>ord_4</th>\n",
       "      <th>ord_5</th>\n",
       "      <th>day</th>\n",
       "      <th>month</th>\n",
       "    </tr>\n",
       "  </thead>\n",
       "  <tbody>\n",
       "    <tr>\n",
       "      <th>29793</th>\n",
       "      <td>0</td>\n",
       "      <td>0</td>\n",
       "      <td>0</td>\n",
       "      <td>0</td>\n",
       "      <td>1</td>\n",
       "      <td>0</td>\n",
       "      <td>4</td>\n",
       "      <td>1</td>\n",
       "      <td>3</td>\n",
       "      <td>1</td>\n",
       "      <td>...</td>\n",
       "      <td>1051</td>\n",
       "      <td>1473</td>\n",
       "      <td>2</td>\n",
       "      <td>4</td>\n",
       "      <td>2</td>\n",
       "      <td>2</td>\n",
       "      <td>26</td>\n",
       "      <td>141</td>\n",
       "      <td>1</td>\n",
       "      <td>4</td>\n",
       "    </tr>\n",
       "    <tr>\n",
       "      <th>65074</th>\n",
       "      <td>0</td>\n",
       "      <td>1</td>\n",
       "      <td>0</td>\n",
       "      <td>1</td>\n",
       "      <td>0</td>\n",
       "      <td>0</td>\n",
       "      <td>3</td>\n",
       "      <td>2</td>\n",
       "      <td>1</td>\n",
       "      <td>1</td>\n",
       "      <td>...</td>\n",
       "      <td>2181</td>\n",
       "      <td>5405</td>\n",
       "      <td>2</td>\n",
       "      <td>2</td>\n",
       "      <td>0</td>\n",
       "      <td>8</td>\n",
       "      <td>18</td>\n",
       "      <td>108</td>\n",
       "      <td>3</td>\n",
       "      <td>3</td>\n",
       "    </tr>\n",
       "    <tr>\n",
       "      <th>93174</th>\n",
       "      <td>0</td>\n",
       "      <td>0</td>\n",
       "      <td>1</td>\n",
       "      <td>1</td>\n",
       "      <td>0</td>\n",
       "      <td>2</td>\n",
       "      <td>4</td>\n",
       "      <td>4</td>\n",
       "      <td>5</td>\n",
       "      <td>0</td>\n",
       "      <td>...</td>\n",
       "      <td>1886</td>\n",
       "      <td>9584</td>\n",
       "      <td>1</td>\n",
       "      <td>4</td>\n",
       "      <td>4</td>\n",
       "      <td>8</td>\n",
       "      <td>10</td>\n",
       "      <td>26</td>\n",
       "      <td>3</td>\n",
       "      <td>12</td>\n",
       "    </tr>\n",
       "    <tr>\n",
       "      <th>150730</th>\n",
       "      <td>0</td>\n",
       "      <td>0</td>\n",
       "      <td>1</td>\n",
       "      <td>0</td>\n",
       "      <td>1</td>\n",
       "      <td>0</td>\n",
       "      <td>2</td>\n",
       "      <td>2</td>\n",
       "      <td>3</td>\n",
       "      <td>2</td>\n",
       "      <td>...</td>\n",
       "      <td>405</td>\n",
       "      <td>10024</td>\n",
       "      <td>2</td>\n",
       "      <td>1</td>\n",
       "      <td>2</td>\n",
       "      <td>7</td>\n",
       "      <td>17</td>\n",
       "      <td>109</td>\n",
       "      <td>2</td>\n",
       "      <td>2</td>\n",
       "    </tr>\n",
       "    <tr>\n",
       "      <th>205008</th>\n",
       "      <td>0</td>\n",
       "      <td>0</td>\n",
       "      <td>1</td>\n",
       "      <td>0</td>\n",
       "      <td>0</td>\n",
       "      <td>1</td>\n",
       "      <td>4</td>\n",
       "      <td>2</td>\n",
       "      <td>1</td>\n",
       "      <td>0</td>\n",
       "      <td>...</td>\n",
       "      <td>2067</td>\n",
       "      <td>3078</td>\n",
       "      <td>1</td>\n",
       "      <td>2</td>\n",
       "      <td>0</td>\n",
       "      <td>11</td>\n",
       "      <td>18</td>\n",
       "      <td>7</td>\n",
       "      <td>3</td>\n",
       "      <td>8</td>\n",
       "    </tr>\n",
       "  </tbody>\n",
       "</table>\n",
       "<p>5 rows × 23 columns</p>\n",
       "</div>"
      ],
      "text/plain": [
       "        bin_0  bin_1  bin_2  bin_3  bin_4  nom_0  nom_1  nom_2  nom_3  nom_4  \\\n",
       "29793       0      0      0      0      1      0      4      1      3      1   \n",
       "65074       0      1      0      1      0      0      3      2      1      1   \n",
       "93174       0      0      1      1      0      2      4      4      5      0   \n",
       "150730      0      0      1      0      1      0      2      2      3      2   \n",
       "205008      0      0      1      0      0      1      4      2      1      0   \n",
       "\n",
       "        ...  nom_8  nom_9  ord_0  ord_1  ord_2  ord_3  ord_4  ord_5  day  \\\n",
       "29793   ...   1051   1473      2      4      2      2     26    141    1   \n",
       "65074   ...   2181   5405      2      2      0      8     18    108    3   \n",
       "93174   ...   1886   9584      1      4      4      8     10     26    3   \n",
       "150730  ...    405  10024      2      1      2      7     17    109    2   \n",
       "205008  ...   2067   3078      1      2      0     11     18      7    3   \n",
       "\n",
       "        month  \n",
       "29793       4  \n",
       "65074       3  \n",
       "93174      12  \n",
       "150730      2  \n",
       "205008      8  \n",
       "\n",
       "[5 rows x 23 columns]"
      ]
     },
     "execution_count": 238,
     "metadata": {},
     "output_type": "execute_result"
    }
   ],
   "source": [
    "x_test.head()"
   ]
  },
  {
   "cell_type": "markdown",
   "id": "745b9191",
   "metadata": {},
   "source": [
    "### Doing Randomized Search with validation set"
   ]
  },
  {
   "cell_type": "code",
   "execution_count": 29,
   "id": "2b6572dd",
   "metadata": {},
   "outputs": [],
   "source": [
    "from sklearn.model_selection import PredefinedSplit\n",
    "from sklearn.metrics import roc_auc_score"
   ]
  },
  {
   "cell_type": "code",
   "execution_count": 30,
   "id": "85b6559e",
   "metadata": {},
   "outputs": [],
   "source": [
    "split_index = [-1 if x in x_train.index else 0 for x in x_train_val.index]\n",
    "pds = PredefinedSplit(test_fold = split_index)"
   ]
  },
  {
   "cell_type": "code",
   "execution_count": 31,
   "id": "910bc922",
   "metadata": {},
   "outputs": [],
   "source": [
    "max_depth = [int(x) for x in np.linspace(6, 20, num = 5)]\n",
    "max_features = [x for x in np.linspace(0.1, 1, num = 5)]\n",
    "min_samples_leaf = [int(x) for x in np.linspace(6, 20, num = 5)]"
   ]
  },
  {
   "cell_type": "code",
   "execution_count": 32,
   "id": "7ac004c6",
   "metadata": {},
   "outputs": [],
   "source": [
    "random_grid = {'max_features': max_features,\n",
    "               'max_depth': max_depth,\n",
    "               'min_samples_leaf': min_samples_leaf}"
   ]
  },
  {
   "cell_type": "code",
   "execution_count": 33,
   "id": "0af76da0",
   "metadata": {},
   "outputs": [],
   "source": [
    "rf = RandomForestClassifier()"
   ]
  },
  {
   "cell_type": "code",
   "execution_count": 34,
   "id": "8f77d2f9",
   "metadata": {},
   "outputs": [],
   "source": [
    "rf_random = RandomizedSearchCV(\n",
    "    estimator = rf, param_distributions = random_grid, scoring='roc_auc',\n",
    "    n_iter = 30, cv = pds, random_state=42, verbose=2, n_jobs = -1)"
   ]
  },
  {
   "cell_type": "code",
   "execution_count": 35,
   "id": "0c841caf",
   "metadata": {},
   "outputs": [
    {
     "name": "stdout",
     "output_type": "stream",
     "text": [
      "Fitting 1 folds for each of 30 candidates, totalling 30 fits\n"
     ]
    },
    {
     "data": {
      "text/plain": [
       "RandomizedSearchCV(cv=PredefinedSplit(test_fold=array([-1, -1, ..., -1,  0])),\n",
       "                   estimator=RandomForestClassifier(), n_iter=30, n_jobs=-1,\n",
       "                   param_distributions={'max_depth': [6, 9, 13, 16, 20],\n",
       "                                        'max_features': [0.1, 0.325, 0.55,\n",
       "                                                         0.775, 1.0],\n",
       "                                        'min_samples_leaf': [6, 9, 13, 16, 20]},\n",
       "                   random_state=42, scoring='roc_auc', verbose=2)"
      ]
     },
     "execution_count": 35,
     "metadata": {},
     "output_type": "execute_result"
    }
   ],
   "source": [
    "rf_random.fit(x_train_val, y_train_val)"
   ]
  },
  {
   "cell_type": "code",
   "execution_count": 37,
   "id": "79e092cd",
   "metadata": {},
   "outputs": [
    {
     "data": {
      "text/plain": [
       "0.7457909920415504"
      ]
     },
     "execution_count": 37,
     "metadata": {},
     "output_type": "execute_result"
    }
   ],
   "source": [
    "roc_auc_score(y_test, rf_random.predict_proba(x_test)[:,1])"
   ]
  },
  {
   "cell_type": "code",
   "execution_count": 38,
   "id": "331b244b",
   "metadata": {},
   "outputs": [],
   "source": [
    "importances = rf_random.best_estimator_.feature_importances_"
   ]
  },
  {
   "cell_type": "code",
   "execution_count": 39,
   "id": "c92f8bad",
   "metadata": {},
   "outputs": [
    {
     "data": {
      "text/plain": [
       "array([0.00381539, 0.02507524, 0.00804034, 0.00826571, 0.01086953,\n",
       "       0.0356182 , 0.02690999, 0.02274893, 0.02480999, 0.03224892,\n",
       "       0.04696756, 0.04814144, 0.0484173 , 0.04806176, 0.04872981,\n",
       "       0.02988853, 0.06621115, 0.06344024, 0.07555627, 0.10806821,\n",
       "       0.14114568, 0.02661949, 0.05035034])"
      ]
     },
     "execution_count": 39,
     "metadata": {},
     "output_type": "execute_result"
    }
   ],
   "source": [
    "importances"
   ]
  },
  {
   "cell_type": "code",
   "execution_count": 41,
   "id": "13ff32b4",
   "metadata": {},
   "outputs": [],
   "source": [
    "forest_importances = pd.Series(importances, index=x_train.columns)"
   ]
  },
  {
   "cell_type": "code",
   "execution_count": 42,
   "id": "675e6bea",
   "metadata": {},
   "outputs": [],
   "source": [
    "forest_importances = forest_importances.sort_values(ascending=False)"
   ]
  },
  {
   "cell_type": "code",
   "execution_count": 43,
   "id": "c903f2ba",
   "metadata": {},
   "outputs": [
    {
     "data": {
      "image/png": "[encoded data removed]",
      "text/plain": [
       "<Figure size 432x288 with 1 Axes>"
      ]
     },
     "metadata": {
      "needs_background": "light"
     },
     "output_type": "display_data"
    }
   ],
   "source": [
    "fig, ax = plt.subplots()\n",
    "forest_importances.plot.bar()\n",
    "ax.set_title(\"Feature importances\")\n",
    "ax.set_ylabel(\"Mean decrease in impurity\")\n",
    "fig.tight_layout()"
   ]
  },
  {
   "cell_type": "markdown",
   "id": "2ab33e5c",
   "metadata": {},
   "source": [
    "## References\n",
    "* https://www.kaggle.com/adaubas/2nd-place-solution-categorical-fe-callenge"
   ]
  },
  {
   "cell_type": "code",
   "execution_count": null,
   "id": "1d258975",
   "metadata": {},
   "outputs": [],
   "source": []
  }
 ],
 "metadata": {
  "kernelspec": {
   "display_name": "Python 3",
   "language": "python",
   "name": "python3"
  },
  "language_info": {
   "codemirror_mode": {
    "name": "ipython",
    "version": 3
   },
   "file_extension": ".py",
   "mimetype": "text/x-python",
   "name": "python",
   "nbconvert_exporter": "python",
   "pygments_lexer": "ipython3",
   "version": "3.8.10"
  }
 },
 "nbformat": 4,
 "nbformat_minor": 5
}
