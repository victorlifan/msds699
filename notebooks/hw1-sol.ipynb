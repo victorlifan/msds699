{
 "cells": [
  {
   "cell_type": "code",
   "execution_count": 1,
   "id": "0796f1df",
   "metadata": {},
   "outputs": [],
   "source": [
    "import numpy as np\n",
    "import pandas as pd\n",
    "import matplotlib.pyplot as plt\n",
    "from sklearn.model_selection import KFold\n",
    "from sklearn.linear_model import RidgeCV\n",
    "from sklearn.linear_model import LassoCV\n",
    "from sklearn.linear_model import Lasso\n",
    "from sklearn.ensemble import RandomForestRegressor\n",
    "from sklearn.model_selection import RandomizedSearchCV\n",
    "from sklearn.metrics import r2_score\n",
    "\n",
    "from sklearn.impute import SimpleImputer\n",
    "from sklearn.model_selection import train_test_split"
   ]
  },
  {
   "cell_type": "markdown",
   "id": "a01e71e3",
   "metadata": {},
   "source": [
    "### Section 1"
   ]
  },
  {
   "cell_type": "code",
   "execution_count": 2,
   "id": "ecf3c703",
   "metadata": {},
   "outputs": [],
   "source": [
    "def hard_predictions(x):\n",
    "    z1 = 2*x[0] + x[1]\n",
    "    z2 = x[0] + x[1] + 1\n",
    "    z3 = x[0] + 2*x[1]\n",
    "    return np.argmax([z1, z2, z3], axis=0)"
   ]
  },
  {
   "cell_type": "code",
   "execution_count": 3,
   "id": "f8fc19eb",
   "metadata": {},
   "outputs": [
    {
     "data": {
      "text/plain": [
       "(1, 0, 2)"
      ]
     },
     "execution_count": 3,
     "metadata": {},
     "output_type": "execute_result"
    }
   ],
   "source": [
    "hard_predictions((0, 0)), hard_predictions((100, 0)),hard_predictions((0, 100))"
   ]
  },
  {
   "cell_type": "code",
   "execution_count": 4,
   "id": "94e31cf5",
   "metadata": {},
   "outputs": [],
   "source": [
    "h = .02\n",
    "xx, yy = np.meshgrid(np.arange(-1, 2, h), np.arange(-1, 2, h))\n",
    "Z = np.array([hard_predictions(x) for x in np.c_[xx.ravel(), yy.ravel()]])"
   ]
  },
  {
   "cell_type": "code",
   "execution_count": 5,
   "id": "a8035300",
   "metadata": {},
   "outputs": [],
   "source": [
    "Z = Z.reshape(xx.shape)"
   ]
  },
  {
   "cell_type": "code",
   "execution_count": 6,
   "id": "83f8b434",
   "metadata": {},
   "outputs": [
    {
     "data": {
      "text/plain": [
       "<matplotlib.collections.QuadMesh at 0x7ff348a961f0>"
      ]
     },
     "execution_count": 6,
     "metadata": {},
     "output_type": "execute_result"
    },
    {
     "data": {
      "image/png": "[encoded data removed]",
      "text/plain": [
       "<Figure size 504x360 with 1 Axes>"
      ]
     },
     "metadata": {
      "needs_background": "light"
     },
     "output_type": "display_data"
    }
   ],
   "source": [
    "plt.figure(1, figsize=(7, 5))\n",
    "plt.pcolormesh(xx, yy, Z, cmap=plt.cm.Pastel1, shading='auto')"
   ]
  },
  {
   "cell_type": "markdown",
   "id": "838f0261",
   "metadata": {},
   "source": [
    "### Section 2.1"
   ]
  },
  {
   "cell_type": "code",
   "execution_count": 7,
   "id": "74358365",
   "metadata": {},
   "outputs": [],
   "source": [
    "columns = ['state','county','community','communityname','fold','population','householdsize',\n",
    "           'racepctblack','racePctWhite','racePctAsian','racePctHisp','agePct12t21',\n",
    "           'agePct12t29','agePct16t24','agePct65up','numbUrban','pctUrban','medIncome',\n",
    "           'pctWWage','pctWFarmSelf','pctWInvInc','pctWSocSec','pctWPubAsst','pctWRetire',\n",
    "           'medFamInc','perCapInc','whitePerCap','blackPerCap','indianPerCap','AsianPerCap',\n",
    "           'OtherPerCap','HispPerCap','NumUnderPov','PctPopUnderPov','PctLess9thGrade',\n",
    "           'PctNotHSGrad','PctBSorMore','PctUnemployed','PctEmploy','PctEmplManu',\n",
    "           'PctEmplProfServ','PctOccupManu','PctOccupMgmtProf','MalePctDivorce','MalePctNevMarr','FemalePctDiv','TotalPctDiv','PersPerFam','PctFam2Par','PctKids2Par','PctYoungKids2Par','PctTeen2Par','PctWorkMomYoungKids','PctWorkMom','NumIlleg','PctIlleg','NumImmig','PctImmigRecent','PctImmigRec5','PctImmigRec8','PctImmigRec10','PctRecentImmig','PctRecImmig5','PctRecImmig8','PctRecImmig10','PctSpeakEnglOnly','PctNotSpeakEnglWell','PctLargHouseFam','PctLargHouseOccup','PersPerOccupHous','PersPerOwnOccHous','PersPerRentOccHous','PctPersOwnOccup','PctPersDenseHous','PctHousLess3BR','MedNumBR','HousVacant','PctHousOccup','PctHousOwnOcc','PctVacantBoarded','PctVacMore6Mos','MedYrHousBuilt','PctHousNoPhone','PctWOFullPlumb','OwnOccLowQuart','OwnOccMedVal','OwnOccHiQuart','RentLowQ','RentMedian','RentHighQ','MedRent','MedRentPctHousInc','MedOwnCostPctInc','MedOwnCostPctIncNoMtg','NumInShelters','NumStreet','PctForeignBorn','PctBornSameState','PctSameHouse85','PctSameCity85','PctSameState85','LemasSwornFT','LemasSwFTPerPop','LemasSwFTFieldOps','LemasSwFTFieldPerPop','LemasTotalReq','LemasTotReqPerPop','PolicReqPerOffic','PolicPerPop','RacialMatchCommPol','PctPolicWhite','PctPolicBlack','PctPolicHisp','PctPolicAsian','PctPolicMinor','OfficAssgnDrugUnits','NumKindsDrugsSeiz','PolicAveOTWorked','LandArea','PopDens','PctUsePubTrans','PolicCars','PolicOperBudg','LemasPctPolicOnPatr','LemasGangUnitDeploy','LemasPctOfficDrugUn','PolicBudgPerPop','ViolentCrimesPerPop']"
   ]
  },
  {
   "cell_type": "code",
   "execution_count": 8,
   "id": "b603212a",
   "metadata": {},
   "outputs": [],
   "source": [
    "df = pd.read_csv(\"communities.data\", header=None, na_values=[\"?\"], names=columns)"
   ]
  },
  {
   "cell_type": "code",
   "execution_count": 9,
   "id": "52760704",
   "metadata": {},
   "outputs": [
    {
     "data": {
      "text/html": [
       "<div>\n",
       "<style scoped>\n",
       "    .dataframe tbody tr th:only-of-type {\n",
       "        vertical-align: middle;\n",
       "    }\n",
       "\n",
       "    .dataframe tbody tr th {\n",
       "        vertical-align: top;\n",
       "    }\n",
       "\n",
       "    .dataframe thead th {\n",
       "        text-align: right;\n",
       "    }\n",
       "</style>\n",
       "<table border=\"1\" class=\"dataframe\">\n",
       "  <thead>\n",
       "    <tr style=\"text-align: right;\">\n",
       "      <th></th>\n",
       "      <th>state</th>\n",
       "      <th>county</th>\n",
       "      <th>community</th>\n",
       "      <th>communityname</th>\n",
       "      <th>fold</th>\n",
       "      <th>population</th>\n",
       "      <th>householdsize</th>\n",
       "      <th>racepctblack</th>\n",
       "      <th>racePctWhite</th>\n",
       "      <th>racePctAsian</th>\n",
       "      <th>...</th>\n",
       "      <th>LandArea</th>\n",
       "      <th>PopDens</th>\n",
       "      <th>PctUsePubTrans</th>\n",
       "      <th>PolicCars</th>\n",
       "      <th>PolicOperBudg</th>\n",
       "      <th>LemasPctPolicOnPatr</th>\n",
       "      <th>LemasGangUnitDeploy</th>\n",
       "      <th>LemasPctOfficDrugUn</th>\n",
       "      <th>PolicBudgPerPop</th>\n",
       "      <th>ViolentCrimesPerPop</th>\n",
       "    </tr>\n",
       "  </thead>\n",
       "  <tbody>\n",
       "    <tr>\n",
       "      <th>0</th>\n",
       "      <td>8</td>\n",
       "      <td>NaN</td>\n",
       "      <td>NaN</td>\n",
       "      <td>Lakewoodcity</td>\n",
       "      <td>1</td>\n",
       "      <td>0.19</td>\n",
       "      <td>0.33</td>\n",
       "      <td>0.02</td>\n",
       "      <td>0.90</td>\n",
       "      <td>0.12</td>\n",
       "      <td>...</td>\n",
       "      <td>0.12</td>\n",
       "      <td>0.26</td>\n",
       "      <td>0.20</td>\n",
       "      <td>0.06</td>\n",
       "      <td>0.04</td>\n",
       "      <td>0.9</td>\n",
       "      <td>0.5</td>\n",
       "      <td>0.32</td>\n",
       "      <td>0.14</td>\n",
       "      <td>0.20</td>\n",
       "    </tr>\n",
       "    <tr>\n",
       "      <th>1</th>\n",
       "      <td>53</td>\n",
       "      <td>NaN</td>\n",
       "      <td>NaN</td>\n",
       "      <td>Tukwilacity</td>\n",
       "      <td>1</td>\n",
       "      <td>0.00</td>\n",
       "      <td>0.16</td>\n",
       "      <td>0.12</td>\n",
       "      <td>0.74</td>\n",
       "      <td>0.45</td>\n",
       "      <td>...</td>\n",
       "      <td>0.02</td>\n",
       "      <td>0.12</td>\n",
       "      <td>0.45</td>\n",
       "      <td>NaN</td>\n",
       "      <td>NaN</td>\n",
       "      <td>NaN</td>\n",
       "      <td>NaN</td>\n",
       "      <td>0.00</td>\n",
       "      <td>NaN</td>\n",
       "      <td>0.67</td>\n",
       "    </tr>\n",
       "    <tr>\n",
       "      <th>2</th>\n",
       "      <td>24</td>\n",
       "      <td>NaN</td>\n",
       "      <td>NaN</td>\n",
       "      <td>Aberdeentown</td>\n",
       "      <td>1</td>\n",
       "      <td>0.00</td>\n",
       "      <td>0.42</td>\n",
       "      <td>0.49</td>\n",
       "      <td>0.56</td>\n",
       "      <td>0.17</td>\n",
       "      <td>...</td>\n",
       "      <td>0.01</td>\n",
       "      <td>0.21</td>\n",
       "      <td>0.02</td>\n",
       "      <td>NaN</td>\n",
       "      <td>NaN</td>\n",
       "      <td>NaN</td>\n",
       "      <td>NaN</td>\n",
       "      <td>0.00</td>\n",
       "      <td>NaN</td>\n",
       "      <td>0.43</td>\n",
       "    </tr>\n",
       "    <tr>\n",
       "      <th>3</th>\n",
       "      <td>34</td>\n",
       "      <td>5.0</td>\n",
       "      <td>81440.0</td>\n",
       "      <td>Willingborotownship</td>\n",
       "      <td>1</td>\n",
       "      <td>0.04</td>\n",
       "      <td>0.77</td>\n",
       "      <td>1.00</td>\n",
       "      <td>0.08</td>\n",
       "      <td>0.12</td>\n",
       "      <td>...</td>\n",
       "      <td>0.02</td>\n",
       "      <td>0.39</td>\n",
       "      <td>0.28</td>\n",
       "      <td>NaN</td>\n",
       "      <td>NaN</td>\n",
       "      <td>NaN</td>\n",
       "      <td>NaN</td>\n",
       "      <td>0.00</td>\n",
       "      <td>NaN</td>\n",
       "      <td>0.12</td>\n",
       "    </tr>\n",
       "    <tr>\n",
       "      <th>4</th>\n",
       "      <td>42</td>\n",
       "      <td>95.0</td>\n",
       "      <td>6096.0</td>\n",
       "      <td>Bethlehemtownship</td>\n",
       "      <td>1</td>\n",
       "      <td>0.01</td>\n",
       "      <td>0.55</td>\n",
       "      <td>0.02</td>\n",
       "      <td>0.95</td>\n",
       "      <td>0.09</td>\n",
       "      <td>...</td>\n",
       "      <td>0.04</td>\n",
       "      <td>0.09</td>\n",
       "      <td>0.02</td>\n",
       "      <td>NaN</td>\n",
       "      <td>NaN</td>\n",
       "      <td>NaN</td>\n",
       "      <td>NaN</td>\n",
       "      <td>0.00</td>\n",
       "      <td>NaN</td>\n",
       "      <td>0.03</td>\n",
       "    </tr>\n",
       "  </tbody>\n",
       "</table>\n",
       "<p>5 rows × 128 columns</p>\n",
       "</div>"
      ],
      "text/plain": [
       "   state  county  community        communityname  fold  population  \\\n",
       "0      8     NaN        NaN         Lakewoodcity     1        0.19   \n",
       "1     53     NaN        NaN          Tukwilacity     1        0.00   \n",
       "2     24     NaN        NaN         Aberdeentown     1        0.00   \n",
       "3     34     5.0    81440.0  Willingborotownship     1        0.04   \n",
       "4     42    95.0     6096.0    Bethlehemtownship     1        0.01   \n",
       "\n",
       "   householdsize  racepctblack  racePctWhite  racePctAsian  ...  LandArea  \\\n",
       "0           0.33          0.02          0.90          0.12  ...      0.12   \n",
       "1           0.16          0.12          0.74          0.45  ...      0.02   \n",
       "2           0.42          0.49          0.56          0.17  ...      0.01   \n",
       "3           0.77          1.00          0.08          0.12  ...      0.02   \n",
       "4           0.55          0.02          0.95          0.09  ...      0.04   \n",
       "\n",
       "   PopDens  PctUsePubTrans  PolicCars  PolicOperBudg  LemasPctPolicOnPatr  \\\n",
       "0     0.26            0.20       0.06           0.04                  0.9   \n",
       "1     0.12            0.45        NaN            NaN                  NaN   \n",
       "2     0.21            0.02        NaN            NaN                  NaN   \n",
       "3     0.39            0.28        NaN            NaN                  NaN   \n",
       "4     0.09            0.02        NaN            NaN                  NaN   \n",
       "\n",
       "   LemasGangUnitDeploy  LemasPctOfficDrugUn  PolicBudgPerPop  \\\n",
       "0                  0.5                 0.32             0.14   \n",
       "1                  NaN                 0.00              NaN   \n",
       "2                  NaN                 0.00              NaN   \n",
       "3                  NaN                 0.00              NaN   \n",
       "4                  NaN                 0.00              NaN   \n",
       "\n",
       "   ViolentCrimesPerPop  \n",
       "0                 0.20  \n",
       "1                 0.67  \n",
       "2                 0.43  \n",
       "3                 0.12  \n",
       "4                 0.03  \n",
       "\n",
       "[5 rows x 128 columns]"
      ]
     },
     "execution_count": 9,
     "metadata": {},
     "output_type": "execute_result"
    }
   ],
   "source": [
    "df.head()"
   ]
  },
  {
   "cell_type": "code",
   "execution_count": 10,
   "id": "193b97c1",
   "metadata": {},
   "outputs": [],
   "source": [
    "Y = df.iloc[:,-1].values\n",
    "X = df.iloc[:,5:127]"
   ]
  },
  {
   "cell_type": "code",
   "execution_count": 11,
   "id": "80b56f08",
   "metadata": {},
   "outputs": [
    {
     "data": {
      "text/html": [
       "<div>\n",
       "<style scoped>\n",
       "    .dataframe tbody tr th:only-of-type {\n",
       "        vertical-align: middle;\n",
       "    }\n",
       "\n",
       "    .dataframe tbody tr th {\n",
       "        vertical-align: top;\n",
       "    }\n",
       "\n",
       "    .dataframe thead th {\n",
       "        text-align: right;\n",
       "    }\n",
       "</style>\n",
       "<table border=\"1\" class=\"dataframe\">\n",
       "  <thead>\n",
       "    <tr style=\"text-align: right;\">\n",
       "      <th></th>\n",
       "      <th>population</th>\n",
       "      <th>householdsize</th>\n",
       "      <th>racepctblack</th>\n",
       "      <th>racePctWhite</th>\n",
       "      <th>racePctAsian</th>\n",
       "      <th>racePctHisp</th>\n",
       "      <th>agePct12t21</th>\n",
       "      <th>agePct12t29</th>\n",
       "      <th>agePct16t24</th>\n",
       "      <th>agePct65up</th>\n",
       "      <th>...</th>\n",
       "      <th>PolicAveOTWorked</th>\n",
       "      <th>LandArea</th>\n",
       "      <th>PopDens</th>\n",
       "      <th>PctUsePubTrans</th>\n",
       "      <th>PolicCars</th>\n",
       "      <th>PolicOperBudg</th>\n",
       "      <th>LemasPctPolicOnPatr</th>\n",
       "      <th>LemasGangUnitDeploy</th>\n",
       "      <th>LemasPctOfficDrugUn</th>\n",
       "      <th>PolicBudgPerPop</th>\n",
       "    </tr>\n",
       "  </thead>\n",
       "  <tbody>\n",
       "    <tr>\n",
       "      <th>0</th>\n",
       "      <td>0.19</td>\n",
       "      <td>0.33</td>\n",
       "      <td>0.02</td>\n",
       "      <td>0.90</td>\n",
       "      <td>0.12</td>\n",
       "      <td>0.17</td>\n",
       "      <td>0.34</td>\n",
       "      <td>0.47</td>\n",
       "      <td>0.29</td>\n",
       "      <td>0.32</td>\n",
       "      <td>...</td>\n",
       "      <td>0.29</td>\n",
       "      <td>0.12</td>\n",
       "      <td>0.26</td>\n",
       "      <td>0.20</td>\n",
       "      <td>0.06</td>\n",
       "      <td>0.04</td>\n",
       "      <td>0.9</td>\n",
       "      <td>0.5</td>\n",
       "      <td>0.32</td>\n",
       "      <td>0.14</td>\n",
       "    </tr>\n",
       "    <tr>\n",
       "      <th>1</th>\n",
       "      <td>0.00</td>\n",
       "      <td>0.16</td>\n",
       "      <td>0.12</td>\n",
       "      <td>0.74</td>\n",
       "      <td>0.45</td>\n",
       "      <td>0.07</td>\n",
       "      <td>0.26</td>\n",
       "      <td>0.59</td>\n",
       "      <td>0.35</td>\n",
       "      <td>0.27</td>\n",
       "      <td>...</td>\n",
       "      <td>NaN</td>\n",
       "      <td>0.02</td>\n",
       "      <td>0.12</td>\n",
       "      <td>0.45</td>\n",
       "      <td>NaN</td>\n",
       "      <td>NaN</td>\n",
       "      <td>NaN</td>\n",
       "      <td>NaN</td>\n",
       "      <td>0.00</td>\n",
       "      <td>NaN</td>\n",
       "    </tr>\n",
       "    <tr>\n",
       "      <th>2</th>\n",
       "      <td>0.00</td>\n",
       "      <td>0.42</td>\n",
       "      <td>0.49</td>\n",
       "      <td>0.56</td>\n",
       "      <td>0.17</td>\n",
       "      <td>0.04</td>\n",
       "      <td>0.39</td>\n",
       "      <td>0.47</td>\n",
       "      <td>0.28</td>\n",
       "      <td>0.32</td>\n",
       "      <td>...</td>\n",
       "      <td>NaN</td>\n",
       "      <td>0.01</td>\n",
       "      <td>0.21</td>\n",
       "      <td>0.02</td>\n",
       "      <td>NaN</td>\n",
       "      <td>NaN</td>\n",
       "      <td>NaN</td>\n",
       "      <td>NaN</td>\n",
       "      <td>0.00</td>\n",
       "      <td>NaN</td>\n",
       "    </tr>\n",
       "    <tr>\n",
       "      <th>3</th>\n",
       "      <td>0.04</td>\n",
       "      <td>0.77</td>\n",
       "      <td>1.00</td>\n",
       "      <td>0.08</td>\n",
       "      <td>0.12</td>\n",
       "      <td>0.10</td>\n",
       "      <td>0.51</td>\n",
       "      <td>0.50</td>\n",
       "      <td>0.34</td>\n",
       "      <td>0.21</td>\n",
       "      <td>...</td>\n",
       "      <td>NaN</td>\n",
       "      <td>0.02</td>\n",
       "      <td>0.39</td>\n",
       "      <td>0.28</td>\n",
       "      <td>NaN</td>\n",
       "      <td>NaN</td>\n",
       "      <td>NaN</td>\n",
       "      <td>NaN</td>\n",
       "      <td>0.00</td>\n",
       "      <td>NaN</td>\n",
       "    </tr>\n",
       "    <tr>\n",
       "      <th>4</th>\n",
       "      <td>0.01</td>\n",
       "      <td>0.55</td>\n",
       "      <td>0.02</td>\n",
       "      <td>0.95</td>\n",
       "      <td>0.09</td>\n",
       "      <td>0.05</td>\n",
       "      <td>0.38</td>\n",
       "      <td>0.38</td>\n",
       "      <td>0.23</td>\n",
       "      <td>0.36</td>\n",
       "      <td>...</td>\n",
       "      <td>NaN</td>\n",
       "      <td>0.04</td>\n",
       "      <td>0.09</td>\n",
       "      <td>0.02</td>\n",
       "      <td>NaN</td>\n",
       "      <td>NaN</td>\n",
       "      <td>NaN</td>\n",
       "      <td>NaN</td>\n",
       "      <td>0.00</td>\n",
       "      <td>NaN</td>\n",
       "    </tr>\n",
       "  </tbody>\n",
       "</table>\n",
       "<p>5 rows × 122 columns</p>\n",
       "</div>"
      ],
      "text/plain": [
       "   population  householdsize  racepctblack  racePctWhite  racePctAsian  \\\n",
       "0        0.19           0.33          0.02          0.90          0.12   \n",
       "1        0.00           0.16          0.12          0.74          0.45   \n",
       "2        0.00           0.42          0.49          0.56          0.17   \n",
       "3        0.04           0.77          1.00          0.08          0.12   \n",
       "4        0.01           0.55          0.02          0.95          0.09   \n",
       "\n",
       "   racePctHisp  agePct12t21  agePct12t29  agePct16t24  agePct65up  ...  \\\n",
       "0         0.17         0.34         0.47         0.29        0.32  ...   \n",
       "1         0.07         0.26         0.59         0.35        0.27  ...   \n",
       "2         0.04         0.39         0.47         0.28        0.32  ...   \n",
       "3         0.10         0.51         0.50         0.34        0.21  ...   \n",
       "4         0.05         0.38         0.38         0.23        0.36  ...   \n",
       "\n",
       "   PolicAveOTWorked  LandArea  PopDens  PctUsePubTrans  PolicCars  \\\n",
       "0              0.29      0.12     0.26            0.20       0.06   \n",
       "1               NaN      0.02     0.12            0.45        NaN   \n",
       "2               NaN      0.01     0.21            0.02        NaN   \n",
       "3               NaN      0.02     0.39            0.28        NaN   \n",
       "4               NaN      0.04     0.09            0.02        NaN   \n",
       "\n",
       "   PolicOperBudg  LemasPctPolicOnPatr  LemasGangUnitDeploy  \\\n",
       "0           0.04                  0.9                  0.5   \n",
       "1            NaN                  NaN                  NaN   \n",
       "2            NaN                  NaN                  NaN   \n",
       "3            NaN                  NaN                  NaN   \n",
       "4            NaN                  NaN                  NaN   \n",
       "\n",
       "   LemasPctOfficDrugUn  PolicBudgPerPop  \n",
       "0                 0.32             0.14  \n",
       "1                 0.00              NaN  \n",
       "2                 0.00              NaN  \n",
       "3                 0.00              NaN  \n",
       "4                 0.00              NaN  \n",
       "\n",
       "[5 rows x 122 columns]"
      ]
     },
     "execution_count": 11,
     "metadata": {},
     "output_type": "execute_result"
    }
   ],
   "source": [
    "X.head()"
   ]
  },
  {
   "cell_type": "code",
   "execution_count": 12,
   "id": "2e2fd58e",
   "metadata": {},
   "outputs": [
    {
     "data": {
      "text/plain": [
       "(1994, 122)"
      ]
     },
     "execution_count": 12,
     "metadata": {},
     "output_type": "execute_result"
    }
   ],
   "source": [
    "X.shape"
   ]
  },
  {
   "cell_type": "markdown",
   "id": "b66465e3",
   "metadata": {},
   "source": [
    "### Section 2.2"
   ]
  },
  {
   "cell_type": "code",
   "execution_count": 13,
   "id": "95419f66",
   "metadata": {},
   "outputs": [],
   "source": [
    "x_train, x_test, y_train, y_test = train_test_split(X, Y, test_size=0.1,\n",
    "                                                    random_state=3)"
   ]
  },
  {
   "cell_type": "code",
   "execution_count": 14,
   "id": "74f84c47",
   "metadata": {},
   "outputs": [
    {
     "data": {
      "text/plain": [
       "((1794, 122), (200, 122), (1794,), (200,))"
      ]
     },
     "execution_count": 14,
     "metadata": {},
     "output_type": "execute_result"
    }
   ],
   "source": [
    "x_train.shape, x_test.shape, y_train.shape, y_test.shape"
   ]
  },
  {
   "cell_type": "markdown",
   "id": "8c19b64c",
   "metadata": {},
   "source": [
    "### Section 2.3"
   ]
  },
  {
   "cell_type": "code",
   "execution_count": 15,
   "id": "0276ef85",
   "metadata": {},
   "outputs": [],
   "source": [
    "imp = SimpleImputer(missing_values=np.nan, strategy='median')"
   ]
  },
  {
   "cell_type": "code",
   "execution_count": 16,
   "id": "fe662b9c",
   "metadata": {},
   "outputs": [
    {
     "data": {
      "text/plain": [
       "SimpleImputer(strategy='median')"
      ]
     },
     "execution_count": 16,
     "metadata": {},
     "output_type": "execute_result"
    }
   ],
   "source": [
    "imp.fit(x_train)"
   ]
  },
  {
   "cell_type": "code",
   "execution_count": 17,
   "id": "3066fabe",
   "metadata": {},
   "outputs": [
    {
     "data": {
      "text/plain": [
       "Index(['population', 'householdsize', 'racepctblack', 'racePctWhite',\n",
       "       'racePctAsian', 'racePctHisp', 'agePct12t21', 'agePct12t29',\n",
       "       'agePct16t24', 'agePct65up',\n",
       "       ...\n",
       "       'PolicAveOTWorked', 'LandArea', 'PopDens', 'PctUsePubTrans',\n",
       "       'PolicCars', 'PolicOperBudg', 'LemasPctPolicOnPatr',\n",
       "       'LemasGangUnitDeploy', 'LemasPctOfficDrugUn', 'PolicBudgPerPop'],\n",
       "      dtype='object', length=122)"
      ]
     },
     "execution_count": 17,
     "metadata": {},
     "output_type": "execute_result"
    }
   ],
   "source": [
    "columns = x_train.columns\n",
    "columns"
   ]
  },
  {
   "cell_type": "code",
   "execution_count": 18,
   "id": "9e4673c9",
   "metadata": {},
   "outputs": [],
   "source": [
    "x_train = pd.DataFrame(imp.transform(x_train))\n",
    "x_train.columns = columns "
   ]
  },
  {
   "cell_type": "code",
   "execution_count": 19,
   "id": "c52e3277",
   "metadata": {},
   "outputs": [],
   "source": [
    "x_test = pd.DataFrame(imp.transform(x_test))\n",
    "x_test.columns = columns "
   ]
  },
  {
   "cell_type": "code",
   "execution_count": 20,
   "id": "10457ff6",
   "metadata": {},
   "outputs": [
    {
     "data": {
      "image/png": "[encoded data removed]",
      "text/plain": [
       "<Figure size 1080x720 with 15 Axes>"
      ]
     },
     "metadata": {
      "needs_background": "light"
     },
     "output_type": "display_data"
    }
   ],
   "source": [
    "figure, axis = plt.subplots(3, 5, figsize =(15, 10))\n",
    "\n",
    "for col in range(15):\n",
    "    i = col % 5\n",
    "    j = col % 3\n",
    "    axis[j, i].boxplot(x_train.iloc[:,col])\n",
    "    axis[j, i].set_xlabel(x_train.columns[col])"
   ]
  },
  {
   "cell_type": "code",
   "execution_count": 21,
   "id": "252bc53b",
   "metadata": {},
   "outputs": [],
   "source": [
    "# correaltions\n",
    "correlations = [np.abs(np.corrcoef(y_train, x_train.iloc[:,i])[0][1]) for i in range(x_train.shape[1])]"
   ]
  },
  {
   "cell_type": "code",
   "execution_count": 22,
   "id": "5bb9077c",
   "metadata": {},
   "outputs": [
    {
     "data": {
      "text/plain": [
       "array(['LemasGangUnitDeploy', 'PctSameState85', 'PctVacMore6Mos',\n",
       "       'householdsize', 'PctWorkMomYoungKids', 'PersPerOccupHous',\n",
       "       'PctEmplManu', 'racePctAsian'], dtype='<U19')"
      ]
     },
     "execution_count": 22,
     "metadata": {},
     "output_type": "execute_result"
    }
   ],
   "source": [
    "low_corr = np.argsort(correlations)[:8]\n",
    "low_corr_names = [columns[i] for i in low_corr]\n",
    "np.array(low_corr_names)"
   ]
  },
  {
   "cell_type": "code",
   "execution_count": 23,
   "id": "d1ee1bb0",
   "metadata": {},
   "outputs": [
    {
     "data": {
      "image/png": "[encoded data removed]",
      "text/plain": [
       "<Figure size 1080x720 with 8 Axes>"
      ]
     },
     "metadata": {
      "needs_background": "light"
     },
     "output_type": "display_data"
    }
   ],
   "source": [
    "figure, axis = plt.subplots(2, 4, figsize =(15, 10))\n",
    "count = 0\n",
    "for col in low_corr:\n",
    "    i = count % 4\n",
    "    j = int(count > 3)\n",
    "    axis[j, i].scatter(x_train.iloc[:,col], y_train, s=1.5)\n",
    "    axis[j, i].set_xlabel(low_corr_names[count])\n",
    "    if i == 0:\n",
    "        axis[j, i].set_ylabel(\"ViolentCrimesPerPop\")\n",
    "    count += 1"
   ]
  },
  {
   "cell_type": "markdown",
   "id": "b4a04613",
   "metadata": {},
   "source": [
    "### Section 2.4"
   ]
  },
  {
   "cell_type": "code",
   "execution_count": 24,
   "id": "40b8ec71",
   "metadata": {},
   "outputs": [],
   "source": [
    "cv = KFold(n_splits=10, random_state=3, shuffle=True)"
   ]
  },
  {
   "cell_type": "code",
   "execution_count": 25,
   "id": "83abad57",
   "metadata": {},
   "outputs": [],
   "source": [
    "ridge = RidgeCV(alphas=[1e-3, 1e-2, 1e-1, 1, 10, 100], \n",
    "                cv=cv).fit(x_train, y_train)"
   ]
  },
  {
   "cell_type": "code",
   "execution_count": 26,
   "id": "8deee749",
   "metadata": {},
   "outputs": [
    {
     "data": {
      "text/plain": [
       "(10.0, 0.6487274869631167)"
      ]
     },
     "execution_count": 26,
     "metadata": {},
     "output_type": "execute_result"
    }
   ],
   "source": [
    "ridge.alpha_, ridge.best_score_"
   ]
  },
  {
   "cell_type": "markdown",
   "id": "1b8a36ca",
   "metadata": {},
   "source": [
    "### Section 2.5"
   ]
  },
  {
   "cell_type": "code",
   "execution_count": 27,
   "id": "30445a9b",
   "metadata": {},
   "outputs": [],
   "source": [
    "lasso = LassoCV(alphas=[1e-3, 1e-2, 1e-1, 1, 10, 100], \n",
    "                cv=cv).fit(x_train, y_train)"
   ]
  },
  {
   "cell_type": "code",
   "execution_count": 28,
   "id": "0da25f8e",
   "metadata": {},
   "outputs": [
    {
     "data": {
      "text/plain": [
       "0.001"
      ]
     },
     "execution_count": 28,
     "metadata": {},
     "output_type": "execute_result"
    }
   ],
   "source": [
    "lasso.alpha_"
   ]
  },
  {
   "cell_type": "code",
   "execution_count": 29,
   "id": "d7035c9e",
   "metadata": {},
   "outputs": [
    {
     "data": {
      "text/plain": [
       "0.6657236840148306"
      ]
     },
     "execution_count": 29,
     "metadata": {},
     "output_type": "execute_result"
    }
   ],
   "source": [
    "# this is train r^2\n",
    "lasso.score(x_train, y_train)"
   ]
  },
  {
   "cell_type": "code",
   "execution_count": 30,
   "id": "c0a9ba2e",
   "metadata": {},
   "outputs": [
    {
     "data": {
      "text/plain": [
       "22"
      ]
     },
     "execution_count": 30,
     "metadata": {},
     "output_type": "execute_result"
    }
   ],
   "source": [
    "sum(np.abs(lasso.coef_) >0)"
   ]
  },
  {
   "cell_type": "code",
   "execution_count": 31,
   "id": "984b7e7e",
   "metadata": {},
   "outputs": [
    {
     "data": {
      "text/plain": [
       "((1794, 122), (1794,))"
      ]
     },
     "execution_count": 31,
     "metadata": {},
     "output_type": "execute_result"
    }
   ],
   "source": [
    "x_train.shape, y_train.shape"
   ]
  },
  {
   "cell_type": "code",
   "execution_count": 32,
   "id": "ea29da73",
   "metadata": {},
   "outputs": [],
   "source": [
    "# more correct way to get cross-validation scores\n",
    "def get_cross_valid_scores(cv, X, Y, alpha=0.001):\n",
    "    cv.get_n_splits(X.values)\n",
    "    pred = []\n",
    "    ys = []\n",
    "    for train_index, test_index in cv.split(X.values):\n",
    "        X_train, X_test = X.values[train_index], X.values[test_index]\n",
    "        Y_train, Y_test = Y[train_index], Y[test_index]\n",
    "        reg = Lasso(alpha=alpha).fit(X_train, Y_train)\n",
    "        pred.append(reg.predict(X_test))\n",
    "        ys.append(Y_test)\n",
    "    return r2_score(np.concatenate(ys), np.concatenate(pred))"
   ]
  },
  {
   "cell_type": "code",
   "execution_count": 33,
   "id": "577dfd4b",
   "metadata": {},
   "outputs": [
    {
     "data": {
      "text/plain": [
       "0.6529106937709139"
      ]
     },
     "execution_count": 33,
     "metadata": {},
     "output_type": "execute_result"
    }
   ],
   "source": [
    "get_cross_valid_scores(cv, x_train, y_train)"
   ]
  },
  {
   "cell_type": "markdown",
   "id": "23c66c64",
   "metadata": {},
   "source": [
    "### Section 2.6"
   ]
  },
  {
   "cell_type": "code",
   "execution_count": 34,
   "id": "916b0cf1",
   "metadata": {},
   "outputs": [],
   "source": [
    "max_depth = [int(x) for x in np.linspace(6, 20, num = 10)]\n",
    "max_features = [x for x in np.linspace(0.1, 1, num = 10)]\n",
    "min_samples_leaf = [int(x) for x in np.linspace(6, 20, num = 10)]"
   ]
  },
  {
   "cell_type": "code",
   "execution_count": 35,
   "id": "36e8661c",
   "metadata": {},
   "outputs": [],
   "source": [
    "random_grid = {'max_features': max_features,\n",
    "               'max_depth': max_depth,\n",
    "               'min_samples_leaf': min_samples_leaf}"
   ]
  },
  {
   "cell_type": "code",
   "execution_count": 36,
   "id": "ce6500e3",
   "metadata": {},
   "outputs": [],
   "source": [
    "rf = RandomForestRegressor()"
   ]
  },
  {
   "cell_type": "code",
   "execution_count": 36,
   "id": "da02e4e2",
   "metadata": {},
   "outputs": [],
   "source": [
    "rf_random = RandomizedSearchCV(estimator = rf, param_distributions = random_grid, n_iter = 100,\n",
    "                               cv = cv, verbose=2, random_state=42, n_jobs = -1)"
   ]
  },
  {
   "cell_type": "code",
   "execution_count": 37,
   "id": "36e64509",
   "metadata": {},
   "outputs": [
    {
     "name": "stdout",
     "output_type": "stream",
     "text": [
      "Fitting 10 folds for each of 100 candidates, totalling 1000 fits\n"
     ]
    },
    {
     "data": {
      "text/plain": [
       "RandomizedSearchCV(cv=KFold(n_splits=10, random_state=3, shuffle=True),\n",
       "                   estimator=RandomForestRegressor(), n_iter=100, n_jobs=-1,\n",
       "                   param_distributions={'max_depth': [6, 7, 9, 10, 12, 13, 15,\n",
       "                                                      16, 18, 20],\n",
       "                                        'max_features': [0.1, 0.2,\n",
       "                                                         0.30000000000000004,\n",
       "                                                         0.4, 0.5, 0.6,\n",
       "                                                         0.7000000000000001,\n",
       "                                                         0.8, 0.9, 1.0],\n",
       "                                        'min_samples_leaf': [6, 7, 9, 10, 12,\n",
       "                                                             13, 15, 16, 18,\n",
       "                                                             20]},\n",
       "                   random_state=42, verbose=2)"
      ]
     },
     "execution_count": 37,
     "metadata": {},
     "output_type": "execute_result"
    }
   ],
   "source": [
    "rf_random.fit(x_train, y_train)"
   ]
  },
  {
   "cell_type": "code",
   "execution_count": 125,
   "id": "aa6591b7",
   "metadata": {},
   "outputs": [
    {
     "data": {
      "text/plain": [
       "RandomForestRegressor(max_depth=18, max_features=0.30000000000000004,\n",
       "                      min_samples_leaf=6)"
      ]
     },
     "execution_count": 125,
     "metadata": {},
     "output_type": "execute_result"
    }
   ],
   "source": [
    "rf_random.best_estimator_"
   ]
  },
  {
   "cell_type": "code",
   "execution_count": 126,
   "id": "3f12f085",
   "metadata": {},
   "outputs": [
    {
     "data": {
      "text/plain": [
       "0.6624542246676856"
      ]
     },
     "execution_count": 126,
     "metadata": {},
     "output_type": "execute_result"
    }
   ],
   "source": [
    "rf_random.best_score_"
   ]
  },
  {
   "cell_type": "markdown",
   "id": "03a747b2",
   "metadata": {},
   "source": [
    "### Section 2.8 Confidence intervals"
   ]
  },
  {
   "cell_type": "markdown",
   "id": "404c64a9",
   "metadata": {},
   "source": [
    "Since the random forest score is close to the lasso score I pick lasso which is a much simpler model"
   ]
  },
  {
   "cell_type": "code",
   "execution_count": 37,
   "id": "a9501027",
   "metadata": {},
   "outputs": [],
   "source": [
    "Y = df.iloc[:,-1].values\n",
    "X = df.iloc[:,5:127]"
   ]
  },
  {
   "cell_type": "code",
   "execution_count": 38,
   "id": "58e59cc3",
   "metadata": {},
   "outputs": [],
   "source": [
    "scores = []\n",
    "for i in range(50):\n",
    "    x_train, x_test, y_train, y_test = train_test_split(\n",
    "        X, Y, test_size=0.2, random_state=i)\n",
    "    imp = SimpleImputer(missing_values=np.nan, strategy='median')\n",
    "    imp.fit(x_train)\n",
    "    x_train = imp.transform(x_train)\n",
    "    x_test = imp.transform(x_test)\n",
    "    lasso = LassoCV(alphas=[1e-3, 1e-2, 1e-1, 1, 10, 100], \n",
    "                cv=10).fit(x_train, y_train)\n",
    "    scores.append(lasso.score(x_test, y_test))"
   ]
  },
  {
   "cell_type": "code",
   "execution_count": 39,
   "id": "077c77ce",
   "metadata": {},
   "outputs": [
    {
     "data": {
      "text/plain": [
       "(0.6453037590324024, 0.6606401793204053)"
      ]
     },
     "execution_count": 39,
     "metadata": {},
     "output_type": "execute_result"
    }
   ],
   "source": [
    "import scipy.stats as st\n",
    "st.t.interval(alpha=0.95, df=len(scores)-1, loc=np.mean(scores),\n",
    "              scale=st.sem(scores)) "
   ]
  },
  {
   "cell_type": "code",
   "execution_count": 40,
   "id": "4ff215a6",
   "metadata": {},
   "outputs": [
    {
     "data": {
      "text/plain": [
       "0.6529719691764039"
      ]
     },
     "execution_count": 40,
     "metadata": {},
     "output_type": "execute_result"
    }
   ],
   "source": [
    "np.mean(scores)"
   ]
  },
  {
   "cell_type": "code",
   "execution_count": null,
   "id": "f8def5de",
   "metadata": {},
   "outputs": [],
   "source": []
  }
 ],
 "metadata": {
  "kernelspec": {
   "display_name": "Python 3",
   "language": "python",
   "name": "python3"
  },
  "language_info": {
   "codemirror_mode": {
    "name": "ipython",
    "version": 3
   },
   "file_extension": ".py",
   "mimetype": "text/x-python",
   "name": "python",
   "nbconvert_exporter": "python",
   "pygments_lexer": "ipython3",
   "version": "3.8.10"
  }
 },
 "nbformat": 4,
 "nbformat_minor": 5
}
