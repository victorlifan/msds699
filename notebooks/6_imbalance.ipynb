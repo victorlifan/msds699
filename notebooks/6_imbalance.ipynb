{
 "cells": [
  {
   "cell_type": "markdown",
   "id": "e104334f",
   "metadata": {},
   "source": [
    "## Predicting Credit Fraud\n",
    "Dealing with data Imbalance"
   ]
  },
  {
   "cell_type": "code",
   "execution_count": 2,
   "id": "848e31f5",
   "metadata": {},
   "outputs": [],
   "source": [
    "import pandas as pd\n",
    "import numpy as np\n",
    "from sklearn.preprocessing import StandardScaler\n",
    "from sklearn.linear_model import LogisticRegression\n",
    "from sklearn.metrics import roc_auc_score\n",
    "from sklearn.metrics import precision_recall_curve, auc\n",
    "from sklearn.model_selection import train_test_split"
   ]
  },
  {
   "cell_type": "markdown",
   "id": "17c66174",
   "metadata": {},
   "source": [
    "Get the data at https://www.kaggle.com/mlg-ulb/creditcardfraud"
   ]
  },
  {
   "cell_type": "code",
   "execution_count": 3,
   "id": "8e8b0344",
   "metadata": {},
   "outputs": [
    {
     "data": {
      "text/plain": [
       "(284807, 31)"
      ]
     },
     "execution_count": 3,
     "metadata": {},
     "output_type": "execute_result"
    }
   ],
   "source": [
    "data = pd.read_csv(\"data/creditcard.csv\")\n",
    "data.shape"
   ]
  },
  {
   "cell_type": "code",
   "execution_count": 4,
   "id": "da6b6607",
   "metadata": {},
   "outputs": [
    {
     "data": {
      "text/html": [
       "<div>\n",
       "<style scoped>\n",
       "    .dataframe tbody tr th:only-of-type {\n",
       "        vertical-align: middle;\n",
       "    }\n",
       "\n",
       "    .dataframe tbody tr th {\n",
       "        vertical-align: top;\n",
       "    }\n",
       "\n",
       "    .dataframe thead th {\n",
       "        text-align: right;\n",
       "    }\n",
       "</style>\n",
       "<table border=\"1\" class=\"dataframe\">\n",
       "  <thead>\n",
       "    <tr style=\"text-align: right;\">\n",
       "      <th></th>\n",
       "      <th>Time</th>\n",
       "      <th>V1</th>\n",
       "      <th>V2</th>\n",
       "      <th>V3</th>\n",
       "      <th>V4</th>\n",
       "      <th>V5</th>\n",
       "      <th>V6</th>\n",
       "      <th>V7</th>\n",
       "      <th>V8</th>\n",
       "      <th>V9</th>\n",
       "      <th>...</th>\n",
       "      <th>V21</th>\n",
       "      <th>V22</th>\n",
       "      <th>V23</th>\n",
       "      <th>V24</th>\n",
       "      <th>V25</th>\n",
       "      <th>V26</th>\n",
       "      <th>V27</th>\n",
       "      <th>V28</th>\n",
       "      <th>Amount</th>\n",
       "      <th>Class</th>\n",
       "    </tr>\n",
       "  </thead>\n",
       "  <tbody>\n",
       "    <tr>\n",
       "      <th>0</th>\n",
       "      <td>0.0</td>\n",
       "      <td>-1.359807</td>\n",
       "      <td>-0.072781</td>\n",
       "      <td>2.536347</td>\n",
       "      <td>1.378155</td>\n",
       "      <td>-0.338321</td>\n",
       "      <td>0.462388</td>\n",
       "      <td>0.239599</td>\n",
       "      <td>0.098698</td>\n",
       "      <td>0.363787</td>\n",
       "      <td>...</td>\n",
       "      <td>-0.018307</td>\n",
       "      <td>0.277838</td>\n",
       "      <td>-0.110474</td>\n",
       "      <td>0.066928</td>\n",
       "      <td>0.128539</td>\n",
       "      <td>-0.189115</td>\n",
       "      <td>0.133558</td>\n",
       "      <td>-0.021053</td>\n",
       "      <td>149.62</td>\n",
       "      <td>0</td>\n",
       "    </tr>\n",
       "    <tr>\n",
       "      <th>1</th>\n",
       "      <td>0.0</td>\n",
       "      <td>1.191857</td>\n",
       "      <td>0.266151</td>\n",
       "      <td>0.166480</td>\n",
       "      <td>0.448154</td>\n",
       "      <td>0.060018</td>\n",
       "      <td>-0.082361</td>\n",
       "      <td>-0.078803</td>\n",
       "      <td>0.085102</td>\n",
       "      <td>-0.255425</td>\n",
       "      <td>...</td>\n",
       "      <td>-0.225775</td>\n",
       "      <td>-0.638672</td>\n",
       "      <td>0.101288</td>\n",
       "      <td>-0.339846</td>\n",
       "      <td>0.167170</td>\n",
       "      <td>0.125895</td>\n",
       "      <td>-0.008983</td>\n",
       "      <td>0.014724</td>\n",
       "      <td>2.69</td>\n",
       "      <td>0</td>\n",
       "    </tr>\n",
       "    <tr>\n",
       "      <th>2</th>\n",
       "      <td>1.0</td>\n",
       "      <td>-1.358354</td>\n",
       "      <td>-1.340163</td>\n",
       "      <td>1.773209</td>\n",
       "      <td>0.379780</td>\n",
       "      <td>-0.503198</td>\n",
       "      <td>1.800499</td>\n",
       "      <td>0.791461</td>\n",
       "      <td>0.247676</td>\n",
       "      <td>-1.514654</td>\n",
       "      <td>...</td>\n",
       "      <td>0.247998</td>\n",
       "      <td>0.771679</td>\n",
       "      <td>0.909412</td>\n",
       "      <td>-0.689281</td>\n",
       "      <td>-0.327642</td>\n",
       "      <td>-0.139097</td>\n",
       "      <td>-0.055353</td>\n",
       "      <td>-0.059752</td>\n",
       "      <td>378.66</td>\n",
       "      <td>0</td>\n",
       "    </tr>\n",
       "    <tr>\n",
       "      <th>3</th>\n",
       "      <td>1.0</td>\n",
       "      <td>-0.966272</td>\n",
       "      <td>-0.185226</td>\n",
       "      <td>1.792993</td>\n",
       "      <td>-0.863291</td>\n",
       "      <td>-0.010309</td>\n",
       "      <td>1.247203</td>\n",
       "      <td>0.237609</td>\n",
       "      <td>0.377436</td>\n",
       "      <td>-1.387024</td>\n",
       "      <td>...</td>\n",
       "      <td>-0.108300</td>\n",
       "      <td>0.005274</td>\n",
       "      <td>-0.190321</td>\n",
       "      <td>-1.175575</td>\n",
       "      <td>0.647376</td>\n",
       "      <td>-0.221929</td>\n",
       "      <td>0.062723</td>\n",
       "      <td>0.061458</td>\n",
       "      <td>123.50</td>\n",
       "      <td>0</td>\n",
       "    </tr>\n",
       "    <tr>\n",
       "      <th>4</th>\n",
       "      <td>2.0</td>\n",
       "      <td>-1.158233</td>\n",
       "      <td>0.877737</td>\n",
       "      <td>1.548718</td>\n",
       "      <td>0.403034</td>\n",
       "      <td>-0.407193</td>\n",
       "      <td>0.095921</td>\n",
       "      <td>0.592941</td>\n",
       "      <td>-0.270533</td>\n",
       "      <td>0.817739</td>\n",
       "      <td>...</td>\n",
       "      <td>-0.009431</td>\n",
       "      <td>0.798278</td>\n",
       "      <td>-0.137458</td>\n",
       "      <td>0.141267</td>\n",
       "      <td>-0.206010</td>\n",
       "      <td>0.502292</td>\n",
       "      <td>0.219422</td>\n",
       "      <td>0.215153</td>\n",
       "      <td>69.99</td>\n",
       "      <td>0</td>\n",
       "    </tr>\n",
       "  </tbody>\n",
       "</table>\n",
       "<p>5 rows × 31 columns</p>\n",
       "</div>"
      ],
      "text/plain": [
       "   Time        V1        V2        V3        V4        V5        V6        V7  \\\n",
       "0   0.0 -1.359807 -0.072781  2.536347  1.378155 -0.338321  0.462388  0.239599   \n",
       "1   0.0  1.191857  0.266151  0.166480  0.448154  0.060018 -0.082361 -0.078803   \n",
       "2   1.0 -1.358354 -1.340163  1.773209  0.379780 -0.503198  1.800499  0.791461   \n",
       "3   1.0 -0.966272 -0.185226  1.792993 -0.863291 -0.010309  1.247203  0.237609   \n",
       "4   2.0 -1.158233  0.877737  1.548718  0.403034 -0.407193  0.095921  0.592941   \n",
       "\n",
       "         V8        V9  ...       V21       V22       V23       V24       V25  \\\n",
       "0  0.098698  0.363787  ... -0.018307  0.277838 -0.110474  0.066928  0.128539   \n",
       "1  0.085102 -0.255425  ... -0.225775 -0.638672  0.101288 -0.339846  0.167170   \n",
       "2  0.247676 -1.514654  ...  0.247998  0.771679  0.909412 -0.689281 -0.327642   \n",
       "3  0.377436 -1.387024  ... -0.108300  0.005274 -0.190321 -1.175575  0.647376   \n",
       "4 -0.270533  0.817739  ... -0.009431  0.798278 -0.137458  0.141267 -0.206010   \n",
       "\n",
       "        V26       V27       V28  Amount  Class  \n",
       "0 -0.189115  0.133558 -0.021053  149.62      0  \n",
       "1  0.125895 -0.008983  0.014724    2.69      0  \n",
       "2 -0.139097 -0.055353 -0.059752  378.66      0  \n",
       "3 -0.221929  0.062723  0.061458  123.50      0  \n",
       "4  0.502292  0.219422  0.215153   69.99      0  \n",
       "\n",
       "[5 rows x 31 columns]"
      ]
     },
     "execution_count": 4,
     "metadata": {},
     "output_type": "execute_result"
    }
   ],
   "source": [
    "data.head()"
   ]
  },
  {
   "cell_type": "code",
   "execution_count": 5,
   "id": "e2088134",
   "metadata": {},
   "outputs": [
    {
     "data": {
      "text/plain": [
       "0.1727485630620034"
      ]
     },
     "execution_count": 5,
     "metadata": {},
     "output_type": "execute_result"
    }
   ],
   "source": [
    "# Percent of positive samples\n",
    "100*data.Class.sum()/284807"
   ]
  },
  {
   "cell_type": "markdown",
   "id": "353c28da",
   "metadata": {},
   "source": [
    "## Train and validation split"
   ]
  },
  {
   "cell_type": "code",
   "execution_count": 6,
   "id": "01aeefe6",
   "metadata": {},
   "outputs": [],
   "source": [
    "X = data.iloc[:,:-1]\n",
    "Y = data.Class.values\n",
    "X_train, X_test, y_train, y_test = train_test_split(X, Y, test_size=0.2, random_state=42, stratify=Y)"
   ]
  },
  {
   "cell_type": "code",
   "execution_count": 7,
   "id": "4c7d7016",
   "metadata": {},
   "outputs": [
    {
     "data": {
      "text/plain": [
       "(227845, 30)"
      ]
     },
     "execution_count": 7,
     "metadata": {},
     "output_type": "execute_result"
    }
   ],
   "source": [
    "X_train.shape"
   ]
  },
  {
   "cell_type": "code",
   "execution_count": 8,
   "id": "89807f8a",
   "metadata": {},
   "outputs": [],
   "source": [
    "def get_scaled_dataset():\n",
    "    x_train, x_val, y_train, y_val = train_test_split(X, Y, test_size=0.2, random_state=42, stratify=Y)\n",
    "    scaler = StandardScaler()\n",
    "    x_train = scaler.fit_transform(x_train)\n",
    "    x_val = scaler.transform(x_val)\n",
    "    return x_train, x_val, y_train, y_val "
   ]
  },
  {
   "cell_type": "markdown",
   "id": "b8e474da",
   "metadata": {},
   "source": [
    "## Logistic regression baseline"
   ]
  },
  {
   "cell_type": "code",
   "execution_count": 9,
   "id": "432f8e26",
   "metadata": {},
   "outputs": [],
   "source": [
    "x_train, x_val,  y_train, y_val = get_scaled_dataset()"
   ]
  },
  {
   "cell_type": "code",
   "execution_count": 10,
   "id": "65e98631",
   "metadata": {},
   "outputs": [
    {
     "data": {
      "text/plain": [
       "((227845,), (56962,))"
      ]
     },
     "execution_count": 10,
     "metadata": {},
     "output_type": "execute_result"
    }
   ],
   "source": [
    "y_train.shape, y_val.shape"
   ]
  },
  {
   "cell_type": "code",
   "execution_count": 11,
   "id": "47af5c42",
   "metadata": {},
   "outputs": [
    {
     "data": {
      "text/plain": [
       "LogisticRegression(random_state=3)"
      ]
     },
     "execution_count": 11,
     "metadata": {},
     "output_type": "execute_result"
    }
   ],
   "source": [
    "lr = LogisticRegression(random_state=3)\n",
    "lr.fit(x_train, y_train)"
   ]
  },
  {
   "cell_type": "code",
   "execution_count": 12,
   "id": "e128c01d",
   "metadata": {},
   "outputs": [],
   "source": [
    "y_hat_val = lr.predict_proba(x_val)[:, 1]"
   ]
  },
  {
   "cell_type": "code",
   "execution_count": 13,
   "id": "be822d5d",
   "metadata": {},
   "outputs": [
    {
     "data": {
      "text/plain": [
       "0.7427196002196462"
      ]
     },
     "execution_count": 13,
     "metadata": {},
     "output_type": "execute_result"
    }
   ],
   "source": [
    "precision, recall, thresholds = precision_recall_curve(y_val, y_hat_val)\n",
    "auc_precision_recall = auc(recall, precision)\n",
    "auc_precision_recall"
   ]
  },
  {
   "cell_type": "code",
   "execution_count": 14,
   "id": "65ed6d2b",
   "metadata": {},
   "outputs": [
    {
     "data": {
      "text/plain": [
       "0.9560270189955554"
      ]
     },
     "execution_count": 14,
     "metadata": {},
     "output_type": "execute_result"
    }
   ],
   "source": [
    "roc_auc_score(y_val, y_hat_val)"
   ]
  },
  {
   "cell_type": "markdown",
   "id": "17ce5ee9",
   "metadata": {},
   "source": [
    "## Logistic regression with weights"
   ]
  },
  {
   "cell_type": "code",
   "execution_count": 15,
   "id": "6dcd02cd",
   "metadata": {},
   "outputs": [
    {
     "name": "stdout",
     "output_type": "stream",
     "text": [
      "weight: 2 auc precision recall 0.747 auc roc 0.962\n",
      "weight: 5 auc precision recall 0.750 auc roc 0.965\n",
      "weight: 10 auc precision recall 0.748 auc roc 0.967\n",
      "weight: 100 auc precision recall 0.744 auc roc 0.970\n",
      "weight: 200 auc precision recall 0.742 auc roc 0.971\n"
     ]
    }
   ],
   "source": [
    "for w in [2, 5, 10, 100, 200]:\n",
    "    weights = {0:1.0, 1:w}\n",
    "    lr = LogisticRegression(solver='lbfgs', class_weight=weights)\n",
    "    lr.fit(x_train, y_train)\n",
    "    y_hat_val = lr.predict_proba(x_val)[:, 1]\n",
    "    precision, recall, thresholds = precision_recall_curve(y_val, y_hat_val)\n",
    "    auc_precision_recall = auc(recall, precision)\n",
    "    auc_roc = roc_auc_score(y_val, y_hat_val)\n",
    "    print(\"weight: %d auc precision recall %.3f auc roc %.3f\" % (w, auc_precision_recall, auc_roc ))"
   ]
  },
  {
   "cell_type": "markdown",
   "id": "daeb676c",
   "metadata": {},
   "source": [
    "## Smote\n",
    "`pip install imblearn`"
   ]
  },
  {
   "cell_type": "code",
   "execution_count": 16,
   "id": "476affad",
   "metadata": {},
   "outputs": [],
   "source": [
    "from imblearn.over_sampling import SMOTE"
   ]
  },
  {
   "cell_type": "code",
   "execution_count": 17,
   "id": "a419935a",
   "metadata": {},
   "outputs": [],
   "source": [
    "x_train, x_val,  y_train, y_val = get_scaled_dataset()"
   ]
  },
  {
   "cell_type": "code",
   "execution_count": 18,
   "id": "8386c5a5",
   "metadata": {},
   "outputs": [],
   "source": [
    "oversample = SMOTE(sampling_strategy=0.5)\n",
    "x_train, y_train = oversample.fit_resample(x_train, y_train)"
   ]
  },
  {
   "cell_type": "code",
   "execution_count": 19,
   "id": "05c4e07a",
   "metadata": {},
   "outputs": [
    {
     "data": {
      "text/plain": [
       "LogisticRegression(random_state=3)"
      ]
     },
     "execution_count": 19,
     "metadata": {},
     "output_type": "execute_result"
    }
   ],
   "source": [
    "lr = LogisticRegression(random_state=3)\n",
    "lr.fit(x_train, y_train)"
   ]
  },
  {
   "cell_type": "code",
   "execution_count": 20,
   "id": "4b52be10",
   "metadata": {},
   "outputs": [
    {
     "name": "stdout",
     "output_type": "stream",
     "text": [
      "auc precision recall 0.751 auc roc 0.970\n"
     ]
    }
   ],
   "source": [
    "y_hat_val = lr.predict_proba(x_val)[:, 1]\n",
    "precision, recall, thresholds = precision_recall_curve(y_val, y_hat_val)\n",
    "auc_precision_recall = auc(recall, precision)\n",
    "auc_roc = roc_auc_score(y_val, y_hat_val)\n",
    "print(\"auc precision recall %.3f auc roc %.3f\" % (auc_precision_recall, auc_roc ))"
   ]
  },
  {
   "cell_type": "markdown",
   "id": "285b83ed",
   "metadata": {},
   "source": [
    "## Undersample with One Sided Selection\n",
    "This is too slow"
   ]
  },
  {
   "cell_type": "code",
   "execution_count": null,
   "id": "6334da6a",
   "metadata": {},
   "outputs": [],
   "source": [
    "from imblearn.under_sampling import OneSidedSelection, RandomUnderSampler\n",
    "import time"
   ]
  },
  {
   "cell_type": "code",
   "execution_count": null,
   "id": "b073af0f",
   "metadata": {},
   "outputs": [],
   "source": [
    "x_train, x_val,  y_train, y_val = get_scaled_dataset()"
   ]
  },
  {
   "cell_type": "code",
   "execution_count": null,
   "id": "877e17dc",
   "metadata": {},
   "outputs": [],
   "source": [
    "x_train.shape"
   ]
  },
  {
   "cell_type": "code",
   "execution_count": null,
   "id": "f4d90e4e",
   "metadata": {},
   "outputs": [],
   "source": [
    "undersample = RandomUnderSampler(sampling_strategy=0.02)\n",
    "x_train, y_train = undersample.fit_resample(x_train, y_train)"
   ]
  },
  {
   "cell_type": "code",
   "execution_count": null,
   "id": "ea5c4db6",
   "metadata": {},
   "outputs": [],
   "source": [
    "x_train.shape"
   ]
  },
  {
   "cell_type": "code",
   "execution_count": null,
   "id": "ee326ffd",
   "metadata": {},
   "outputs": [],
   "source": [
    "undersample = OneSidedSelection(n_neighbors=1, n_seeds_S=10, n_jobs=-1)\n",
    "%time x_train, y_train = undersample.fit_resample(x_train, y_train)"
   ]
  },
  {
   "cell_type": "code",
   "execution_count": null,
   "id": "e214caaa",
   "metadata": {},
   "outputs": [],
   "source": [
    "lr = LogisticRegression(random_state=3)\n",
    "lr.fit(x_train, y_train)\n",
    "y_hat_val = lr.predict_proba(x_val)[:, 1]\n",
    "precision, recall, thresholds = precision_recall_curve(y_val, y_hat_val)\n",
    "auc_precision_recall = auc(recall, precision)\n",
    "auc_roc = roc_auc_score(y_val, y_hat_val)\n",
    "print(\"auc precision recall %.3f auc roc %.3f\" % (auc_precision_recall, auc_roc ))"
   ]
  },
  {
   "cell_type": "markdown",
   "id": "3bfdd00c",
   "metadata": {},
   "source": [
    "## Lab\n",
    "1. Write a Smote pipeline with cross-validation. Note that oversampling and underssampling needs to be done in the cross-validation loop."
   ]
  },
  {
   "cell_type": "markdown",
   "id": "cbde0c4a",
   "metadata": {},
   "source": [
    "## References\n",
    "1. https://www.kaggle.com/janiobachmann/credit-fraud-dealing-with-imbalanced-datasets\n",
    "2. https://machinelearningmastery.com/undersampling-algorithms-for-imbalanced-classification/"
   ]
  }
 ],
 "metadata": {
  "kernelspec": {
   "display_name": "Python 3 (ipykernel)",
   "language": "python",
   "name": "python3"
  },
  "language_info": {
   "codemirror_mode": {
    "name": "ipython",
    "version": 3
   },
   "file_extension": ".py",
   "mimetype": "text/x-python",
   "name": "python",
   "nbconvert_exporter": "python",
   "pygments_lexer": "ipython3",
   "version": "3.8.12"
  }
 },
 "nbformat": 4,
 "nbformat_minor": 5
}
