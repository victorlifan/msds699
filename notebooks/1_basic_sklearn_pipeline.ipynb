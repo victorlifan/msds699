{
 "cells": [
  {
   "cell_type": "markdown",
   "id": "28508a91",
   "metadata": {},
   "source": [
    "# Basic ML pipeline with sklean\n",
    "In this notebook I will cover a basic machine learning pipeline using the sklearn library. For today we will use a dataset of wine https://archive-beta.ics.uci.edu/ml/datasets/Wine. The goal is to use chemical composition of wine determine their origin."
   ]
  },
  {
   "cell_type": "code",
   "execution_count": 1,
   "id": "08eb0cf7",
   "metadata": {},
   "outputs": [],
   "source": [
    "import numpy as np\n",
    "import pandas as pd\n",
    "import matplotlib.pyplot as plt\n",
    "from sklearn.model_selection import train_test_split\n",
    "from sklearn.linear_model import LogisticRegression\n",
    "from sklearn.preprocessing import StandardScaler\n",
    "from sklearn.metrics import accuracy_score"
   ]
  },
  {
   "cell_type": "markdown",
   "id": "2c79e4e4",
   "metadata": {},
   "source": [
    "## Get the data"
   ]
  },
  {
   "cell_type": "code",
   "execution_count": 2,
   "id": "64688b9e",
   "metadata": {},
   "outputs": [],
   "source": [
    "def get_wine_data():\n",
    "    ! wget https://archive.ics.uci.edu/ml/machine-learning-databases/wine/wine.data\n",
    "    ! wget https://archive.ics.uci.edu/ml/machine-learning-databases/wine/wine.names"
   ]
  },
  {
   "cell_type": "code",
   "execution_count": 4,
   "id": "b89b9e64",
   "metadata": {},
   "outputs": [],
   "source": [
    "get_wine_data()"
   ]
  },
  {
   "cell_type": "code",
   "execution_count": 5,
   "id": "da3b1b60",
   "metadata": {},
   "outputs": [
    {
     "name": "stdout",
     "output_type": "stream",
     "text": [
      "3,13.58,2.58,2.69,24.5,105,1.55,.84,.39,1.54,8.66,.74,1.8,750\r\n",
      "3,13.4,4.6,2.86,25,112,1.98,.96,.27,1.11,8.5,.67,1.92,630\r\n",
      "3,12.2,3.03,2.32,19,96,1.25,.49,.4,.73,5.5,.66,1.83,510\r\n",
      "3,12.77,2.39,2.28,19.5,86,1.39,.51,.48,.64,9.899999,.57,1.63,470\r\n",
      "3,14.16,2.51,2.48,20,91,1.68,.7,.44,1.24,9.7,.62,1.71,660\r\n",
      "3,13.71,5.65,2.45,20.5,95,1.68,.61,.52,1.06,7.7,.64,1.74,740\r\n",
      "3,13.4,3.91,2.48,23,102,1.8,.75,.43,1.41,7.3,.7,1.56,750\r\n",
      "3,13.27,4.28,2.26,20,120,1.59,.69,.43,1.35,10.2,.59,1.56,835\r\n",
      "3,13.17,2.59,2.37,20,120,1.65,.68,.53,1.46,9.3,.6,1.62,840\r\n",
      "3,14.13,4.1,2.74,24.5,96,2.05,.76,.56,1.35,9.2,.61,1.6,560\r\n"
     ]
    }
   ],
   "source": [
    "! tail wine.data"
   ]
  },
  {
   "cell_type": "markdown",
   "id": "8ab76d88",
   "metadata": {},
   "source": [
    "Here the column 0 is the class label (1,2 o 3 for the 3 regions), all other columns are features. The features (also called covariates or predictors) are used to differentiate the different regions. "
   ]
  },
  {
   "cell_type": "code",
   "execution_count": 6,
   "id": "f188555a",
   "metadata": {},
   "outputs": [
    {
     "data": {
      "text/html": [
       "<div>\n",
       "<style scoped>\n",
       "    .dataframe tbody tr th:only-of-type {\n",
       "        vertical-align: middle;\n",
       "    }\n",
       "\n",
       "    .dataframe tbody tr th {\n",
       "        vertical-align: top;\n",
       "    }\n",
       "\n",
       "    .dataframe thead th {\n",
       "        text-align: right;\n",
       "    }\n",
       "</style>\n",
       "<table border=\"1\" class=\"dataframe\">\n",
       "  <thead>\n",
       "    <tr style=\"text-align: right;\">\n",
       "      <th></th>\n",
       "      <th>0</th>\n",
       "      <th>1</th>\n",
       "      <th>2</th>\n",
       "      <th>3</th>\n",
       "      <th>4</th>\n",
       "      <th>5</th>\n",
       "      <th>6</th>\n",
       "      <th>7</th>\n",
       "      <th>8</th>\n",
       "      <th>9</th>\n",
       "      <th>10</th>\n",
       "      <th>11</th>\n",
       "      <th>12</th>\n",
       "      <th>13</th>\n",
       "    </tr>\n",
       "  </thead>\n",
       "  <tbody>\n",
       "    <tr>\n",
       "      <th>0</th>\n",
       "      <td>1</td>\n",
       "      <td>14.23</td>\n",
       "      <td>1.71</td>\n",
       "      <td>2.43</td>\n",
       "      <td>15.6</td>\n",
       "      <td>127</td>\n",
       "      <td>2.80</td>\n",
       "      <td>3.06</td>\n",
       "      <td>0.28</td>\n",
       "      <td>2.29</td>\n",
       "      <td>5.64</td>\n",
       "      <td>1.04</td>\n",
       "      <td>3.92</td>\n",
       "      <td>1065</td>\n",
       "    </tr>\n",
       "    <tr>\n",
       "      <th>1</th>\n",
       "      <td>1</td>\n",
       "      <td>13.20</td>\n",
       "      <td>1.78</td>\n",
       "      <td>2.14</td>\n",
       "      <td>11.2</td>\n",
       "      <td>100</td>\n",
       "      <td>2.65</td>\n",
       "      <td>2.76</td>\n",
       "      <td>0.26</td>\n",
       "      <td>1.28</td>\n",
       "      <td>4.38</td>\n",
       "      <td>1.05</td>\n",
       "      <td>3.40</td>\n",
       "      <td>1050</td>\n",
       "    </tr>\n",
       "    <tr>\n",
       "      <th>2</th>\n",
       "      <td>1</td>\n",
       "      <td>13.16</td>\n",
       "      <td>2.36</td>\n",
       "      <td>2.67</td>\n",
       "      <td>18.6</td>\n",
       "      <td>101</td>\n",
       "      <td>2.80</td>\n",
       "      <td>3.24</td>\n",
       "      <td>0.30</td>\n",
       "      <td>2.81</td>\n",
       "      <td>5.68</td>\n",
       "      <td>1.03</td>\n",
       "      <td>3.17</td>\n",
       "      <td>1185</td>\n",
       "    </tr>\n",
       "    <tr>\n",
       "      <th>3</th>\n",
       "      <td>1</td>\n",
       "      <td>14.37</td>\n",
       "      <td>1.95</td>\n",
       "      <td>2.50</td>\n",
       "      <td>16.8</td>\n",
       "      <td>113</td>\n",
       "      <td>3.85</td>\n",
       "      <td>3.49</td>\n",
       "      <td>0.24</td>\n",
       "      <td>2.18</td>\n",
       "      <td>7.80</td>\n",
       "      <td>0.86</td>\n",
       "      <td>3.45</td>\n",
       "      <td>1480</td>\n",
       "    </tr>\n",
       "    <tr>\n",
       "      <th>4</th>\n",
       "      <td>1</td>\n",
       "      <td>13.24</td>\n",
       "      <td>2.59</td>\n",
       "      <td>2.87</td>\n",
       "      <td>21.0</td>\n",
       "      <td>118</td>\n",
       "      <td>2.80</td>\n",
       "      <td>2.69</td>\n",
       "      <td>0.39</td>\n",
       "      <td>1.82</td>\n",
       "      <td>4.32</td>\n",
       "      <td>1.04</td>\n",
       "      <td>2.93</td>\n",
       "      <td>735</td>\n",
       "    </tr>\n",
       "  </tbody>\n",
       "</table>\n",
       "</div>"
      ],
      "text/plain": [
       "   0      1     2     3     4    5     6     7     8     9     10    11    12  \\\n",
       "0   1  14.23  1.71  2.43  15.6  127  2.80  3.06  0.28  2.29  5.64  1.04  3.92   \n",
       "1   1  13.20  1.78  2.14  11.2  100  2.65  2.76  0.26  1.28  4.38  1.05  3.40   \n",
       "2   1  13.16  2.36  2.67  18.6  101  2.80  3.24  0.30  2.81  5.68  1.03  3.17   \n",
       "3   1  14.37  1.95  2.50  16.8  113  3.85  3.49  0.24  2.18  7.80  0.86  3.45   \n",
       "4   1  13.24  2.59  2.87  21.0  118  2.80  2.69  0.39  1.82  4.32  1.04  2.93   \n",
       "\n",
       "     13  \n",
       "0  1065  \n",
       "1  1050  \n",
       "2  1185  \n",
       "3  1480  \n",
       "4   735  "
      ]
     },
     "execution_count": 6,
     "metadata": {},
     "output_type": "execute_result"
    }
   ],
   "source": [
    "df = pd.read_csv(\"wine.data\", header=None) # header=None because the csv has no header\n",
    "df.head()"
   ]
  },
  {
   "cell_type": "code",
   "execution_count": 7,
   "id": "7f57822f",
   "metadata": {},
   "outputs": [
    {
     "data": {
      "text/html": [
       "<div>\n",
       "<style scoped>\n",
       "    .dataframe tbody tr th:only-of-type {\n",
       "        vertical-align: middle;\n",
       "    }\n",
       "\n",
       "    .dataframe tbody tr th {\n",
       "        vertical-align: top;\n",
       "    }\n",
       "\n",
       "    .dataframe thead th {\n",
       "        text-align: right;\n",
       "    }\n",
       "</style>\n",
       "<table border=\"1\" class=\"dataframe\">\n",
       "  <thead>\n",
       "    <tr style=\"text-align: right;\">\n",
       "      <th></th>\n",
       "      <th>0</th>\n",
       "      <th>1</th>\n",
       "      <th>2</th>\n",
       "      <th>3</th>\n",
       "      <th>4</th>\n",
       "      <th>5</th>\n",
       "      <th>6</th>\n",
       "      <th>7</th>\n",
       "      <th>8</th>\n",
       "      <th>9</th>\n",
       "      <th>10</th>\n",
       "      <th>11</th>\n",
       "      <th>12</th>\n",
       "      <th>13</th>\n",
       "    </tr>\n",
       "  </thead>\n",
       "  <tbody>\n",
       "    <tr>\n",
       "      <th>count</th>\n",
       "      <td>178.000000</td>\n",
       "      <td>178.000000</td>\n",
       "      <td>178.000000</td>\n",
       "      <td>178.000000</td>\n",
       "      <td>178.000000</td>\n",
       "      <td>178.000000</td>\n",
       "      <td>178.000000</td>\n",
       "      <td>178.000000</td>\n",
       "      <td>178.000000</td>\n",
       "      <td>178.000000</td>\n",
       "      <td>178.000000</td>\n",
       "      <td>178.000000</td>\n",
       "      <td>178.000000</td>\n",
       "      <td>178.000000</td>\n",
       "    </tr>\n",
       "    <tr>\n",
       "      <th>mean</th>\n",
       "      <td>1.938202</td>\n",
       "      <td>13.000618</td>\n",
       "      <td>2.336348</td>\n",
       "      <td>2.366517</td>\n",
       "      <td>19.494944</td>\n",
       "      <td>99.741573</td>\n",
       "      <td>2.295112</td>\n",
       "      <td>2.029270</td>\n",
       "      <td>0.361854</td>\n",
       "      <td>1.590899</td>\n",
       "      <td>5.058090</td>\n",
       "      <td>0.957449</td>\n",
       "      <td>2.611685</td>\n",
       "      <td>746.893258</td>\n",
       "    </tr>\n",
       "    <tr>\n",
       "      <th>std</th>\n",
       "      <td>0.775035</td>\n",
       "      <td>0.811827</td>\n",
       "      <td>1.117146</td>\n",
       "      <td>0.274344</td>\n",
       "      <td>3.339564</td>\n",
       "      <td>14.282484</td>\n",
       "      <td>0.625851</td>\n",
       "      <td>0.998859</td>\n",
       "      <td>0.124453</td>\n",
       "      <td>0.572359</td>\n",
       "      <td>2.318286</td>\n",
       "      <td>0.228572</td>\n",
       "      <td>0.709990</td>\n",
       "      <td>314.907474</td>\n",
       "    </tr>\n",
       "    <tr>\n",
       "      <th>min</th>\n",
       "      <td>1.000000</td>\n",
       "      <td>11.030000</td>\n",
       "      <td>0.740000</td>\n",
       "      <td>1.360000</td>\n",
       "      <td>10.600000</td>\n",
       "      <td>70.000000</td>\n",
       "      <td>0.980000</td>\n",
       "      <td>0.340000</td>\n",
       "      <td>0.130000</td>\n",
       "      <td>0.410000</td>\n",
       "      <td>1.280000</td>\n",
       "      <td>0.480000</td>\n",
       "      <td>1.270000</td>\n",
       "      <td>278.000000</td>\n",
       "    </tr>\n",
       "    <tr>\n",
       "      <th>25%</th>\n",
       "      <td>1.000000</td>\n",
       "      <td>12.362500</td>\n",
       "      <td>1.602500</td>\n",
       "      <td>2.210000</td>\n",
       "      <td>17.200000</td>\n",
       "      <td>88.000000</td>\n",
       "      <td>1.742500</td>\n",
       "      <td>1.205000</td>\n",
       "      <td>0.270000</td>\n",
       "      <td>1.250000</td>\n",
       "      <td>3.220000</td>\n",
       "      <td>0.782500</td>\n",
       "      <td>1.937500</td>\n",
       "      <td>500.500000</td>\n",
       "    </tr>\n",
       "    <tr>\n",
       "      <th>50%</th>\n",
       "      <td>2.000000</td>\n",
       "      <td>13.050000</td>\n",
       "      <td>1.865000</td>\n",
       "      <td>2.360000</td>\n",
       "      <td>19.500000</td>\n",
       "      <td>98.000000</td>\n",
       "      <td>2.355000</td>\n",
       "      <td>2.135000</td>\n",
       "      <td>0.340000</td>\n",
       "      <td>1.555000</td>\n",
       "      <td>4.690000</td>\n",
       "      <td>0.965000</td>\n",
       "      <td>2.780000</td>\n",
       "      <td>673.500000</td>\n",
       "    </tr>\n",
       "    <tr>\n",
       "      <th>75%</th>\n",
       "      <td>3.000000</td>\n",
       "      <td>13.677500</td>\n",
       "      <td>3.082500</td>\n",
       "      <td>2.557500</td>\n",
       "      <td>21.500000</td>\n",
       "      <td>107.000000</td>\n",
       "      <td>2.800000</td>\n",
       "      <td>2.875000</td>\n",
       "      <td>0.437500</td>\n",
       "      <td>1.950000</td>\n",
       "      <td>6.200000</td>\n",
       "      <td>1.120000</td>\n",
       "      <td>3.170000</td>\n",
       "      <td>985.000000</td>\n",
       "    </tr>\n",
       "    <tr>\n",
       "      <th>max</th>\n",
       "      <td>3.000000</td>\n",
       "      <td>14.830000</td>\n",
       "      <td>5.800000</td>\n",
       "      <td>3.230000</td>\n",
       "      <td>30.000000</td>\n",
       "      <td>162.000000</td>\n",
       "      <td>3.880000</td>\n",
       "      <td>5.080000</td>\n",
       "      <td>0.660000</td>\n",
       "      <td>3.580000</td>\n",
       "      <td>13.000000</td>\n",
       "      <td>1.710000</td>\n",
       "      <td>4.000000</td>\n",
       "      <td>1680.000000</td>\n",
       "    </tr>\n",
       "  </tbody>\n",
       "</table>\n",
       "</div>"
      ],
      "text/plain": [
       "               0           1           2           3           4           5   \\\n",
       "count  178.000000  178.000000  178.000000  178.000000  178.000000  178.000000   \n",
       "mean     1.938202   13.000618    2.336348    2.366517   19.494944   99.741573   \n",
       "std      0.775035    0.811827    1.117146    0.274344    3.339564   14.282484   \n",
       "min      1.000000   11.030000    0.740000    1.360000   10.600000   70.000000   \n",
       "25%      1.000000   12.362500    1.602500    2.210000   17.200000   88.000000   \n",
       "50%      2.000000   13.050000    1.865000    2.360000   19.500000   98.000000   \n",
       "75%      3.000000   13.677500    3.082500    2.557500   21.500000  107.000000   \n",
       "max      3.000000   14.830000    5.800000    3.230000   30.000000  162.000000   \n",
       "\n",
       "               6           7           8           9           10          11  \\\n",
       "count  178.000000  178.000000  178.000000  178.000000  178.000000  178.000000   \n",
       "mean     2.295112    2.029270    0.361854    1.590899    5.058090    0.957449   \n",
       "std      0.625851    0.998859    0.124453    0.572359    2.318286    0.228572   \n",
       "min      0.980000    0.340000    0.130000    0.410000    1.280000    0.480000   \n",
       "25%      1.742500    1.205000    0.270000    1.250000    3.220000    0.782500   \n",
       "50%      2.355000    2.135000    0.340000    1.555000    4.690000    0.965000   \n",
       "75%      2.800000    2.875000    0.437500    1.950000    6.200000    1.120000   \n",
       "max      3.880000    5.080000    0.660000    3.580000   13.000000    1.710000   \n",
       "\n",
       "               12           13  \n",
       "count  178.000000   178.000000  \n",
       "mean     2.611685   746.893258  \n",
       "std      0.709990   314.907474  \n",
       "min      1.270000   278.000000  \n",
       "25%      1.937500   500.500000  \n",
       "50%      2.780000   673.500000  \n",
       "75%      3.170000   985.000000  \n",
       "max      4.000000  1680.000000  "
      ]
     },
     "execution_count": 7,
     "metadata": {},
     "output_type": "execute_result"
    }
   ],
   "source": [
    "# look are basic stats\n",
    "df.describe()"
   ]
  },
  {
   "cell_type": "code",
   "execution_count": 8,
   "id": "8d76df6d",
   "metadata": {},
   "outputs": [
    {
     "data": {
      "text/plain": [
       "2    71\n",
       "1    59\n",
       "3    48\n",
       "Name: 0, dtype: int64"
      ]
     },
     "execution_count": 8,
     "metadata": {},
     "output_type": "execute_result"
    }
   ],
   "source": [
    "# this first column is the label\n",
    "df.iloc[:,0].value_counts()"
   ]
  },
  {
   "cell_type": "markdown",
   "id": "c962bf63",
   "metadata": {},
   "source": [
    "## Make a train / validation/ test split\n",
    "The train set is used to train the data. The validation set is used to find model hyperparameters (more on this later). The test set is used to estimate the actual error/performance of the model. The goal of machine learning is to **generalize** - that is, to perform well on previously **unseen** data. The model is going to have a smaller error on the data that was used for training than on unseen data. \n",
    "\n",
    "Since, I am not planning to find any hyperparameters, I will split in train / test. "
   ]
  },
  {
   "cell_type": "code",
   "execution_count": 9,
   "id": "2c44ae6e",
   "metadata": {},
   "outputs": [
    {
     "data": {
      "text/plain": [
       "(178, 14)"
      ]
     },
     "execution_count": 9,
     "metadata": {},
     "output_type": "execute_result"
    }
   ],
   "source": [
    "df.shape"
   ]
  },
  {
   "cell_type": "code",
   "execution_count": 10,
   "id": "6b08dd8f",
   "metadata": {},
   "outputs": [],
   "source": [
    "Y = df.iloc[:,0].values\n",
    "X = df.iloc[:,1:].values"
   ]
  },
  {
   "cell_type": "code",
   "execution_count": 11,
   "id": "e0777085",
   "metadata": {},
   "outputs": [
    {
     "data": {
      "text/plain": [
       "(178, 13)"
      ]
     },
     "execution_count": 11,
     "metadata": {},
     "output_type": "execute_result"
    }
   ],
   "source": [
    "X.shape"
   ]
  },
  {
   "cell_type": "code",
   "execution_count": 12,
   "id": "6585fa85",
   "metadata": {},
   "outputs": [],
   "source": [
    "x_train, x_test, y_train, y_test = train_test_split(X, Y, test_size=0.2)"
   ]
  },
  {
   "cell_type": "code",
   "execution_count": 13,
   "id": "42c06e02",
   "metadata": {},
   "outputs": [
    {
     "data": {
      "text/plain": [
       "((142, 13), (36, 13))"
      ]
     },
     "execution_count": 13,
     "metadata": {},
     "output_type": "execute_result"
    }
   ],
   "source": [
    "x_train.shape, x_test.shape"
   ]
  },
  {
   "cell_type": "code",
   "execution_count": 14,
   "id": "ee71801a",
   "metadata": {},
   "outputs": [
    {
     "data": {
      "text/plain": [
       "2    0.408451\n",
       "1    0.302817\n",
       "3    0.288732\n",
       "dtype: float64"
      ]
     },
     "execution_count": 14,
     "metadata": {},
     "output_type": "execute_result"
    }
   ],
   "source": [
    "pd.Series(y_train).value_counts()/142"
   ]
  },
  {
   "cell_type": "code",
   "execution_count": 15,
   "id": "483a33de",
   "metadata": {},
   "outputs": [
    {
     "data": {
      "text/plain": [
       "1    0.444444\n",
       "2    0.361111\n",
       "3    0.194444\n",
       "dtype: float64"
      ]
     },
     "execution_count": 15,
     "metadata": {},
     "output_type": "execute_result"
    }
   ],
   "source": [
    "pd.Series(y_test).value_counts()/36"
   ]
  },
  {
   "cell_type": "code",
   "execution_count": 16,
   "id": "19c03321",
   "metadata": {},
   "outputs": [],
   "source": [
    "# we can split the daya in a stratified fashion, using this as the class labels \n",
    "x_train, x_test, y_train, y_test = train_test_split(X, Y, test_size=0.2, stratify=Y)"
   ]
  },
  {
   "cell_type": "code",
   "execution_count": 17,
   "id": "c3ca6f0f",
   "metadata": {},
   "outputs": [
    {
     "data": {
      "text/plain": [
       "2    0.401408\n",
       "1    0.330986\n",
       "3    0.267606\n",
       "dtype: float64"
      ]
     },
     "execution_count": 17,
     "metadata": {},
     "output_type": "execute_result"
    }
   ],
   "source": [
    "pd.Series(y_train).value_counts()/142"
   ]
  },
  {
   "cell_type": "code",
   "execution_count": 18,
   "id": "d303c82a",
   "metadata": {},
   "outputs": [
    {
     "data": {
      "text/plain": [
       "2    0.388889\n",
       "1    0.333333\n",
       "3    0.277778\n",
       "dtype: float64"
      ]
     },
     "execution_count": 18,
     "metadata": {},
     "output_type": "execute_result"
    }
   ],
   "source": [
    "pd.Series(y_test).value_counts()/36"
   ]
  },
  {
   "cell_type": "markdown",
   "id": "8e324233",
   "metadata": {},
   "source": [
    "## Look at basic plots"
   ]
  },
  {
   "cell_type": "code",
   "execution_count": 25,
   "id": "5675e084",
   "metadata": {},
   "outputs": [
    {
     "data": {
      "text/plain": [
       "array([[<AxesSubplot:xlabel='5', ylabel='5'>,\n",
       "        <AxesSubplot:xlabel='6', ylabel='5'>,\n",
       "        <AxesSubplot:xlabel='7', ylabel='5'>,\n",
       "        <AxesSubplot:xlabel='8', ylabel='5'>,\n",
       "        <AxesSubplot:xlabel='9', ylabel='5'>],\n",
       "       [<AxesSubplot:xlabel='5', ylabel='6'>,\n",
       "        <AxesSubplot:xlabel='6', ylabel='6'>,\n",
       "        <AxesSubplot:xlabel='7', ylabel='6'>,\n",
       "        <AxesSubplot:xlabel='8', ylabel='6'>,\n",
       "        <AxesSubplot:xlabel='9', ylabel='6'>],\n",
       "       [<AxesSubplot:xlabel='5', ylabel='7'>,\n",
       "        <AxesSubplot:xlabel='6', ylabel='7'>,\n",
       "        <AxesSubplot:xlabel='7', ylabel='7'>,\n",
       "        <AxesSubplot:xlabel='8', ylabel='7'>,\n",
       "        <AxesSubplot:xlabel='9', ylabel='7'>],\n",
       "       [<AxesSubplot:xlabel='5', ylabel='8'>,\n",
       "        <AxesSubplot:xlabel='6', ylabel='8'>,\n",
       "        <AxesSubplot:xlabel='7', ylabel='8'>,\n",
       "        <AxesSubplot:xlabel='8', ylabel='8'>,\n",
       "        <AxesSubplot:xlabel='9', ylabel='8'>],\n",
       "       [<AxesSubplot:xlabel='5', ylabel='9'>,\n",
       "        <AxesSubplot:xlabel='6', ylabel='9'>,\n",
       "        <AxesSubplot:xlabel='7', ylabel='9'>,\n",
       "        <AxesSubplot:xlabel='8', ylabel='9'>,\n",
       "        <AxesSubplot:xlabel='9', ylabel='9'>]], dtype=object)"
      ]
     },
     "execution_count": 25,
     "metadata": {},
     "output_type": "execute_result"
    },
    {
     "data": {
      "image/png": "[encoded data removed]",
      "text/plain": [
       "<Figure size 864x576 with 25 Axes>"
      ]
     },
     "metadata": {
      "needs_background": "light"
     },
     "output_type": "display_data"
    }
   ],
   "source": [
    "df_train = pd.DataFrame(x_train)\n",
    "pd.plotting.scatter_matrix(df_train.iloc[:,5:10], figsize=(12,8))"
   ]
  },
  {
   "cell_type": "markdown",
   "id": "31ce71fa",
   "metadata": {},
   "source": [
    "## Standarize your data\n",
    "We will be fitting a linear model. In this case is always a good idea to standarize your data. If we want to \"regularize\" we have to standarize. The `StandardScaler()` will compute mean and standard deviation from the training set and apply it to the training and test sets.\n",
    "\n",
    "If we don't scale the data sometimes the linear model doesn't converge fast enough."
   ]
  },
  {
   "cell_type": "code",
   "execution_count": 47,
   "id": "debf9d38",
   "metadata": {},
   "outputs": [
    {
     "data": {
      "text/plain": [
       "StandardScaler()"
      ]
     },
     "execution_count": 47,
     "metadata": {},
     "output_type": "execute_result"
    }
   ],
   "source": [
    "scaler = StandardScaler() # creates the scaler\n",
    "scaler.fit(x_train) # computes mean and standard deviation from training data"
   ]
  },
  {
   "cell_type": "code",
   "execution_count": 48,
   "id": "d49d19ec",
   "metadata": {},
   "outputs": [
    {
     "data": {
      "text/plain": [
       "array([1.30245775e+01, 2.33218310e+00, 2.36239437e+00, 1.93366197e+01,\n",
       "       9.94507042e+01, 2.27225352e+00, 2.00978873e+00, 3.65704225e-01,\n",
       "       1.55809859e+00, 5.08633802e+00, 9.63563380e-01, 2.58612676e+00,\n",
       "       7.45640845e+02])"
      ]
     },
     "execution_count": 48,
     "metadata": {},
     "output_type": "execute_result"
    }
   ],
   "source": [
    "scaler.mean_"
   ]
  },
  {
   "cell_type": "code",
   "execution_count": 50,
   "id": "4b22d35e",
   "metadata": {},
   "outputs": [],
   "source": [
    "# transforms both the train and test sets\n",
    "X_train = scaler.transform(x_train)\n",
    "X_test = scaler.transform(x_test)"
   ]
  },
  {
   "cell_type": "code",
   "execution_count": 53,
   "id": "234682c6",
   "metadata": {},
   "outputs": [
    {
     "data": {
      "text/plain": [
       "array([1., 1., 1., 1., 1., 1., 1., 1., 1., 1., 1., 1., 1.])"
      ]
     },
     "execution_count": 53,
     "metadata": {},
     "output_type": "execute_result"
    }
   ],
   "source": [
    "X_train.std(0)"
   ]
  },
  {
   "cell_type": "code",
   "execution_count": 54,
   "id": "78664983",
   "metadata": {},
   "outputs": [
    {
     "data": {
      "text/plain": [
       "array([0.9511094 , 1.06975048, 0.75575318, 0.92528777, 1.33251968,\n",
       "       0.91436947, 0.97037093, 1.05405061, 1.02187247, 0.93144176,\n",
       "       0.9437501 , 1.02538909, 0.9986537 ])"
      ]
     },
     "execution_count": 54,
     "metadata": {},
     "output_type": "execute_result"
    }
   ],
   "source": [
    "X_test.std(0) # it is not perfectly 1 because we used the std computed from training data"
   ]
  },
  {
   "cell_type": "markdown",
   "id": "13bc5d76",
   "metadata": {},
   "source": [
    "## Fit a model"
   ]
  },
  {
   "cell_type": "code",
   "execution_count": 55,
   "id": "8558ab7f",
   "metadata": {},
   "outputs": [
    {
     "data": {
      "text/plain": [
       "LogisticRegression(random_state=0)"
      ]
     },
     "execution_count": 55,
     "metadata": {},
     "output_type": "execute_result"
    }
   ],
   "source": [
    "clf = LogisticRegression(random_state=0) # this creates a model\n",
    "clf.fit(X_train, y_train)  # this fits the model to the training data"
   ]
  },
  {
   "cell_type": "code",
   "execution_count": 57,
   "id": "c82fec0d",
   "metadata": {},
   "outputs": [],
   "source": [
    "# predicting \n",
    "y_train_hat = clf.predict(X_train)\n",
    "y_test_hat = clf.predict(X_test)"
   ]
  },
  {
   "cell_type": "code",
   "execution_count": 60,
   "id": "393607a8",
   "metadata": {},
   "outputs": [
    {
     "data": {
      "text/plain": [
       "array([1, 2, 3, 2, 1, 3, 2, 1, 1, 2, 3, 2, 3, 2, 1, 2, 2, 3, 3, 1, 3, 1,\n",
       "       2, 2, 1, 2, 1, 3, 2, 3, 2, 2, 2, 1, 1, 1])"
      ]
     },
     "execution_count": 60,
     "metadata": {},
     "output_type": "execute_result"
    }
   ],
   "source": [
    "y_test_hat"
   ]
  },
  {
   "cell_type": "code",
   "execution_count": 63,
   "id": "5e87f7ab",
   "metadata": {},
   "outputs": [
    {
     "data": {
      "text/plain": [
       "(1.0, 0.9722222222222222)"
      ]
     },
     "execution_count": 63,
     "metadata": {},
     "output_type": "execute_result"
    }
   ],
   "source": [
    "# computing training and testing accuracy\n",
    "accuracy_score(y_train, y_train_hat), accuracy_score(y_test, y_test_hat)"
   ]
  },
  {
   "cell_type": "markdown",
   "id": "6ca4117d",
   "metadata": {},
   "source": [
    "## Looking at the model\n",
    "here is the documentation https://scikit-learn.org/stable/modules/generated/sklearn.linear_model.LogisticRegression.html"
   ]
  },
  {
   "cell_type": "code",
   "execution_count": 64,
   "id": "c495fc5a",
   "metadata": {},
   "outputs": [
    {
     "data": {
      "text/plain": [
       "array([[ 0.6484817 ,  0.19545057,  0.45522964, -0.91034698,  0.10248057,\n",
       "         0.25324525,  0.58167727, -0.18240792,  0.22641885,  0.10361721,\n",
       "         0.11871967,  0.64657878,  1.06606302],\n",
       "       [-0.96916712, -0.54117295, -0.74919003,  0.53761185, -0.25477716,\n",
       "         0.06432071,  0.267685  ,  0.2377493 ,  0.29003201, -0.94118529,\n",
       "         0.62165357,  0.04709558, -1.09157847],\n",
       "       [ 0.32068542,  0.34572238,  0.29396039,  0.37273513,  0.1522966 ,\n",
       "        -0.31756596, -0.84936227, -0.05534137, -0.51645086,  0.83756808,\n",
       "        -0.74037325, -0.69367436,  0.02551545]])"
      ]
     },
     "execution_count": 64,
     "metadata": {},
     "output_type": "execute_result"
    }
   ],
   "source": [
    "clf.coef_ # gives you the coeficients"
   ]
  },
  {
   "cell_type": "code",
   "execution_count": 66,
   "id": "6d7f0ec7",
   "metadata": {},
   "outputs": [
    {
     "data": {
      "text/plain": [
       "(3, 13)"
      ]
     },
     "execution_count": 66,
     "metadata": {},
     "output_type": "execute_result"
    }
   ],
   "source": [
    "clf.coef_.shape # notice the shape of the coeficients because we have 3 classes"
   ]
  },
  {
   "cell_type": "markdown",
   "id": "b67eff1d",
   "metadata": {},
   "source": [
    "## Visualizing decision boundaries for two variables"
   ]
  },
  {
   "cell_type": "code",
   "execution_count": 68,
   "id": "40d86ab6",
   "metadata": {},
   "outputs": [
    {
     "data": {
      "text/plain": [
       "LogisticRegression(random_state=0)"
      ]
     },
     "execution_count": 68,
     "metadata": {},
     "output_type": "execute_result"
    }
   ],
   "source": [
    "# let's fit a model with two variables\n",
    "clf = LogisticRegression(random_state=0) # this creates a model\n",
    "clf.fit(X_train[:,:2], y_train) "
   ]
  },
  {
   "cell_type": "code",
   "execution_count": 69,
   "id": "cf0882e2",
   "metadata": {},
   "outputs": [],
   "source": [
    "h = .02  # step size in the mesh\n",
    "xx, yy = np.meshgrid(np.arange(-1, 2, h), np.arange(-1, 2, h))\n",
    "Z = clf.predict(np.c_[xx.ravel(), yy.ravel()])"
   ]
  },
  {
   "cell_type": "code",
   "execution_count": 80,
   "id": "0e0dd5cc",
   "metadata": {},
   "outputs": [],
   "source": [
    "x1 = X_train[y_train == 1, 0]"
   ]
  },
  {
   "cell_type": "code",
   "execution_count": 81,
   "id": "8998bca6",
   "metadata": {},
   "outputs": [
    {
     "data": {
      "text/plain": [
       "array([ 0.91344825,  0.75414494, -0.21392898,  0.68062034,  1.66094836,\n",
       "        0.98697285, -0.11589617,  0.86443184,  0.90119415,  0.88894005,\n",
       "        2.21238287,  0.83992364,  1.26881715,  1.02373515,  1.03598925,\n",
       "        0.32525143,  0.47230064,  0.03115303,  1.46488276,  0.85217774,\n",
       "        0.31299733,  0.87668594,  0.65611214,  0.03115303,  0.97471875,\n",
       "        1.42812046,  0.65611214,  2.11435007,  0.33750554,  1.45262866,\n",
       "        1.67320246,  1.46488276,  0.26398093,  0.80316134,  0.26398093,\n",
       "        0.44779244,  0.05566123,  1.66094836,  1.44037456,  1.64869426,\n",
       "        0.03115303,  0.74189084,  0.59484164,  1.26881715,  0.03115303,\n",
       "        1.12176795,  1.07275155])"
      ]
     },
     "execution_count": 81,
     "metadata": {},
     "output_type": "execute_result"
    }
   ],
   "source": [
    "x1"
   ]
  },
  {
   "cell_type": "code",
   "execution_count": 95,
   "id": "5b1c5ede",
   "metadata": {},
   "outputs": [
    {
     "data": {
      "image/png": "[encoded data removed]",
      "text/plain": [
       "<Figure size 720x504 with 1 Axes>"
      ]
     },
     "metadata": {},
     "output_type": "display_data"
    }
   ],
   "source": [
    "Z = Z.reshape(xx.shape)\n",
    "plt.figure(1, figsize=(10, 7))\n",
    "plt.pcolormesh(xx, yy, Z, cmap=plt.cm.Pastel1, shading='auto')\n",
    "\n",
    "# Plot also the training points\n",
    "markers = [\"o\", \"v\", \"s\"]\n",
    "for l in [1,2,3]:\n",
    "    x1 = X_train[y_train == l, 0]\n",
    "    x2 = X_train[y_train == l, 1]\n",
    "    plt.scatter(x1, x2, marker=markers[l-1], edgecolor=\"black\", alpha=.5)\n",
    "plt.xlabel('feature 1')\n",
    "plt.ylabel('feature 2')\n",
    "\n",
    "plt.xlim(-1, 2)\n",
    "plt.ylim(-1, 2)\n",
    "plt.xticks(())\n",
    "plt.yticks(())\n",
    "\n",
    "plt.show()"
   ]
  },
  {
   "cell_type": "markdown",
   "id": "3e7b91a5",
   "metadata": {},
   "source": [
    "## In-class Lab\n",
    "1. Fit a random forest with 10 trees to the wine dataset. What test accuracy do you get?\n",
    "2. Get the Iris dataset from https://archive.ics.uci.edu/ml/datasets/iris or from sklean\n",
    "3. Split data into: train/ test\n",
    "4. Apply standard scaling\n",
    "5. Fit a logistic regression model\n",
    "6. Compute train and test accuracy\n",
    "7. Visualize the decision boundary on a model for two variables\n",
    "8. Read the sklearn documentation anf figure out how to predict probabilities instead of predicting a class for every observation"
   ]
  },
  {
   "cell_type": "code",
   "execution_count": null,
   "id": "a662c38a",
   "metadata": {},
   "outputs": [],
   "source": []
  }
 ],
 "metadata": {
  "kernelspec": {
   "display_name": "Python 3",
   "language": "python",
   "name": "python3"
  },
  "language_info": {
   "codemirror_mode": {
    "name": "ipython",
    "version": 3
   },
   "file_extension": ".py",
   "mimetype": "text/x-python",
   "name": "python",
   "nbconvert_exporter": "python",
   "pygments_lexer": "ipython3",
   "version": "3.8.10"
  }
 },
 "nbformat": 4,
 "nbformat_minor": 5
}
