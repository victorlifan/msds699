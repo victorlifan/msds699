{
 "cells": [
  {
   "cell_type": "markdown",
   "id": "396f306e",
   "metadata": {},
   "source": [
    "# Cross Validation and Bootstrap"
   ]
  },
  {
   "cell_type": "code",
   "execution_count": 1,
   "id": "b751de98",
   "metadata": {},
   "outputs": [],
   "source": [
    "import numpy as np\n",
    "import pandas as pd\n",
    "import matplotlib.pyplot as plt\n",
    "from sklearn.model_selection import train_test_split\n",
    "from sklearn.linear_model import LinearRegression\n",
    "from sklearn.preprocessing import StandardScaler\n",
    "from sklearn.model_selection import LeaveOneOut\n",
    "from sklearn.model_selection import cross_val_predict\n",
    "from sklearn.model_selection import cross_val_score\n",
    "from sklearn.model_selection import KFold\n",
    "from sklearn.metrics import r2_score"
   ]
  },
  {
   "cell_type": "markdown",
   "id": "d8f90f00",
   "metadata": {},
   "source": [
    "Get Auto data form here\n",
    "https://www.kaggle.com/uciml/autompg-dataset"
   ]
  },
  {
   "cell_type": "code",
   "execution_count": 2,
   "id": "a0268865",
   "metadata": {},
   "outputs": [
    {
     "name": "stdout",
     "output_type": "stream",
     "text": [
      "/Users/yannetinterian/teaching/ML-lab/msds699/notebooks\r\n"
     ]
    }
   ],
   "source": [
    "! pwd"
   ]
  },
  {
   "cell_type": "code",
   "execution_count": 3,
   "id": "e1fe7550",
   "metadata": {},
   "outputs": [
    {
     "name": "stdout",
     "output_type": "stream",
     "text": [
      "mpg,cylinders,displacement,horsepower,weight,acceleration,model year,origin,car name\r",
      "\r\n",
      "18,8,307,130,3504,12,70,1,chevrolet chevelle malibu\r",
      "\r\n",
      "15,8,350,165,3693,11.5,70,1,buick skylark 320\r",
      "\r\n",
      "18,8,318,150,3436,11,70,1,plymouth satellite\r",
      "\r\n",
      "16,8,304,150,3433,12,70,1,amc rebel sst\r",
      "\r\n",
      "17,8,302,140,3449,10.5,70,1,ford torino\r",
      "\r\n",
      "15,8,429,198,4341,10,70,1,ford galaxie 500\r",
      "\r\n",
      "14,8,454,220,4354,9,70,1,chevrolet impala\r",
      "\r\n",
      "14,8,440,215,4312,8.5,70,1,plymouth fury iii\r",
      "\r\n",
      "14,8,455,225,4425,10,70,1,pontiac catalina\r",
      "\r\n"
     ]
    }
   ],
   "source": [
    "! head auto-mpg.csv"
   ]
  },
  {
   "cell_type": "code",
   "execution_count": 4,
   "id": "61e6295b",
   "metadata": {},
   "outputs": [
    {
     "data": {
      "text/html": [
       "<div>\n",
       "<style scoped>\n",
       "    .dataframe tbody tr th:only-of-type {\n",
       "        vertical-align: middle;\n",
       "    }\n",
       "\n",
       "    .dataframe tbody tr th {\n",
       "        vertical-align: top;\n",
       "    }\n",
       "\n",
       "    .dataframe thead th {\n",
       "        text-align: right;\n",
       "    }\n",
       "</style>\n",
       "<table border=\"1\" class=\"dataframe\">\n",
       "  <thead>\n",
       "    <tr style=\"text-align: right;\">\n",
       "      <th></th>\n",
       "      <th>mpg</th>\n",
       "      <th>cylinders</th>\n",
       "      <th>displacement</th>\n",
       "      <th>horsepower</th>\n",
       "      <th>weight</th>\n",
       "      <th>acceleration</th>\n",
       "      <th>model year</th>\n",
       "      <th>origin</th>\n",
       "      <th>car name</th>\n",
       "    </tr>\n",
       "  </thead>\n",
       "  <tbody>\n",
       "    <tr>\n",
       "      <th>0</th>\n",
       "      <td>18.0</td>\n",
       "      <td>8</td>\n",
       "      <td>307.0</td>\n",
       "      <td>130.0</td>\n",
       "      <td>3504</td>\n",
       "      <td>12.0</td>\n",
       "      <td>70</td>\n",
       "      <td>1</td>\n",
       "      <td>chevrolet chevelle malibu</td>\n",
       "    </tr>\n",
       "    <tr>\n",
       "      <th>1</th>\n",
       "      <td>15.0</td>\n",
       "      <td>8</td>\n",
       "      <td>350.0</td>\n",
       "      <td>165.0</td>\n",
       "      <td>3693</td>\n",
       "      <td>11.5</td>\n",
       "      <td>70</td>\n",
       "      <td>1</td>\n",
       "      <td>buick skylark 320</td>\n",
       "    </tr>\n",
       "    <tr>\n",
       "      <th>2</th>\n",
       "      <td>18.0</td>\n",
       "      <td>8</td>\n",
       "      <td>318.0</td>\n",
       "      <td>150.0</td>\n",
       "      <td>3436</td>\n",
       "      <td>11.0</td>\n",
       "      <td>70</td>\n",
       "      <td>1</td>\n",
       "      <td>plymouth satellite</td>\n",
       "    </tr>\n",
       "    <tr>\n",
       "      <th>3</th>\n",
       "      <td>16.0</td>\n",
       "      <td>8</td>\n",
       "      <td>304.0</td>\n",
       "      <td>150.0</td>\n",
       "      <td>3433</td>\n",
       "      <td>12.0</td>\n",
       "      <td>70</td>\n",
       "      <td>1</td>\n",
       "      <td>amc rebel sst</td>\n",
       "    </tr>\n",
       "    <tr>\n",
       "      <th>4</th>\n",
       "      <td>17.0</td>\n",
       "      <td>8</td>\n",
       "      <td>302.0</td>\n",
       "      <td>140.0</td>\n",
       "      <td>3449</td>\n",
       "      <td>10.5</td>\n",
       "      <td>70</td>\n",
       "      <td>1</td>\n",
       "      <td>ford torino</td>\n",
       "    </tr>\n",
       "  </tbody>\n",
       "</table>\n",
       "</div>"
      ],
      "text/plain": [
       "    mpg  cylinders  displacement  horsepower  weight  acceleration  \\\n",
       "0  18.0          8         307.0       130.0    3504          12.0   \n",
       "1  15.0          8         350.0       165.0    3693          11.5   \n",
       "2  18.0          8         318.0       150.0    3436          11.0   \n",
       "3  16.0          8         304.0       150.0    3433          12.0   \n",
       "4  17.0          8         302.0       140.0    3449          10.5   \n",
       "\n",
       "   model year  origin                   car name  \n",
       "0          70       1  chevrolet chevelle malibu  \n",
       "1          70       1          buick skylark 320  \n",
       "2          70       1         plymouth satellite  \n",
       "3          70       1              amc rebel sst  \n",
       "4          70       1                ford torino  "
      ]
     },
     "execution_count": 4,
     "metadata": {},
     "output_type": "execute_result"
    }
   ],
   "source": [
    "df = pd.read_csv(\"auto-mpg.csv\", na_values=\"?\") # in this dataset \"?\" means NAs\n",
    "df.head()"
   ]
  },
  {
   "cell_type": "code",
   "execution_count": 5,
   "id": "f7f5a458",
   "metadata": {},
   "outputs": [
    {
     "data": {
      "text/html": [
       "<div>\n",
       "<style scoped>\n",
       "    .dataframe tbody tr th:only-of-type {\n",
       "        vertical-align: middle;\n",
       "    }\n",
       "\n",
       "    .dataframe tbody tr th {\n",
       "        vertical-align: top;\n",
       "    }\n",
       "\n",
       "    .dataframe thead th {\n",
       "        text-align: right;\n",
       "    }\n",
       "</style>\n",
       "<table border=\"1\" class=\"dataframe\">\n",
       "  <thead>\n",
       "    <tr style=\"text-align: right;\">\n",
       "      <th></th>\n",
       "      <th>mpg</th>\n",
       "      <th>horsepower</th>\n",
       "    </tr>\n",
       "  </thead>\n",
       "  <tbody>\n",
       "    <tr>\n",
       "      <th>0</th>\n",
       "      <td>18.0</td>\n",
       "      <td>130.0</td>\n",
       "    </tr>\n",
       "    <tr>\n",
       "      <th>1</th>\n",
       "      <td>15.0</td>\n",
       "      <td>165.0</td>\n",
       "    </tr>\n",
       "    <tr>\n",
       "      <th>2</th>\n",
       "      <td>18.0</td>\n",
       "      <td>150.0</td>\n",
       "    </tr>\n",
       "    <tr>\n",
       "      <th>3</th>\n",
       "      <td>16.0</td>\n",
       "      <td>150.0</td>\n",
       "    </tr>\n",
       "    <tr>\n",
       "      <th>4</th>\n",
       "      <td>17.0</td>\n",
       "      <td>140.0</td>\n",
       "    </tr>\n",
       "  </tbody>\n",
       "</table>\n",
       "</div>"
      ],
      "text/plain": [
       "    mpg  horsepower\n",
       "0  18.0       130.0\n",
       "1  15.0       165.0\n",
       "2  18.0       150.0\n",
       "3  16.0       150.0\n",
       "4  17.0       140.0"
      ]
     },
     "execution_count": 5,
     "metadata": {},
     "output_type": "execute_result"
    }
   ],
   "source": [
    "df = df.iloc[:,[0,3]]\n",
    "df.head()"
   ]
  },
  {
   "cell_type": "code",
   "execution_count": 6,
   "id": "cf6d8d2d",
   "metadata": {},
   "outputs": [
    {
     "data": {
      "text/plain": [
       "(398, 2)"
      ]
     },
     "execution_count": 6,
     "metadata": {},
     "output_type": "execute_result"
    }
   ],
   "source": [
    "df.shape"
   ]
  },
  {
   "cell_type": "code",
   "execution_count": 7,
   "id": "b0426842",
   "metadata": {},
   "outputs": [
    {
     "data": {
      "text/plain": [
       "(392, 2)"
      ]
     },
     "execution_count": 7,
     "metadata": {},
     "output_type": "execute_result"
    }
   ],
   "source": [
    "# we are dropping rows with NAs\n",
    "df = df.dropna() \n",
    "df.shape"
   ]
  },
  {
   "cell_type": "markdown",
   "id": "d20abd0a",
   "metadata": {},
   "source": [
    "## Fit regression and polynomial regressions"
   ]
  },
  {
   "cell_type": "code",
   "execution_count": 8,
   "id": "a09d37f4",
   "metadata": {},
   "outputs": [],
   "source": [
    "df[\"horsepower^2\"] = df[\"horsepower\"]**2\n",
    "df[\"horsepower^3\"] = df[\"horsepower\"]**3"
   ]
  },
  {
   "cell_type": "code",
   "execution_count": 9,
   "id": "8858c625",
   "metadata": {},
   "outputs": [
    {
     "data": {
      "text/html": [
       "<div>\n",
       "<style scoped>\n",
       "    .dataframe tbody tr th:only-of-type {\n",
       "        vertical-align: middle;\n",
       "    }\n",
       "\n",
       "    .dataframe tbody tr th {\n",
       "        vertical-align: top;\n",
       "    }\n",
       "\n",
       "    .dataframe thead th {\n",
       "        text-align: right;\n",
       "    }\n",
       "</style>\n",
       "<table border=\"1\" class=\"dataframe\">\n",
       "  <thead>\n",
       "    <tr style=\"text-align: right;\">\n",
       "      <th></th>\n",
       "      <th>mpg</th>\n",
       "      <th>horsepower</th>\n",
       "      <th>horsepower^2</th>\n",
       "      <th>horsepower^3</th>\n",
       "    </tr>\n",
       "  </thead>\n",
       "  <tbody>\n",
       "    <tr>\n",
       "      <th>0</th>\n",
       "      <td>18.0</td>\n",
       "      <td>130.0</td>\n",
       "      <td>16900.0</td>\n",
       "      <td>2197000.0</td>\n",
       "    </tr>\n",
       "    <tr>\n",
       "      <th>1</th>\n",
       "      <td>15.0</td>\n",
       "      <td>165.0</td>\n",
       "      <td>27225.0</td>\n",
       "      <td>4492125.0</td>\n",
       "    </tr>\n",
       "    <tr>\n",
       "      <th>2</th>\n",
       "      <td>18.0</td>\n",
       "      <td>150.0</td>\n",
       "      <td>22500.0</td>\n",
       "      <td>3375000.0</td>\n",
       "    </tr>\n",
       "    <tr>\n",
       "      <th>3</th>\n",
       "      <td>16.0</td>\n",
       "      <td>150.0</td>\n",
       "      <td>22500.0</td>\n",
       "      <td>3375000.0</td>\n",
       "    </tr>\n",
       "    <tr>\n",
       "      <th>4</th>\n",
       "      <td>17.0</td>\n",
       "      <td>140.0</td>\n",
       "      <td>19600.0</td>\n",
       "      <td>2744000.0</td>\n",
       "    </tr>\n",
       "  </tbody>\n",
       "</table>\n",
       "</div>"
      ],
      "text/plain": [
       "    mpg  horsepower  horsepower^2  horsepower^3\n",
       "0  18.0       130.0       16900.0     2197000.0\n",
       "1  15.0       165.0       27225.0     4492125.0\n",
       "2  18.0       150.0       22500.0     3375000.0\n",
       "3  16.0       150.0       22500.0     3375000.0\n",
       "4  17.0       140.0       19600.0     2744000.0"
      ]
     },
     "execution_count": 9,
     "metadata": {},
     "output_type": "execute_result"
    }
   ],
   "source": [
    "df.head()"
   ]
  },
  {
   "cell_type": "code",
   "execution_count": 10,
   "id": "927ac964",
   "metadata": {},
   "outputs": [],
   "source": [
    "Y = df.mpg.values"
   ]
  },
  {
   "cell_type": "code",
   "execution_count": 11,
   "id": "d2427317",
   "metadata": {},
   "outputs": [],
   "source": [
    "X = df.iloc[:,1:].values # ignore 0 column"
   ]
  },
  {
   "cell_type": "code",
   "execution_count": 12,
   "id": "80280be0",
   "metadata": {},
   "outputs": [
    {
     "data": {
      "text/plain": [
       "array([1.300e+02, 1.690e+04, 2.197e+06])"
      ]
     },
     "execution_count": 12,
     "metadata": {},
     "output_type": "execute_result"
    }
   ],
   "source": [
    "X[0]"
   ]
  },
  {
   "cell_type": "code",
   "execution_count": 33,
   "id": "46d236b7",
   "metadata": {},
   "outputs": [],
   "source": [
    "x_train, x_test, y_train, y_test = train_test_split(X, Y, test_size=0.2, random_state=15)"
   ]
  },
  {
   "cell_type": "code",
   "execution_count": 34,
   "id": "4c80fd02",
   "metadata": {},
   "outputs": [],
   "source": [
    "scaler = StandardScaler() # creates the scaler\n",
    "scaler.fit(x_train)\n",
    "X_train = scaler.transform(x_train)\n",
    "X_test = scaler.transform(x_test)"
   ]
  },
  {
   "cell_type": "code",
   "execution_count": 35,
   "id": "e34f9f9f",
   "metadata": {},
   "outputs": [],
   "source": [
    "# regression fit mpg∼horsepower "
   ]
  },
  {
   "cell_type": "code",
   "execution_count": 36,
   "id": "648e2113",
   "metadata": {},
   "outputs": [],
   "source": [
    "reg = LinearRegression().fit(X_train[:, 0].reshape(-1, 1), y_train)"
   ]
  },
  {
   "cell_type": "code",
   "execution_count": 37,
   "id": "6c1e4d28",
   "metadata": {},
   "outputs": [
    {
     "data": {
      "text/plain": [
       "(0.6201957965920296, 0.5570680987647478)"
      ]
     },
     "execution_count": 37,
     "metadata": {},
     "output_type": "execute_result"
    }
   ],
   "source": [
    "# training and test scores\n",
    "reg.score(X_train[:, 0].reshape(-1, 1),  y_train), reg.score(X_test[:, 0].reshape(-1, 1),  y_test)"
   ]
  },
  {
   "cell_type": "code",
   "execution_count": 38,
   "id": "bf4bff9f",
   "metadata": {},
   "outputs": [
    {
     "data": {
      "text/plain": [
       "<AxesSubplot:>"
      ]
     },
     "execution_count": 38,
     "metadata": {},
     "output_type": "execute_result"
    },
    {
     "data": {
      "image/png": "[encoded data removed]",
      "text/plain": [
       "<Figure size 432x288 with 1 Axes>"
      ]
     },
     "metadata": {
      "needs_background": "light"
     },
     "output_type": "display_data"
    }
   ],
   "source": [
    "import seaborn as sns\n",
    "sns.regplot(x=X_train[:, 0], y=y_train, ci=None, scatter_kws={'alpha':0.3})\n",
    "sns.scatterplot(x=X_test[:, 0], y=y_test, color=\"green\") # test set in green"
   ]
  },
  {
   "cell_type": "code",
   "execution_count": 39,
   "id": "d2e3ac5e",
   "metadata": {},
   "outputs": [
    {
     "data": {
      "text/plain": [
       "(0.6903645830748442, 0.6750814474139647)"
      ]
     },
     "execution_count": 39,
     "metadata": {},
     "output_type": "execute_result"
    }
   ],
   "source": [
    "# regression with horsepower and horsepower^2\n",
    "reg = LinearRegression().fit(X_train[:, 0:2], y_train)\n",
    "reg.score(X_train[:, 0:2],  y_train), reg.score(X_test[:, 0:2],  y_test)"
   ]
  },
  {
   "cell_type": "code",
   "execution_count": 40,
   "id": "8b879a67",
   "metadata": {},
   "outputs": [
    {
     "data": {
      "text/plain": [
       "(0.6904267951606329, 0.6729482613896043)"
      ]
     },
     "execution_count": 40,
     "metadata": {},
     "output_type": "execute_result"
    }
   ],
   "source": [
    "# regression with horsepower, horsepower^2, horsepower^3\n",
    "reg = LinearRegression().fit(X_train, y_train)\n",
    "reg.score(X_train,  y_train), reg.score(X_test,  y_test)"
   ]
  },
  {
   "cell_type": "markdown",
   "id": "a96bfbf4",
   "metadata": {},
   "source": [
    "## Leave-One-Out Cross-Validation"
   ]
  },
  {
   "cell_type": "markdown",
   "id": "701dfafc",
   "metadata": {},
   "source": [
    "### without scaling"
   ]
  },
  {
   "cell_type": "code",
   "execution_count": 41,
   "id": "0fcc40d9",
   "metadata": {},
   "outputs": [],
   "source": [
    "cv = LeaveOneOut()\n",
    "y_pred = cross_val_predict(reg, X, Y, cv=cv) # note that we are not doing sacling here"
   ]
  },
  {
   "cell_type": "code",
   "execution_count": 42,
   "id": "d14043e9",
   "metadata": {},
   "outputs": [
    {
     "data": {
      "text/plain": [
       "0.681795380529385"
      ]
     },
     "execution_count": 42,
     "metadata": {},
     "output_type": "execute_result"
    }
   ],
   "source": [
    "r2_score(Y, y_pred)"
   ]
  },
  {
   "cell_type": "markdown",
   "id": "33bc9f21",
   "metadata": {},
   "source": [
    "### with scaling"
   ]
  },
  {
   "cell_type": "code",
   "execution_count": 43,
   "id": "1b2e09cd",
   "metadata": {},
   "outputs": [
    {
     "data": {
      "text/plain": [
       "392"
      ]
     },
     "execution_count": 43,
     "metadata": {},
     "output_type": "execute_result"
    }
   ],
   "source": [
    "# with scaling\n",
    "kf = KFold(n_splits=Y.shape[0])\n",
    "kf.get_n_splits(X)"
   ]
  },
  {
   "cell_type": "code",
   "execution_count": 44,
   "id": "14cf5157",
   "metadata": {},
   "outputs": [],
   "source": [
    "pred = []\n",
    "for train_index, test_index in kf.split(X):\n",
    "    X_train, X_test = X[train_index], X[test_index]\n",
    "    y_train = Y[train_index]\n",
    "    scaler = StandardScaler() # creates the scaler\n",
    "    scaler.fit(X_train)\n",
    "    X_train = scaler.transform(X_train)\n",
    "    X_test = scaler.transform(X_test)\n",
    "    reg = LinearRegression().fit(X_train, y_train)\n",
    "    pred.append(reg.predict(X_test))"
   ]
  },
  {
   "cell_type": "code",
   "execution_count": 45,
   "id": "8fcb42e3",
   "metadata": {},
   "outputs": [
    {
     "data": {
      "text/plain": [
       "0.6817953805293937"
      ]
     },
     "execution_count": 45,
     "metadata": {},
     "output_type": "execute_result"
    }
   ],
   "source": [
    "r2_score(Y, pred)"
   ]
  },
  {
   "cell_type": "markdown",
   "id": "b1d072cf",
   "metadata": {},
   "source": [
    "## K fold cross-validation"
   ]
  },
  {
   "cell_type": "code",
   "execution_count": 46,
   "id": "76022ed2",
   "metadata": {},
   "outputs": [
    {
     "data": {
      "text/plain": [
       "array([ 0.53691175,  0.57102984,  0.29236569,  0.44699787,  0.43364399,\n",
       "        0.7540499 ,  0.72886936,  0.5990077 , -0.45360827, -0.09046623])"
      ]
     },
     "execution_count": 46,
     "metadata": {},
     "output_type": "execute_result"
    }
   ],
   "source": [
    "# this is the wrong way to do this\n",
    "reg = LinearRegression()\n",
    "scores = cross_val_score(reg, X, Y, cv=10, scoring=\"r2\")\n",
    "scores"
   ]
  },
  {
   "cell_type": "code",
   "execution_count": 47,
   "id": "50a47da3",
   "metadata": {},
   "outputs": [
    {
     "data": {
      "text/plain": [
       "0.3818801601466527"
      ]
     },
     "execution_count": 47,
     "metadata": {},
     "output_type": "execute_result"
    }
   ],
   "source": [
    "np.mean(scores)"
   ]
  },
  {
   "cell_type": "code",
   "execution_count": 48,
   "id": "f374ef67",
   "metadata": {},
   "outputs": [
    {
     "data": {
      "text/plain": [
       "0.6494154103996537"
      ]
     },
     "execution_count": 48,
     "metadata": {},
     "output_type": "execute_result"
    }
   ],
   "source": [
    "# this is the right way\n",
    "reg = LinearRegression()\n",
    "y_pred = cross_val_predict(reg, X, Y, cv=10)\n",
    "r2_score(Y, y_pred)"
   ]
  },
  {
   "cell_type": "code",
   "execution_count": 49,
   "id": "b62dde4b",
   "metadata": {},
   "outputs": [
    {
     "data": {
      "text/plain": [
       "10"
      ]
     },
     "execution_count": 49,
     "metadata": {},
     "output_type": "execute_result"
    }
   ],
   "source": [
    "# with scaling\n",
    "kf = KFold(n_splits=10)\n",
    "kf.get_n_splits(X)"
   ]
  },
  {
   "cell_type": "code",
   "execution_count": 50,
   "id": "88aa03f4",
   "metadata": {},
   "outputs": [],
   "source": [
    "pred = []\n",
    "ys = []\n",
    "for train_index, test_index in kf.split(X):\n",
    "    X_train, X_test = X[train_index], X[test_index]\n",
    "    y_train, y_test = Y[train_index], Y[test_index]\n",
    "    scaler = StandardScaler() # creates the scaler\n",
    "    scaler.fit(X_train)\n",
    "    X_train = scaler.transform(X_train)\n",
    "    X_test = scaler.transform(X_test)\n",
    "    reg = LinearRegression().fit(X_train, y_train)\n",
    "    pred.append(reg.predict(X_test))\n",
    "    ys.append(y_test)"
   ]
  },
  {
   "cell_type": "code",
   "execution_count": 51,
   "id": "d7095dd9",
   "metadata": {},
   "outputs": [
    {
     "data": {
      "text/plain": [
       "0.6494154103996452"
      ]
     },
     "execution_count": 51,
     "metadata": {},
     "output_type": "execute_result"
    }
   ],
   "source": [
    "r2_score(np.concatenate(ys), np.concatenate(pred))"
   ]
  },
  {
   "cell_type": "markdown",
   "id": "8fbaff78",
   "metadata": {},
   "source": [
    "## Regularized regression (l2)\n",
    "\n",
    "RidgeCV automatically finds the best hyper-parameters for regularized logistic regression (l2). In this case the only parameter is the regularization strength. "
   ]
  },
  {
   "cell_type": "code",
   "execution_count": 52,
   "id": "5dde0dcf",
   "metadata": {},
   "outputs": [],
   "source": [
    "from sklearn.linear_model import RidgeCV\n",
    "from sklearn.linear_model import Ridge"
   ]
  },
  {
   "cell_type": "markdown",
   "id": "4fe81060",
   "metadata": {},
   "source": [
    "### wrong way: without scaling"
   ]
  },
  {
   "cell_type": "code",
   "execution_count": 53,
   "id": "fa29ebe6",
   "metadata": {},
   "outputs": [
    {
     "data": {
      "text/plain": [
       "((392, 3), (392,))"
      ]
     },
     "execution_count": 53,
     "metadata": {},
     "output_type": "execute_result"
    }
   ],
   "source": [
    "X = df.iloc[:,1:].values # ignore 0 column\n",
    "Y = df.iloc[:,0].values\n",
    "X.shape, Y.shape"
   ]
  },
  {
   "cell_type": "code",
   "execution_count": 54,
   "id": "e4ee24d9",
   "metadata": {},
   "outputs": [],
   "source": [
    "x_train, x_test, y_train, y_test = train_test_split(X, Y, test_size=0.2, random_state=15)\n",
    "# cross-validation with the training set\n",
    "clf = RidgeCV(cv=10).fit(x_train, y_train)"
   ]
  },
  {
   "cell_type": "code",
   "execution_count": 55,
   "id": "67d751d7",
   "metadata": {},
   "outputs": [
    {
     "data": {
      "text/plain": [
       "10.0"
      ]
     },
     "execution_count": 55,
     "metadata": {},
     "output_type": "execute_result"
    }
   ],
   "source": [
    "clf.alpha_"
   ]
  },
  {
   "cell_type": "code",
   "execution_count": 56,
   "id": "626f6124",
   "metadata": {},
   "outputs": [
    {
     "data": {
      "text/plain": [
       "0.6726599101162211"
      ]
     },
     "execution_count": 56,
     "metadata": {},
     "output_type": "execute_result"
    }
   ],
   "source": [
    "clf.score(x_test, y_test)"
   ]
  },
  {
   "cell_type": "markdown",
   "id": "47d21dd4",
   "metadata": {},
   "source": [
    "### with scaling"
   ]
  },
  {
   "cell_type": "code",
   "execution_count": 57,
   "id": "0522bca6",
   "metadata": {},
   "outputs": [],
   "source": [
    "scaler = StandardScaler() # creates the scaler\n",
    "scaler.fit(x_train)\n",
    "X_train = scaler.transform(x_train)\n",
    "X_test = scaler.transform(x_test)"
   ]
  },
  {
   "cell_type": "code",
   "execution_count": 58,
   "id": "a2016986",
   "metadata": {},
   "outputs": [
    {
     "data": {
      "text/plain": [
       "1.0"
      ]
     },
     "execution_count": 58,
     "metadata": {},
     "output_type": "execute_result"
    }
   ],
   "source": [
    "clf = RidgeCV(cv=10).fit(X_train, y_train)\n",
    "clf.alpha_"
   ]
  },
  {
   "cell_type": "code",
   "execution_count": 59,
   "id": "93057359",
   "metadata": {},
   "outputs": [
    {
     "data": {
      "text/plain": [
       "0.660881886411143"
      ]
     },
     "execution_count": 59,
     "metadata": {},
     "output_type": "execute_result"
    }
   ],
   "source": [
    "clf.score(X_test, y_test)"
   ]
  },
  {
   "cell_type": "code",
   "execution_count": 60,
   "id": "496df321",
   "metadata": {},
   "outputs": [
    {
     "data": {
      "text/plain": [
       "0.660881886411143"
      ]
     },
     "execution_count": 60,
     "metadata": {},
     "output_type": "execute_result"
    }
   ],
   "source": [
    "clf = Ridge(alpha=1).fit(X_train, y_train)\n",
    "clf.score(X_test, y_test)"
   ]
  },
  {
   "cell_type": "markdown",
   "id": "c3d32d27",
   "metadata": {},
   "source": [
    "This is still not perfect. Why?"
   ]
  },
  {
   "cell_type": "markdown",
   "id": "a9ebd250",
   "metadata": {},
   "source": [
    "### more perfect but more complicated"
   ]
  },
  {
   "cell_type": "code",
   "execution_count": 61,
   "id": "0c5e495c",
   "metadata": {},
   "outputs": [
    {
     "data": {
      "text/plain": [
       "10"
      ]
     },
     "execution_count": 61,
     "metadata": {},
     "output_type": "execute_result"
    }
   ],
   "source": [
    "kf = KFold(n_splits=10)\n",
    "kf.get_n_splits(x_train)"
   ]
  },
  {
   "cell_type": "code",
   "execution_count": 62,
   "id": "5aee6f0a",
   "metadata": {},
   "outputs": [],
   "source": [
    "def score_given_alpha(alpha, kf, x, y):\n",
    "    pred = []\n",
    "    ys = []\n",
    "    for train_index, val_index in kf.split(x):\n",
    "        x_train, x_val = x[train_index], x[val_index]\n",
    "        y_train, y_val = y[train_index], y[val_index]\n",
    "        scaler = StandardScaler() # creates the scaler\n",
    "        scaler.fit(x_train)\n",
    "        X_train = scaler.transform(x_train)\n",
    "        X_val = scaler.transform(x_val)\n",
    "        reg = Ridge(alpha=alpha).fit(X_train, y_train)\n",
    "        pred.append(reg.predict(X_val))\n",
    "        ys.append(y_val)\n",
    "    return r2_score(np.concatenate(ys), np.concatenate(pred))"
   ]
  },
  {
   "cell_type": "code",
   "execution_count": 63,
   "id": "5806cf7a",
   "metadata": {},
   "outputs": [],
   "source": [
    "scores = {}\n",
    "for alpha in [0.001, 0.01, 0.1, 1, 10, 100]:\n",
    "    scores[alpha] = score_given_alpha(alpha, kf, x_train, y_train)"
   ]
  },
  {
   "cell_type": "code",
   "execution_count": 64,
   "id": "1d3c4844",
   "metadata": {},
   "outputs": [
    {
     "data": {
      "text/plain": [
       "{0.001: 0.6790210807010653,\n",
       " 0.01: 0.6794876417296573,\n",
       " 0.1: 0.6815043805957803,\n",
       " 1: 0.6825696719878651,\n",
       " 10: 0.6607684847828713,\n",
       " 100: 0.55997913277509}"
      ]
     },
     "execution_count": 64,
     "metadata": {},
     "output_type": "execute_result"
    }
   ],
   "source": [
    "scores"
   ]
  },
  {
   "cell_type": "code",
   "execution_count": 66,
   "id": "da389461",
   "metadata": {},
   "outputs": [
    {
     "data": {
      "text/plain": [
       "0.660881886411143"
      ]
     },
     "execution_count": 66,
     "metadata": {},
     "output_type": "execute_result"
    }
   ],
   "source": [
    "clf = Ridge(alpha=1).fit(X_train, y_train)\n",
    "clf.score(X_test, y_test)"
   ]
  },
  {
   "cell_type": "markdown",
   "id": "9921c3ac",
   "metadata": {},
   "source": [
    "## Confidence interval for test R^2 with Bootstrap"
   ]
  },
  {
   "cell_type": "code",
   "execution_count": null,
   "id": "55e198af",
   "metadata": {},
   "outputs": [],
   "source": []
  },
  {
   "cell_type": "markdown",
   "id": "4aafcfc9",
   "metadata": {},
   "source": [
    "## Lab: implement k-fold-crossvalidation from scratch"
   ]
  },
  {
   "cell_type": "code",
   "execution_count": null,
   "id": "d2088db5",
   "metadata": {},
   "outputs": [],
   "source": []
  }
 ],
 "metadata": {
  "kernelspec": {
   "display_name": "Python 3",
   "language": "python",
   "name": "python3"
  },
  "language_info": {
   "codemirror_mode": {
    "name": "ipython",
    "version": 3
   },
   "file_extension": ".py",
   "mimetype": "text/x-python",
   "name": "python",
   "nbconvert_exporter": "python",
   "pygments_lexer": "ipython3",
   "version": "3.8.10"
  }
 },
 "nbformat": 4,
 "nbformat_minor": 5
}
